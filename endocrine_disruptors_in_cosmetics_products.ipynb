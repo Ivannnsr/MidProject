{
 "cells": [
  {
   "cell_type": "code",
   "execution_count": 1,
   "metadata": {},
   "outputs": [],
   "source": [
    "#Crucial libraries installation for this project in case you don not have them previously installed\n",
    "#!pip install beautifulsoup4\n",
    "#!pip install selenium\n",
    "#!pip install pandas\n",
    "#!pip install requests"
   ]
  },
  {
   "cell_type": "code",
   "execution_count": 2,
   "metadata": {},
   "outputs": [],
   "source": [
    "import pandas as pd \n",
    "import numpy as np\n",
    "from fuzzywuzzy import fuzz\n",
    "import plotly.express as px"
   ]
  },
  {
   "cell_type": "markdown",
   "metadata": {},
   "source": [
    "### **Step 1: Obtaining the data to work with. Using web scrapping methodologies**"
   ]
  },
  {
   "cell_type": "markdown",
   "metadata": {},
   "source": [
    "#### 1.1: Utilizing Selenium to extract URLs from Sephora's Spanish Website for three selected categories: Body, Treatment and Make-up"
   ]
  },
  {
   "cell_type": "markdown",
   "metadata": {},
   "source": [
    "###### In this case, the steps after getting the dataframes are commented out to avoid the long retrieval process and potential issues with Sephora's website security."
   ]
  },
  {
   "cell_type": "code",
   "execution_count": 3,
   "metadata": {},
   "outputs": [],
   "source": [
    "#from functions_ed_in_pc_cc import load_browser, click_see_more_button, scroll_and_extract_urls, urls_to_dataframe\n",
    "\n",
    "# List of URLs and their corresponding max_products and file name\n",
    "#categories = [\n",
    "    #{\"url\": 'https://www.sephora.es/todos-los-productos/cuerpo-c304/', \"max_products\": 710, \"filename\": 'product_urls_bodycare.csv'},\n",
    "    #{\"url\": 'https://www.sephora.es/todos-los-productos/tratamiento-c303/', \"max_products\": 2430, \"filename\": 'product_urls_treatment.csv'},\n",
    "    #{\"url\": 'https://www.sephora.es/todos-los-productos/maquillaje-c302/', \"max_products\": 2050, \"filename\": 'product_urls_makeup.csv'}\n",
    "#]\n",
    "\n",
    "# Configuration for the request\n",
    "#\"timeout = 15\"\n",
    "\n",
    "# Iterate over each category\n",
    "#for category in categories:\n",
    "    #url = category[\"url\"]\n",
    "    #max_products = category[\"max_products\"]\n",
    "    #filename = category[\"filename\"]\n",
    "\n",
    "    # Initialize and load the browser\n",
    "    #driver = load_browser(url)\n",
    "\n",
    "    # Click on the \"See More Products\" button if present\n",
    "    #click_see_more_button(driver, timeout)\n",
    "\n",
    "    # Perform infinite scrolling and extract product URLs\n",
    "    #product_urls = scroll_and_extract_urls(driver, max_products=max_products, scroll_pause_time=3)\n",
    "\n",
    "    # Show the total number of URLs collected\n",
    "    #print(f\"Total URLs collected for {url}: {len(product_urls)}\")\n",
    "\n",
    "    # Convert the list of URLs into a DataFrame and save to a CSV file\n",
    "    #df = urls_to_dataframe(product_urls, filename)\n",
    "\n",
    "    # Close the browser\n",
    "    #driver.quit()\n"
   ]
  },
  {
   "cell_type": "markdown",
   "metadata": {},
   "source": [
    "#### 1.2: Extracting Information with Beautiful Soup from URLs. <br>Fields to obtain: category, subcategory, product name, brand name, rating, review count, price, and ingredients."
   ]
  },
  {
   "cell_type": "markdown",
   "metadata": {},
   "source": [
    "###### In this case, the steps after getting the dataframes are commented out to avoid the long retrieval process and potential issues with Sephora's website security."
   ]
  },
  {
   "cell_type": "code",
   "execution_count": 4,
   "metadata": {},
   "outputs": [],
   "source": [
    "#from functions_ed_in_pc_cc import scrape_sephora_products\n",
    "\n",
    "# Load your product_urls DataFrames from the same folder\n",
    "#product_urls_makeup = pd.read_csv(r\"product_urls_makeup.csv\")  # Assuming the CSVs are in the same folder as the script\n",
    "#product_urls_treatment = pd.read_csv(r\"product_urls_treatment.csv\")\n",
    "#product_urls_bodycare = pd.read_csv(r\"product_urls_bodycare.csv\")\n",
    "\n",
    "# Call the function with each URLs DataFrame and collect the results\n",
    "#product_data_df_makeup = scrape_sephora_products(product_urls_makeup)\n",
    "#product_data_df_treatment = scrape_sephora_products(product_urls_treatment)\n",
    "#product_data_df_bodycare = scrape_sephora_products(product_urls_bodycare)\n",
    "\n",
    "# Combine the results into one DataFrame\n",
    "#personal_care_combined_product_data_df = pd.concat([product_data_df_makeup, product_data_df_treatment, product_data_df_bodycare], ignore_index=True)\n",
    "\n",
    "# Save the combined DataFrame to a CSV file\n",
    "#personal_care_combined_product_data_df.to_csv(r\"combined_product_data.csv\", index=False)  # Save in the same folder\n",
    "\n",
    "# Display the head and tail of the resulting DataFrame\n",
    "#print(personal_care_combined_product_data_df.head())\n",
    "#print(personal_care_combined_product_data_df.tail())"
   ]
  },
  {
   "cell_type": "markdown",
   "metadata": {},
   "source": [
    "### **Step 2: Cleaning the dataframe, handle null values and formatting**"
   ]
  },
  {
   "cell_type": "code",
   "execution_count": 5,
   "metadata": {},
   "outputs": [],
   "source": [
    "# Load the ingredients dataset from CSV\n",
    "ingredients_df = pd.read_csv('combined_product_data.csv')\n"
   ]
  },
  {
   "cell_type": "code",
   "execution_count": 6,
   "metadata": {},
   "outputs": [
    {
     "name": "stdout",
     "output_type": "stream",
     "text": [
      "(5146, 10)\n",
      "Number of rows: 5146\n",
      "Number of columns: 10\n"
     ]
    }
   ],
   "source": [
    "#Shape and format of the dataframe obtain from webscrapping\n",
    "print(ingredients_df.shape)\n",
    "print(\"Number of rows:\", ingredients_df.shape[0]) # Number of rows\n",
    "print(\"Number of columns:\", ingredients_df.shape[1]) # Number of columns"
   ]
  },
  {
   "cell_type": "code",
   "execution_count": 7,
   "metadata": {},
   "outputs": [
    {
     "data": {
      "text/html": [
       "<div>\n",
       "<style scoped>\n",
       "    .dataframe tbody tr th:only-of-type {\n",
       "        vertical-align: middle;\n",
       "    }\n",
       "\n",
       "    .dataframe tbody tr th {\n",
       "        vertical-align: top;\n",
       "    }\n",
       "\n",
       "    .dataframe thead th {\n",
       "        text-align: right;\n",
       "    }\n",
       "</style>\n",
       "<table border=\"1\" class=\"dataframe\">\n",
       "  <thead>\n",
       "    <tr style=\"text-align: right;\">\n",
       "      <th></th>\n",
       "      <th>subcategory1</th>\n",
       "      <th>subcategory2</th>\n",
       "      <th>subcategory3</th>\n",
       "      <th>product_name</th>\n",
       "      <th>brand_name</th>\n",
       "      <th>rating</th>\n",
       "      <th>review_count</th>\n",
       "      <th>price</th>\n",
       "      <th>ingredients</th>\n",
       "      <th>product_url</th>\n",
       "    </tr>\n",
       "  </thead>\n",
       "  <tbody>\n",
       "    <tr>\n",
       "      <th>0</th>\n",
       "      <td>Página de inicio</td>\n",
       "      <td>Maquillaje</td>\n",
       "      <td>Labios</td>\n",
       "      <td>Dior Addict - Barra de labios brillante 90 % d...</td>\n",
       "      <td>Dior</td>\n",
       "      <td>5.0</td>\n",
       "      <td>1.0</td>\n",
       "      <td>50,99  €(1)</td>\n",
       "      <td>#19645 METHYL HYDROGENATED ROSINATE • SQUALANE...</td>\n",
       "      <td>https://www.sephora.es/p/dior-addict---barra-d...</td>\n",
       "    </tr>\n",
       "    <tr>\n",
       "      <th>1</th>\n",
       "      <td>Página de inicio</td>\n",
       "      <td>Maquillaje</td>\n",
       "      <td>Rostro</td>\n",
       "      <td>CC Red Correct - Tratamiento iluminador correc...</td>\n",
       "      <td>Erborian</td>\n",
       "      <td>4.7</td>\n",
       "      <td>268.0</td>\n",
       "      <td>42,99  €(1)</td>\n",
       "      <td>AQUA/WATER, CYCLOMETHICONE, ETHYLHEXYL METHOXY...</td>\n",
       "      <td>https://www.sephora.es/p/cc-red-correct---ilum...</td>\n",
       "    </tr>\n",
       "    <tr>\n",
       "      <th>2</th>\n",
       "      <td>Página de inicio</td>\n",
       "      <td>Maquillaje</td>\n",
       "      <td>Estuches maquillaje</td>\n",
       "      <td>Moving Lights - Calendario de Adviento Premium</td>\n",
       "      <td>Sephora Collection</td>\n",
       "      <td>4.2</td>\n",
       "      <td>5.0</td>\n",
       "      <td>79,99  €(1)</td>\n",
       "      <td>PATCH NEZ CHARBON/CHARCOAL NOSE STRIP - EXTRAC...</td>\n",
       "      <td>https://www.sephora.es/p/moving-lights---calen...</td>\n",
       "    </tr>\n",
       "    <tr>\n",
       "      <th>3</th>\n",
       "      <td>Página de inicio</td>\n",
       "      <td>Maquillaje</td>\n",
       "      <td>Estuches maquillaje</td>\n",
       "      <td>Moving Lights - Calendario de Adviento</td>\n",
       "      <td>Sephora Collection</td>\n",
       "      <td>3.7</td>\n",
       "      <td>3.0</td>\n",
       "      <td>49,99  €(1)</td>\n",
       "      <td>MASCARA LOVE THE LIFT/LOVE THE LIFT MASCARA - ...</td>\n",
       "      <td>https://www.sephora.es/p/moving-lights---calen...</td>\n",
       "    </tr>\n",
       "    <tr>\n",
       "      <th>4</th>\n",
       "      <td>Página de inicio</td>\n",
       "      <td>Maquillaje</td>\n",
       "      <td>Rostro</td>\n",
       "      <td>Pillow Talk Iconic Blush and Glow Kit - Estuch...</td>\n",
       "      <td>Charlotte Tilbury</td>\n",
       "      <td>5.0</td>\n",
       "      <td>1.0</td>\n",
       "      <td>31,00  €(1)</td>\n",
       "      <td>PILLOW TALK BEAUTY LIGHT WAND - PILLOW TALK:IN...</td>\n",
       "      <td>https://www.sephora.es/p/pillow-talk-iconic-bl...</td>\n",
       "    </tr>\n",
       "  </tbody>\n",
       "</table>\n",
       "</div>"
      ],
      "text/plain": [
       "       subcategory1 subcategory2         subcategory3  \\\n",
       "0  Página de inicio   Maquillaje               Labios   \n",
       "1  Página de inicio   Maquillaje               Rostro   \n",
       "2  Página de inicio   Maquillaje  Estuches maquillaje   \n",
       "3  Página de inicio   Maquillaje  Estuches maquillaje   \n",
       "4  Página de inicio   Maquillaje               Rostro   \n",
       "\n",
       "                                        product_name          brand_name  \\\n",
       "0  Dior Addict - Barra de labios brillante 90 % d...                Dior   \n",
       "1  CC Red Correct - Tratamiento iluminador correc...            Erborian   \n",
       "2     Moving Lights - Calendario de Adviento Premium  Sephora Collection   \n",
       "3             Moving Lights - Calendario de Adviento  Sephora Collection   \n",
       "4  Pillow Talk Iconic Blush and Glow Kit - Estuch...   Charlotte Tilbury   \n",
       "\n",
       "   rating  review_count        price  \\\n",
       "0     5.0           1.0  50,99  €(1)   \n",
       "1     4.7         268.0  42,99  €(1)   \n",
       "2     4.2           5.0  79,99  €(1)   \n",
       "3     3.7           3.0  49,99  €(1)   \n",
       "4     5.0           1.0  31,00  €(1)   \n",
       "\n",
       "                                         ingredients  \\\n",
       "0  #19645 METHYL HYDROGENATED ROSINATE • SQUALANE...   \n",
       "1  AQUA/WATER, CYCLOMETHICONE, ETHYLHEXYL METHOXY...   \n",
       "2  PATCH NEZ CHARBON/CHARCOAL NOSE STRIP - EXTRAC...   \n",
       "3  MASCARA LOVE THE LIFT/LOVE THE LIFT MASCARA - ...   \n",
       "4  PILLOW TALK BEAUTY LIGHT WAND - PILLOW TALK:IN...   \n",
       "\n",
       "                                         product_url  \n",
       "0  https://www.sephora.es/p/dior-addict---barra-d...  \n",
       "1  https://www.sephora.es/p/cc-red-correct---ilum...  \n",
       "2  https://www.sephora.es/p/moving-lights---calen...  \n",
       "3  https://www.sephora.es/p/moving-lights---calen...  \n",
       "4  https://www.sephora.es/p/pillow-talk-iconic-bl...  "
      ]
     },
     "execution_count": 7,
     "metadata": {},
     "output_type": "execute_result"
    }
   ],
   "source": [
    "#Preview of the dataset\n",
    "ingredients_df.head()"
   ]
  },
  {
   "cell_type": "code",
   "execution_count": 8,
   "metadata": {},
   "outputs": [
    {
     "data": {
      "text/html": [
       "<div>\n",
       "<style scoped>\n",
       "    .dataframe tbody tr th:only-of-type {\n",
       "        vertical-align: middle;\n",
       "    }\n",
       "\n",
       "    .dataframe tbody tr th {\n",
       "        vertical-align: top;\n",
       "    }\n",
       "\n",
       "    .dataframe thead th {\n",
       "        text-align: right;\n",
       "    }\n",
       "</style>\n",
       "<table border=\"1\" class=\"dataframe\">\n",
       "  <thead>\n",
       "    <tr style=\"text-align: right;\">\n",
       "      <th></th>\n",
       "      <th>subcategory1</th>\n",
       "      <th>subcategory2</th>\n",
       "      <th>subcategory3</th>\n",
       "      <th>product_name</th>\n",
       "      <th>brand_name</th>\n",
       "      <th>rating</th>\n",
       "      <th>review_count</th>\n",
       "      <th>price</th>\n",
       "      <th>ingredients</th>\n",
       "      <th>product_url</th>\n",
       "    </tr>\n",
       "  </thead>\n",
       "  <tbody>\n",
       "    <tr>\n",
       "      <th>5141</th>\n",
       "      <td>Página de inicio</td>\n",
       "      <td>Cuerpo</td>\n",
       "      <td>Ducha &amp; baño</td>\n",
       "      <td>Jabón super graso - Bio &amp; 100% de origen natural</td>\n",
       "      <td>On The Wild Side</td>\n",
       "      <td>NaN</td>\n",
       "      <td>0.0</td>\n",
       "      <td>12,99  €(1)</td>\n",
       "      <td>SODIUM COCOATE(1), AQUA, GLYCERIN(1), SODIUM S...</td>\n",
       "      <td>https://www.sephora.es/p/jabon-super-graso---b...</td>\n",
       "    </tr>\n",
       "    <tr>\n",
       "      <th>5142</th>\n",
       "      <td>Página de inicio</td>\n",
       "      <td>Cuerpo</td>\n",
       "      <td>Solares</td>\n",
       "      <td>Gel Solar-Protección solar en gel</td>\n",
       "      <td>Clarins</td>\n",
       "      <td>1.0</td>\n",
       "      <td>1.0</td>\n",
       "      <td>34,99  €(1)</td>\n",
       "      <td>INGREDIENTS : AQUA/WATER/EAU. DIETHYLAMINO HYD...</td>\n",
       "      <td>https://www.sephora.es/p/gel-solar-proteccion-...</td>\n",
       "    </tr>\n",
       "    <tr>\n",
       "      <th>5143</th>\n",
       "      <td>Página de inicio</td>\n",
       "      <td>Cuerpo</td>\n",
       "      <td>Solares</td>\n",
       "      <td>Gel-en-Huile Solaire - Corps UVA/UVB 30 - Acei...</td>\n",
       "      <td>Clarins</td>\n",
       "      <td>3.0</td>\n",
       "      <td>1.0</td>\n",
       "      <td>34,99  €(1)</td>\n",
       "      <td>Aqua/Water/Eau. Homosalate. Octocrylene. Dieth...</td>\n",
       "      <td>https://www.sephora.es/p/aceite-solar--invisib...</td>\n",
       "    </tr>\n",
       "    <tr>\n",
       "      <th>5144</th>\n",
       "      <td>Página de inicio</td>\n",
       "      <td>Cuerpo</td>\n",
       "      <td>Tratamiento corporal</td>\n",
       "      <td>Noni Glow - Aceite corporal ligero y nutritivo</td>\n",
       "      <td>Kora Organics</td>\n",
       "      <td>3.9</td>\n",
       "      <td>54.0</td>\n",
       "      <td>59,99  €(1)</td>\n",
       "      <td>Rosa Canina Fruit Oil, Dicaprylyl (Vitamin E) ...</td>\n",
       "      <td>https://www.sephora.es/p/noni-glow-body-oil-P1...</td>\n",
       "    </tr>\n",
       "    <tr>\n",
       "      <th>5145</th>\n",
       "      <td>Página de inicio</td>\n",
       "      <td>Cuerpo</td>\n",
       "      <td>Solares</td>\n",
       "      <td>Lait Solaire - Leche solar hidratante</td>\n",
       "      <td>Biotherm</td>\n",
       "      <td>4.4</td>\n",
       "      <td>7.0</td>\n",
       "      <td>52,99  €(1)</td>\n",
       "      <td>885591 6 - INGREDIENTS:  AQUA / WATER / EAU • ...</td>\n",
       "      <td>https://www.sephora.es/p/lait-solaire---spf15-...</td>\n",
       "    </tr>\n",
       "  </tbody>\n",
       "</table>\n",
       "</div>"
      ],
      "text/plain": [
       "          subcategory1 subcategory2          subcategory3  \\\n",
       "5141  Página de inicio       Cuerpo          Ducha & baño   \n",
       "5142  Página de inicio       Cuerpo               Solares   \n",
       "5143  Página de inicio       Cuerpo               Solares   \n",
       "5144  Página de inicio       Cuerpo  Tratamiento corporal   \n",
       "5145  Página de inicio       Cuerpo               Solares   \n",
       "\n",
       "                                           product_name        brand_name  \\\n",
       "5141   Jabón super graso - Bio & 100% de origen natural  On The Wild Side   \n",
       "5142                  Gel Solar-Protección solar en gel           Clarins   \n",
       "5143  Gel-en-Huile Solaire - Corps UVA/UVB 30 - Acei...           Clarins   \n",
       "5144     Noni Glow - Aceite corporal ligero y nutritivo     Kora Organics   \n",
       "5145              Lait Solaire - Leche solar hidratante          Biotherm   \n",
       "\n",
       "      rating  review_count        price  \\\n",
       "5141     NaN           0.0  12,99  €(1)   \n",
       "5142     1.0           1.0  34,99  €(1)   \n",
       "5143     3.0           1.0  34,99  €(1)   \n",
       "5144     3.9          54.0  59,99  €(1)   \n",
       "5145     4.4           7.0  52,99  €(1)   \n",
       "\n",
       "                                            ingredients  \\\n",
       "5141  SODIUM COCOATE(1), AQUA, GLYCERIN(1), SODIUM S...   \n",
       "5142  INGREDIENTS : AQUA/WATER/EAU. DIETHYLAMINO HYD...   \n",
       "5143  Aqua/Water/Eau. Homosalate. Octocrylene. Dieth...   \n",
       "5144  Rosa Canina Fruit Oil, Dicaprylyl (Vitamin E) ...   \n",
       "5145  885591 6 - INGREDIENTS:  AQUA / WATER / EAU • ...   \n",
       "\n",
       "                                            product_url  \n",
       "5141  https://www.sephora.es/p/jabon-super-graso---b...  \n",
       "5142  https://www.sephora.es/p/gel-solar-proteccion-...  \n",
       "5143  https://www.sephora.es/p/aceite-solar--invisib...  \n",
       "5144  https://www.sephora.es/p/noni-glow-body-oil-P1...  \n",
       "5145  https://www.sephora.es/p/lait-solaire---spf15-...  "
      ]
     },
     "execution_count": 8,
     "metadata": {},
     "output_type": "execute_result"
    }
   ],
   "source": [
    "#Preview of the dataset\n",
    "ingredients_df.tail()"
   ]
  },
  {
   "cell_type": "code",
   "execution_count": 9,
   "metadata": {},
   "outputs": [
    {
     "data": {
      "text/plain": [
       "subcategory1       1\n",
       "subcategory2       7\n",
       "subcategory3      47\n",
       "product_name    4535\n",
       "brand_name       142\n",
       "rating            33\n",
       "review_count    1002\n",
       "price            419\n",
       "ingredients     4223\n",
       "product_url     4657\n",
       "dtype: int64"
      ]
     },
     "execution_count": 9,
     "metadata": {},
     "output_type": "execute_result"
    }
   ],
   "source": [
    "#Check unique values per each column and also column naming\n",
    "ingredients_df.nunique()"
   ]
  },
  {
   "cell_type": "markdown",
   "metadata": {},
   "source": [
    "Cleaning function"
   ]
  },
  {
   "cell_type": "code",
   "execution_count": 10,
   "metadata": {},
   "outputs": [],
   "source": [
    "def cleaning_columns(df):\n",
    "    \"\"\"\n",
    "    Cleans and standardizes various columns in the DataFrame:\n",
    "    - Removes irrelevant columns and specific values in subcategories.\n",
    "    - Translates and normalizes values in category columns.\n",
    "    - Cleans and converts prices to numeric format.\n",
    "    - Normalizes and standardizes the ingredients column.\n",
    "\n",
    "    Args:\n",
    "        df (pd.DataFrame): The DataFrame containing the columns to clean.\n",
    "\n",
    "    Returns:\n",
    "        pd.DataFrame: The cleaned and standardized DataFrame.\n",
    "    \"\"\"\n",
    "    \n",
    "    # Drop the 'subcategory1' column if it exists\n",
    "    df = df.drop(columns=['subcategory1'], errors='ignore')\n",
    "\n",
    "    # Filter out irrelevant rows in 'subcategory2'\n",
    "    irrelevant_values = ['Perfume', 'Cabello', 'Marcas', 'Desmaquillante rostro']\n",
    "    df = df[~df['subcategory2'].isin(irrelevant_values)]\n",
    "\n",
    "    # Rename 'subcategory2' to 'category' and translate values to English\n",
    "    df.rename(columns={'subcategory2': 'category'}, inplace=True)\n",
    "    translation_to_english_mapping = {\n",
    "        'Maquillaje': 'Makeup',\n",
    "        'Tratamiento': 'Treatment',\n",
    "        'Cuerpo': 'Body',\n",
    "    }\n",
    "    df['category'] = df['category'].replace(translation_to_english_mapping)\n",
    "\n",
    "    # Rename 'subcategory3' to 'subcategory'\n",
    "    df.rename(columns={'subcategory3': 'subcategory'}, inplace=True)\n",
    "\n",
    "    # Standardize values in 'subcategory3'\n",
    "    mapping_subcategory = {\n",
    "        'Labios': 'Lips',\n",
    "        'Rostro': 'Facial',\n",
    "        'Estuches maquillaje': 'Makeup kits',\n",
    "        'Ojos': 'Eyes',\n",
    "        'Paletas maquillaje': 'Eyes',\n",
    "        'Pinceles & accesorios': 'Eyebrows',\n",
    "        'Cejas': 'Eyebrows',\n",
    "        'Tipo de cuidado': 'Specific treatment claims',\n",
    "        'Desmaquillante': 'Makeup remover',\n",
    "        'Necesidades': 'Specific treatment claims',\n",
    "        'Estuches tratamiento': 'Treatment kits',\n",
    "        'Uñas': 'Nails',\n",
    "        'Solares': 'Sun care',\n",
    "        'Cuidado rostro hombre': 'Mens grooming',\n",
    "        'Tratamiento corporal': 'Body treatment',\n",
    "        'Estuches cuerpo & baño': 'Body kits',\n",
    "        'Mascarilla facial': 'Masks',\n",
    "        'Cuidado facial parafarmacia': 'Parapharmacy',\n",
    "        'Desodorante hombre': 'Mens grooming',\n",
    "        'Aftershave': 'Mens grooming',\n",
    "        'Gel afeitado & espuma': 'Mens grooming',\n",
    "        'cuidado corporal parafarmacia': 'Parapharmacy',\n",
    "        'Cuidado barba': 'Mens grooming',\n",
    "        'Gel ducha & jabón': 'Body wash',\n",
    "        'Ducha & baño': 'Body wash'\n",
    "    }\n",
    "    df['subcategory'] = df['subcategory'].apply(lambda x: mapping_subcategory.get(x, 'Others') if pd.notna(x) else np.nan)\n",
    "\n",
    "    # Clean and convert 'price' column to numeric format\n",
    "    if 'price' in df.columns:\n",
    "        df['price'] = (\n",
    "            df['price']\n",
    "            .str.replace(r'€', '', regex=True)            # Remove the \"€\" symbol\n",
    "            .str.replace(r'\\(.*?\\)', '', regex=True)      # Remove text in parentheses\n",
    "            .str.replace('.', '', regex=False)            # Remove thousand separator dots\n",
    "            .str.replace(',', '.', regex=False)           # Replace decimal commas with dots\n",
    "            .str.strip()                                  # Remove any whitespace\n",
    "            .astype(float)                                # Convert to float\n",
    "        )\n",
    "    \n",
    "    # Normalize and standardize 'ingredients' column\n",
    "    if 'ingredients' in df.columns:\n",
    "        df['ingredients'] = (df['ingredients']\n",
    "                             .str.lower()                                # Convert to lowercase\n",
    "                             .str.replace(r'[•\\s]+', ',', regex=True)    # Replace \"•\" and multiple spaces with commas\n",
    "                             .str.replace(r',+', ',', regex=True)        # Remove duplicate commas\n",
    "                             .str.strip(',')                             # Strip leading/trailing commas\n",
    "                            )\n",
    "\n",
    "    # Replace unwanted values with NaN\n",
    "    df.replace({\"N/A\": np.nan, \"0\": np.nan, \"\": np.nan}, inplace=True)\n",
    "\n",
    "    return df"
   ]
  },
  {
   "cell_type": "markdown",
   "metadata": {},
   "source": [
    "Handling null values"
   ]
  },
  {
   "cell_type": "code",
   "execution_count": 11,
   "metadata": {},
   "outputs": [],
   "source": [
    "\n",
    "def handle_null_values(df):\n",
    "    \"\"\"\n",
    "    Handle null values in the dataframe by either filling them or selectively removing rows.\n",
    "    \n",
    "    Args:\n",
    "    df (pd.DataFrame): The input dataframe with potential null values.\n",
    "    \n",
    "    Returns:\n",
    "    pd.DataFrame: The dataframe with specific null values handled.\n",
    "    \"\"\"\n",
    "    # Count the number of null values in each column before handling\n",
    "    print(\"Number of null values in each column before handling:\")\n",
    "    print(df.isna().sum())\n",
    "\n",
    "    # Fill NaN values in certain columns\n",
    "    df['rating'].fillna(0, inplace=True)  # Fill ratings with 'Not Rated'\n",
    "    df['review_count'].fillna(0, inplace=True)      # Fill review count with 0\n",
    "    df['price'].fillna(df['price'].mean(), inplace=True)  # Fill price with mean (or median) value\n",
    "    df['category'].fillna('Unknown', inplace=True) \n",
    "    df['subcategory'].fillna('Unknown', inplace=True)\n",
    "\n",
    "    # Replace null values in 'product_name' based on 'brand_name'\n",
    "    df['product_name'] = np.where(\n",
    "        df['product_name'].isna() & df['brand_name'].notna(),\n",
    "        'Unknown product from ' + df['brand_name'],\n",
    "        df['product_name']\n",
    "    )\n",
    "\n",
    "    # Drop rows where 'ingredients' is NaN\n",
    "    df = df.dropna(subset=['ingredients'])\n",
    "\n",
    "    # Drop rows where all columns are NaN\n",
    "    df = df.dropna(how='all')\n",
    "\n",
    "    # Check and print any remaining null values\n",
    "    remaining_nulls = df.isnull().sum()\n",
    "    print(\"\\nNumber of null values in each column after handling:\")\n",
    "    print(remaining_nulls[remaining_nulls > 0])\n",
    "\n",
    "    return df"
   ]
  },
  {
   "cell_type": "markdown",
   "metadata": {},
   "source": [
    "Handling duplicates"
   ]
  },
  {
   "cell_type": "code",
   "execution_count": 12,
   "metadata": {},
   "outputs": [],
   "source": [
    "def handle_duplicates(df):\n",
    "    \"\"\"\n",
    "    Identify and handle duplicate rows in the dataframe by removing them.\n",
    "    \n",
    "    Args:\n",
    "    df (pd.DataFrame): The input dataframe with potential duplicate rows.\n",
    "    \n",
    "    Returns:\n",
    "    pd.DataFrame: The dataframe with duplicates handled and index reset.\n",
    "    \"\"\"\n",
    "    # Count the number of duplicate rows\n",
    "    number_of_duplicates = df.duplicated().sum()\n",
    "    print(f\"Number of duplicated rows before cleaning: {number_of_duplicates}\")\n",
    "\n",
    "    # Remove duplicates and reset index\n",
    "    df_cleaned = df.drop_duplicates(keep='first').reset_index(drop=True)\n",
    "    \n",
    "    # Count duplicates again after cleaning\n",
    "    duplicates_after = df_cleaned.duplicated().sum()\n",
    "    print(f\"Number of duplicated rows after cleaning: {duplicates_after}\")\n",
    "\n",
    "    return df_cleaned"
   ]
  },
  {
   "cell_type": "markdown",
   "metadata": {},
   "source": [
    "Apply functions for finalize step 2"
   ]
  },
  {
   "cell_type": "code",
   "execution_count": 13,
   "metadata": {},
   "outputs": [
    {
     "name": "stdout",
     "output_type": "stream",
     "text": [
      "Number of null values in each column before handling:\n",
      "category           5\n",
      "subcategory       33\n",
      "product_name      84\n",
      "brand_name         1\n",
      "rating          1199\n",
      "review_count      85\n",
      "price             56\n",
      "ingredients      273\n",
      "product_url        0\n",
      "dtype: int64\n",
      "\n",
      "Number of null values in each column after handling:\n",
      "Series([], dtype: int64)\n",
      "Number of duplicated rows before cleaning: 455\n",
      "Number of duplicated rows after cleaning: 0\n"
     ]
    },
    {
     "name": "stderr",
     "output_type": "stream",
     "text": [
      "C:\\Users\\celia\\AppData\\Local\\Temp\\ipykernel_15092\\773820765.py:16: FutureWarning: A value is trying to be set on a copy of a DataFrame or Series through chained assignment using an inplace method.\n",
      "The behavior will change in pandas 3.0. This inplace method will never work because the intermediate object on which we are setting values always behaves as a copy.\n",
      "\n",
      "For example, when doing 'df[col].method(value, inplace=True)', try using 'df.method({col: value}, inplace=True)' or df[col] = df[col].method(value) instead, to perform the operation inplace on the original object.\n",
      "\n",
      "\n",
      "  df['rating'].fillna(0, inplace=True)  # Fill ratings with 'Not Rated'\n",
      "C:\\Users\\celia\\AppData\\Local\\Temp\\ipykernel_15092\\773820765.py:17: FutureWarning: A value is trying to be set on a copy of a DataFrame or Series through chained assignment using an inplace method.\n",
      "The behavior will change in pandas 3.0. This inplace method will never work because the intermediate object on which we are setting values always behaves as a copy.\n",
      "\n",
      "For example, when doing 'df[col].method(value, inplace=True)', try using 'df.method({col: value}, inplace=True)' or df[col] = df[col].method(value) instead, to perform the operation inplace on the original object.\n",
      "\n",
      "\n",
      "  df['review_count'].fillna(0, inplace=True)      # Fill review count with 0\n",
      "C:\\Users\\celia\\AppData\\Local\\Temp\\ipykernel_15092\\773820765.py:18: FutureWarning: A value is trying to be set on a copy of a DataFrame or Series through chained assignment using an inplace method.\n",
      "The behavior will change in pandas 3.0. This inplace method will never work because the intermediate object on which we are setting values always behaves as a copy.\n",
      "\n",
      "For example, when doing 'df[col].method(value, inplace=True)', try using 'df.method({col: value}, inplace=True)' or df[col] = df[col].method(value) instead, to perform the operation inplace on the original object.\n",
      "\n",
      "\n",
      "  df['price'].fillna(df['price'].mean(), inplace=True)  # Fill price with mean (or median) value\n",
      "C:\\Users\\celia\\AppData\\Local\\Temp\\ipykernel_15092\\773820765.py:19: FutureWarning: A value is trying to be set on a copy of a DataFrame or Series through chained assignment using an inplace method.\n",
      "The behavior will change in pandas 3.0. This inplace method will never work because the intermediate object on which we are setting values always behaves as a copy.\n",
      "\n",
      "For example, when doing 'df[col].method(value, inplace=True)', try using 'df.method({col: value}, inplace=True)' or df[col] = df[col].method(value) instead, to perform the operation inplace on the original object.\n",
      "\n",
      "\n",
      "  df['category'].fillna('Unknown', inplace=True)\n",
      "C:\\Users\\celia\\AppData\\Local\\Temp\\ipykernel_15092\\773820765.py:20: FutureWarning: A value is trying to be set on a copy of a DataFrame or Series through chained assignment using an inplace method.\n",
      "The behavior will change in pandas 3.0. This inplace method will never work because the intermediate object on which we are setting values always behaves as a copy.\n",
      "\n",
      "For example, when doing 'df[col].method(value, inplace=True)', try using 'df.method({col: value}, inplace=True)' or df[col] = df[col].method(value) instead, to perform the operation inplace on the original object.\n",
      "\n",
      "\n",
      "  df['subcategory'].fillna('Unknown', inplace=True)\n"
     ]
    }
   ],
   "source": [
    "# Step 1: Clean and standardize columns\n",
    "ingredients_cleaned_df = cleaning_columns(ingredients_df)\n",
    "\n",
    "# Step 2: Handle null values, including single NaN row removal\n",
    "ingredients_cleaned_null_treated_df = handle_null_values(ingredients_cleaned_df)\n",
    "\n",
    "# Step 3: Handle duplicates\n",
    "final_ingredients_df = handle_duplicates(ingredients_cleaned_null_treated_df)"
   ]
  },
  {
   "cell_type": "code",
   "execution_count": 14,
   "metadata": {},
   "outputs": [
    {
     "name": "stdout",
     "output_type": "stream",
     "text": [
      "(4318, 9)\n",
      "Number of rows: 4318\n",
      "Number of columns: 9\n"
     ]
    },
    {
     "data": {
      "text/plain": [
       "category           4\n",
       "subcategory       18\n",
       "product_name    4221\n",
       "brand_name       133\n",
       "rating            33\n",
       "review_count     969\n",
       "price            415\n",
       "ingredients     4119\n",
       "product_url     4318\n",
       "dtype: int64"
      ]
     },
     "execution_count": 14,
     "metadata": {},
     "output_type": "execute_result"
    }
   ],
   "source": [
    "#Shape and format of the dataframe after the cleaning and check nunique values\n",
    "print(final_ingredients_df.shape)\n",
    "print(\"Number of rows:\", final_ingredients_df.shape[0]) # Number of rows\n",
    "print(\"Number of columns:\", final_ingredients_df.shape[1]) # Number of columns\n",
    "#Check unique values per each column and also column naming\n",
    "final_ingredients_df.nunique()"
   ]
  },
  {
   "cell_type": "code",
   "execution_count": 15,
   "metadata": {},
   "outputs": [
    {
     "data": {
      "text/html": [
       "<div>\n",
       "<style scoped>\n",
       "    .dataframe tbody tr th:only-of-type {\n",
       "        vertical-align: middle;\n",
       "    }\n",
       "\n",
       "    .dataframe tbody tr th {\n",
       "        vertical-align: top;\n",
       "    }\n",
       "\n",
       "    .dataframe thead th {\n",
       "        text-align: right;\n",
       "    }\n",
       "</style>\n",
       "<table border=\"1\" class=\"dataframe\">\n",
       "  <thead>\n",
       "    <tr style=\"text-align: right;\">\n",
       "      <th></th>\n",
       "      <th>category</th>\n",
       "      <th>subcategory</th>\n",
       "      <th>product_name</th>\n",
       "      <th>brand_name</th>\n",
       "      <th>rating</th>\n",
       "      <th>review_count</th>\n",
       "      <th>price</th>\n",
       "      <th>ingredients</th>\n",
       "      <th>product_url</th>\n",
       "    </tr>\n",
       "  </thead>\n",
       "  <tbody>\n",
       "    <tr>\n",
       "      <th>0</th>\n",
       "      <td>Makeup</td>\n",
       "      <td>Lips</td>\n",
       "      <td>Dior Addict - Barra de labios brillante 90 % d...</td>\n",
       "      <td>Dior</td>\n",
       "      <td>5.0</td>\n",
       "      <td>1.0</td>\n",
       "      <td>50.99</td>\n",
       "      <td>#19645,methyl,hydrogenated,rosinate,squalane,p...</td>\n",
       "      <td>https://www.sephora.es/p/dior-addict---barra-d...</td>\n",
       "    </tr>\n",
       "    <tr>\n",
       "      <th>1</th>\n",
       "      <td>Makeup</td>\n",
       "      <td>Facial</td>\n",
       "      <td>CC Red Correct - Tratamiento iluminador correc...</td>\n",
       "      <td>Erborian</td>\n",
       "      <td>4.7</td>\n",
       "      <td>268.0</td>\n",
       "      <td>42.99</td>\n",
       "      <td>aqua/water,cyclomethicone,ethylhexyl,methoxyci...</td>\n",
       "      <td>https://www.sephora.es/p/cc-red-correct---ilum...</td>\n",
       "    </tr>\n",
       "    <tr>\n",
       "      <th>2</th>\n",
       "      <td>Makeup</td>\n",
       "      <td>Makeup kits</td>\n",
       "      <td>Moving Lights - Calendario de Adviento Premium</td>\n",
       "      <td>Sephora Collection</td>\n",
       "      <td>4.2</td>\n",
       "      <td>5.0</td>\n",
       "      <td>79.99</td>\n",
       "      <td>patch,nez,charbon/charcoal,nose,strip,-,extrac...</td>\n",
       "      <td>https://www.sephora.es/p/moving-lights---calen...</td>\n",
       "    </tr>\n",
       "    <tr>\n",
       "      <th>3</th>\n",
       "      <td>Makeup</td>\n",
       "      <td>Makeup kits</td>\n",
       "      <td>Moving Lights - Calendario de Adviento</td>\n",
       "      <td>Sephora Collection</td>\n",
       "      <td>3.7</td>\n",
       "      <td>3.0</td>\n",
       "      <td>49.99</td>\n",
       "      <td>mascara,love,the,lift/love,the,lift,mascara,-,...</td>\n",
       "      <td>https://www.sephora.es/p/moving-lights---calen...</td>\n",
       "    </tr>\n",
       "    <tr>\n",
       "      <th>4</th>\n",
       "      <td>Makeup</td>\n",
       "      <td>Facial</td>\n",
       "      <td>Pillow Talk Iconic Blush and Glow Kit - Estuch...</td>\n",
       "      <td>Charlotte Tilbury</td>\n",
       "      <td>5.0</td>\n",
       "      <td>1.0</td>\n",
       "      <td>31.00</td>\n",
       "      <td>pillow,talk,beauty,light,wand,-,pillow,talk:in...</td>\n",
       "      <td>https://www.sephora.es/p/pillow-talk-iconic-bl...</td>\n",
       "    </tr>\n",
       "  </tbody>\n",
       "</table>\n",
       "</div>"
      ],
      "text/plain": [
       "  category  subcategory                                       product_name  \\\n",
       "0   Makeup         Lips  Dior Addict - Barra de labios brillante 90 % d...   \n",
       "1   Makeup       Facial  CC Red Correct - Tratamiento iluminador correc...   \n",
       "2   Makeup  Makeup kits     Moving Lights - Calendario de Adviento Premium   \n",
       "3   Makeup  Makeup kits             Moving Lights - Calendario de Adviento   \n",
       "4   Makeup       Facial  Pillow Talk Iconic Blush and Glow Kit - Estuch...   \n",
       "\n",
       "           brand_name  rating  review_count  price  \\\n",
       "0                Dior     5.0           1.0  50.99   \n",
       "1            Erborian     4.7         268.0  42.99   \n",
       "2  Sephora Collection     4.2           5.0  79.99   \n",
       "3  Sephora Collection     3.7           3.0  49.99   \n",
       "4   Charlotte Tilbury     5.0           1.0  31.00   \n",
       "\n",
       "                                         ingredients  \\\n",
       "0  #19645,methyl,hydrogenated,rosinate,squalane,p...   \n",
       "1  aqua/water,cyclomethicone,ethylhexyl,methoxyci...   \n",
       "2  patch,nez,charbon/charcoal,nose,strip,-,extrac...   \n",
       "3  mascara,love,the,lift/love,the,lift,mascara,-,...   \n",
       "4  pillow,talk,beauty,light,wand,-,pillow,talk:in...   \n",
       "\n",
       "                                         product_url  \n",
       "0  https://www.sephora.es/p/dior-addict---barra-d...  \n",
       "1  https://www.sephora.es/p/cc-red-correct---ilum...  \n",
       "2  https://www.sephora.es/p/moving-lights---calen...  \n",
       "3  https://www.sephora.es/p/moving-lights---calen...  \n",
       "4  https://www.sephora.es/p/pillow-talk-iconic-bl...  "
      ]
     },
     "execution_count": 15,
     "metadata": {},
     "output_type": "execute_result"
    }
   ],
   "source": [
    "#Visualize after cleaning\n",
    "final_ingredients_df.head()"
   ]
  },
  {
   "cell_type": "markdown",
   "metadata": {},
   "source": [
    "### **Step 3: Found the endocrine disruptors inside the ingredients column**"
   ]
  },
  {
   "cell_type": "markdown",
   "metadata": {},
   "source": [
    "Since we couldn't find any results using the official list of endocrine disruptors from ECHA (https://www.echa.europa.eu/es/ed-assessment), we consulted various research studies to develop our own list of potential endocrine disruptors. This will allow us to identify matches within our dataframe in the possible future."
   ]
  },
  {
   "cell_type": "code",
   "execution_count": 16,
   "metadata": {},
   "outputs": [],
   "source": [
    "# Define the list of potential endocrine disruptors and convert to lowercase\n",
    "potential_endocrine_disruptors_cosmetics = [\n",
    "    \"paraben\", \"isopropylparaben\", \"isobutylparaben\", \"phenylparaben\", \n",
    "    \"benzylparaben\", \"pentylparaben\", \"triclosan\", \"benzophenone-3\", \n",
    "    \"octocrylene\", \"dibutyl phthalate\", \"diethyl phthalate\", \n",
    "    \"dimethyl phthalate\", \"diisononyl phthalate\", \"flouro\", \"perflouro\", \n",
    "    \"polyfluoro\", \"perfluorinated\", \"lead\", \"mercury\", \"cadmium\", \"arsenic\", \n",
    "    \"nickel\", \"copper\", \"zinc\", \"barium\", \"manganese\", \"formaldehyde\", \n",
    "    \"formalin\", \"methylene glycol\", \"DMDM Hydantoin\", \"Imidazolidinyl Urea\", \n",
    "    \"Quaternium-15\", \"Diazolidinyl Urea\"\n",
    "]\n",
    "# Convert list to lowercase\n",
    "potential_endocrine_disruptors_cosmetics = [disruptor.lower() for disruptor in potential_endocrine_disruptors_cosmetics]"
   ]
  },
  {
   "cell_type": "code",
   "execution_count": 17,
   "metadata": {},
   "outputs": [
    {
     "data": {
      "text/html": [
       "<div>\n",
       "<style scoped>\n",
       "    .dataframe tbody tr th:only-of-type {\n",
       "        vertical-align: middle;\n",
       "    }\n",
       "\n",
       "    .dataframe tbody tr th {\n",
       "        vertical-align: top;\n",
       "    }\n",
       "\n",
       "    .dataframe thead th {\n",
       "        text-align: right;\n",
       "    }\n",
       "</style>\n",
       "<table border=\"1\" class=\"dataframe\">\n",
       "  <thead>\n",
       "    <tr style=\"text-align: right;\">\n",
       "      <th></th>\n",
       "      <th>category</th>\n",
       "      <th>subcategory</th>\n",
       "      <th>product_name</th>\n",
       "      <th>brand_name</th>\n",
       "      <th>rating</th>\n",
       "      <th>review_count</th>\n",
       "      <th>price</th>\n",
       "      <th>ingredients</th>\n",
       "      <th>product_url</th>\n",
       "      <th>endocrine_disruptors_found</th>\n",
       "      <th>number_disruptors</th>\n",
       "    </tr>\n",
       "  </thead>\n",
       "  <tbody>\n",
       "    <tr>\n",
       "      <th>0</th>\n",
       "      <td>Makeup</td>\n",
       "      <td>Lips</td>\n",
       "      <td>Dior Addict - Barra de labios brillante 90 % d...</td>\n",
       "      <td>Dior</td>\n",
       "      <td>5.0</td>\n",
       "      <td>1.0</td>\n",
       "      <td>50.99</td>\n",
       "      <td>#19645,methyl,hydrogenated,rosinate,squalane,p...</td>\n",
       "      <td>https://www.sephora.es/p/dior-addict---barra-d...</td>\n",
       "      <td>[none]</td>\n",
       "      <td>0</td>\n",
       "    </tr>\n",
       "    <tr>\n",
       "      <th>1</th>\n",
       "      <td>Makeup</td>\n",
       "      <td>Facial</td>\n",
       "      <td>CC Red Correct - Tratamiento iluminador correc...</td>\n",
       "      <td>Erborian</td>\n",
       "      <td>4.7</td>\n",
       "      <td>268.0</td>\n",
       "      <td>42.99</td>\n",
       "      <td>aqua/water,cyclomethicone,ethylhexyl,methoxyci...</td>\n",
       "      <td>https://www.sephora.es/p/cc-red-correct---ilum...</td>\n",
       "      <td>[zinc]</td>\n",
       "      <td>1</td>\n",
       "    </tr>\n",
       "    <tr>\n",
       "      <th>2</th>\n",
       "      <td>Makeup</td>\n",
       "      <td>Makeup kits</td>\n",
       "      <td>Moving Lights - Calendario de Adviento Premium</td>\n",
       "      <td>Sephora Collection</td>\n",
       "      <td>4.2</td>\n",
       "      <td>5.0</td>\n",
       "      <td>79.99</td>\n",
       "      <td>patch,nez,charbon/charcoal,nose,strip,-,extrac...</td>\n",
       "      <td>https://www.sephora.es/p/moving-lights---calen...</td>\n",
       "      <td>[none]</td>\n",
       "      <td>0</td>\n",
       "    </tr>\n",
       "    <tr>\n",
       "      <th>3</th>\n",
       "      <td>Makeup</td>\n",
       "      <td>Makeup kits</td>\n",
       "      <td>Moving Lights - Calendario de Adviento</td>\n",
       "      <td>Sephora Collection</td>\n",
       "      <td>3.7</td>\n",
       "      <td>3.0</td>\n",
       "      <td>49.99</td>\n",
       "      <td>mascara,love,the,lift/love,the,lift,mascara,-,...</td>\n",
       "      <td>https://www.sephora.es/p/moving-lights---calen...</td>\n",
       "      <td>[none]</td>\n",
       "      <td>0</td>\n",
       "    </tr>\n",
       "    <tr>\n",
       "      <th>4</th>\n",
       "      <td>Makeup</td>\n",
       "      <td>Facial</td>\n",
       "      <td>Pillow Talk Iconic Blush and Glow Kit - Estuch...</td>\n",
       "      <td>Charlotte Tilbury</td>\n",
       "      <td>5.0</td>\n",
       "      <td>1.0</td>\n",
       "      <td>31.00</td>\n",
       "      <td>pillow,talk,beauty,light,wand,-,pillow,talk:in...</td>\n",
       "      <td>https://www.sephora.es/p/pillow-talk-iconic-bl...</td>\n",
       "      <td>[none]</td>\n",
       "      <td>0</td>\n",
       "    </tr>\n",
       "    <tr>\n",
       "      <th>...</th>\n",
       "      <td>...</td>\n",
       "      <td>...</td>\n",
       "      <td>...</td>\n",
       "      <td>...</td>\n",
       "      <td>...</td>\n",
       "      <td>...</td>\n",
       "      <td>...</td>\n",
       "      <td>...</td>\n",
       "      <td>...</td>\n",
       "      <td>...</td>\n",
       "      <td>...</td>\n",
       "    </tr>\n",
       "    <tr>\n",
       "      <th>4313</th>\n",
       "      <td>Body</td>\n",
       "      <td>Sun care</td>\n",
       "      <td>The Ritual of Karma - Gel hidratante para desp...</td>\n",
       "      <td>Rituals</td>\n",
       "      <td>0.0</td>\n",
       "      <td>0.0</td>\n",
       "      <td>16.99</td>\n",
       "      <td>aqua/water,glycerin,glyceryl,caprylate,propane...</td>\n",
       "      <td>https://www.sephora.es/p/the-ritual-of-karma--...</td>\n",
       "      <td>[none]</td>\n",
       "      <td>0</td>\n",
       "    </tr>\n",
       "    <tr>\n",
       "      <th>4314</th>\n",
       "      <td>Body</td>\n",
       "      <td>Sun care</td>\n",
       "      <td>After-Sun Shower Gel -After Sun en gel</td>\n",
       "      <td>Clarins</td>\n",
       "      <td>5.0</td>\n",
       "      <td>3.0</td>\n",
       "      <td>22.99</td>\n",
       "      <td>ingredients,:,zuquzu/wzusser/wzusser.,zuloe,bz...</td>\n",
       "      <td>https://www.sephora.es/p/after-sun-shower-gel-...</td>\n",
       "      <td>[none]</td>\n",
       "      <td>0</td>\n",
       "    </tr>\n",
       "    <tr>\n",
       "      <th>4315</th>\n",
       "      <td>Body</td>\n",
       "      <td>Sun care</td>\n",
       "      <td>Gel Solar-Protección solar en gel</td>\n",
       "      <td>Clarins</td>\n",
       "      <td>1.0</td>\n",
       "      <td>1.0</td>\n",
       "      <td>34.99</td>\n",
       "      <td>ingredients,:,aqua/water/eau.,diethylamino,hyd...</td>\n",
       "      <td>https://www.sephora.es/p/gel-solar-proteccion-...</td>\n",
       "      <td>[octocrylene]</td>\n",
       "      <td>1</td>\n",
       "    </tr>\n",
       "    <tr>\n",
       "      <th>4316</th>\n",
       "      <td>Body</td>\n",
       "      <td>Sun care</td>\n",
       "      <td>Gel-en-Huile Solaire - Corps UVA/UVB 30 - Acei...</td>\n",
       "      <td>Clarins</td>\n",
       "      <td>3.0</td>\n",
       "      <td>1.0</td>\n",
       "      <td>34.99</td>\n",
       "      <td>aqua/water/eau.,homosalate.,octocrylene.,dieth...</td>\n",
       "      <td>https://www.sephora.es/p/aceite-solar--invisib...</td>\n",
       "      <td>[octocrylene]</td>\n",
       "      <td>1</td>\n",
       "    </tr>\n",
       "    <tr>\n",
       "      <th>4317</th>\n",
       "      <td>Body</td>\n",
       "      <td>Sun care</td>\n",
       "      <td>Lait Solaire - Leche solar hidratante</td>\n",
       "      <td>Biotherm</td>\n",
       "      <td>4.4</td>\n",
       "      <td>7.0</td>\n",
       "      <td>52.99</td>\n",
       "      <td>885591,6,-,ingredients:,aqua,/,water,/,eau,gly...</td>\n",
       "      <td>https://www.sephora.es/p/lait-solaire---spf15-...</td>\n",
       "      <td>[none]</td>\n",
       "      <td>0</td>\n",
       "    </tr>\n",
       "  </tbody>\n",
       "</table>\n",
       "<p>4318 rows × 11 columns</p>\n",
       "</div>"
      ],
      "text/plain": [
       "     category  subcategory                                       product_name  \\\n",
       "0      Makeup         Lips  Dior Addict - Barra de labios brillante 90 % d...   \n",
       "1      Makeup       Facial  CC Red Correct - Tratamiento iluminador correc...   \n",
       "2      Makeup  Makeup kits     Moving Lights - Calendario de Adviento Premium   \n",
       "3      Makeup  Makeup kits             Moving Lights - Calendario de Adviento   \n",
       "4      Makeup       Facial  Pillow Talk Iconic Blush and Glow Kit - Estuch...   \n",
       "...       ...          ...                                                ...   \n",
       "4313     Body     Sun care  The Ritual of Karma - Gel hidratante para desp...   \n",
       "4314     Body     Sun care             After-Sun Shower Gel -After Sun en gel   \n",
       "4315     Body     Sun care                  Gel Solar-Protección solar en gel   \n",
       "4316     Body     Sun care  Gel-en-Huile Solaire - Corps UVA/UVB 30 - Acei...   \n",
       "4317     Body     Sun care              Lait Solaire - Leche solar hidratante   \n",
       "\n",
       "              brand_name  rating  review_count  price  \\\n",
       "0                   Dior     5.0           1.0  50.99   \n",
       "1               Erborian     4.7         268.0  42.99   \n",
       "2     Sephora Collection     4.2           5.0  79.99   \n",
       "3     Sephora Collection     3.7           3.0  49.99   \n",
       "4      Charlotte Tilbury     5.0           1.0  31.00   \n",
       "...                  ...     ...           ...    ...   \n",
       "4313             Rituals     0.0           0.0  16.99   \n",
       "4314             Clarins     5.0           3.0  22.99   \n",
       "4315             Clarins     1.0           1.0  34.99   \n",
       "4316             Clarins     3.0           1.0  34.99   \n",
       "4317            Biotherm     4.4           7.0  52.99   \n",
       "\n",
       "                                            ingredients  \\\n",
       "0     #19645,methyl,hydrogenated,rosinate,squalane,p...   \n",
       "1     aqua/water,cyclomethicone,ethylhexyl,methoxyci...   \n",
       "2     patch,nez,charbon/charcoal,nose,strip,-,extrac...   \n",
       "3     mascara,love,the,lift/love,the,lift,mascara,-,...   \n",
       "4     pillow,talk,beauty,light,wand,-,pillow,talk:in...   \n",
       "...                                                 ...   \n",
       "4313  aqua/water,glycerin,glyceryl,caprylate,propane...   \n",
       "4314  ingredients,:,zuquzu/wzusser/wzusser.,zuloe,bz...   \n",
       "4315  ingredients,:,aqua/water/eau.,diethylamino,hyd...   \n",
       "4316  aqua/water/eau.,homosalate.,octocrylene.,dieth...   \n",
       "4317  885591,6,-,ingredients:,aqua,/,water,/,eau,gly...   \n",
       "\n",
       "                                            product_url  \\\n",
       "0     https://www.sephora.es/p/dior-addict---barra-d...   \n",
       "1     https://www.sephora.es/p/cc-red-correct---ilum...   \n",
       "2     https://www.sephora.es/p/moving-lights---calen...   \n",
       "3     https://www.sephora.es/p/moving-lights---calen...   \n",
       "4     https://www.sephora.es/p/pillow-talk-iconic-bl...   \n",
       "...                                                 ...   \n",
       "4313  https://www.sephora.es/p/the-ritual-of-karma--...   \n",
       "4314  https://www.sephora.es/p/after-sun-shower-gel-...   \n",
       "4315  https://www.sephora.es/p/gel-solar-proteccion-...   \n",
       "4316  https://www.sephora.es/p/aceite-solar--invisib...   \n",
       "4317  https://www.sephora.es/p/lait-solaire---spf15-...   \n",
       "\n",
       "     endocrine_disruptors_found  number_disruptors  \n",
       "0                        [none]                  0  \n",
       "1                        [zinc]                  1  \n",
       "2                        [none]                  0  \n",
       "3                        [none]                  0  \n",
       "4                        [none]                  0  \n",
       "...                         ...                ...  \n",
       "4313                     [none]                  0  \n",
       "4314                     [none]                  0  \n",
       "4315              [octocrylene]                  1  \n",
       "4316              [octocrylene]                  1  \n",
       "4317                     [none]                  0  \n",
       "\n",
       "[4318 rows x 11 columns]"
      ]
     },
     "execution_count": 17,
     "metadata": {},
     "output_type": "execute_result"
    }
   ],
   "source": [
    "# Function to check if the ingredients contain any endocrine disruptor with fuzzy matching\n",
    "def find_endocrine_disruptors(ingredient_list):\n",
    "    \"\"\"\n",
    "    Check if the ingredient list contains any endocrine disruptors using fuzzy matching.\n",
    "\n",
    "    Args:\n",
    "        ingredient_list (str): A string of ingredients separated by commas.\n",
    "\n",
    "    Returns:\n",
    "        list: A list of found endocrine disruptors or [\"none\"] if none are found.\n",
    "    \"\"\"\n",
    "    found_disruptors = []  # List to store found disruptors\n",
    "    for disruptor in potential_endocrine_disruptors_cosmetics:\n",
    "        # For each disruptor, look for approximate matches\n",
    "        if any(fuzz.partial_ratio(disruptor, ingredient) > 95 for ingredient in ingredient_list.split(\", \")):\n",
    "            found_disruptors.append(disruptor)  # Add to list if found\n",
    "    return found_disruptors if found_disruptors else [\"none\"]  # Return list or 'none' if empty\n",
    "\n",
    "# Apply the function and create the new column\n",
    "final_ingredients_df['endocrine_disruptors_found'] = final_ingredients_df['ingredients'].apply(find_endocrine_disruptors)\n",
    "\n",
    "# Create a new column to count the number of disruptors\n",
    "def count_disruptors(disruptors_list):\n",
    "    \"\"\"\n",
    "    Count the number of endocrine disruptors in the list.\n",
    "\n",
    "    Args:\n",
    "        disruptors_list (list): A list of found endocrine disruptors.\n",
    "\n",
    "    Returns:\n",
    "        int: The number of disruptors found, 0 if \"none\".\n",
    "    \"\"\"\n",
    "    return 0 if disruptors_list == [\"none\"] else len(disruptors_list)\n",
    "\n",
    "# Add the new column with the count of disruptors\n",
    "final_ingredients_df['number_disruptors'] = final_ingredients_df['endocrine_disruptors_found'].apply(count_disruptors)\n",
    "\n",
    "# Display the complete dataframe\n",
    "final_ingredients_df"
   ]
  },
  {
   "cell_type": "code",
   "execution_count": 18,
   "metadata": {},
   "outputs": [
    {
     "data": {
      "text/html": [
       "<div>\n",
       "<style scoped>\n",
       "    .dataframe tbody tr th:only-of-type {\n",
       "        vertical-align: middle;\n",
       "    }\n",
       "\n",
       "    .dataframe tbody tr th {\n",
       "        vertical-align: top;\n",
       "    }\n",
       "\n",
       "    .dataframe thead th {\n",
       "        text-align: right;\n",
       "    }\n",
       "</style>\n",
       "<table border=\"1\" class=\"dataframe\">\n",
       "  <thead>\n",
       "    <tr style=\"text-align: right;\">\n",
       "      <th></th>\n",
       "      <th>category</th>\n",
       "      <th>subcategory</th>\n",
       "      <th>product_name</th>\n",
       "      <th>brand_name</th>\n",
       "      <th>rating</th>\n",
       "      <th>review_count</th>\n",
       "      <th>price</th>\n",
       "      <th>ingredients</th>\n",
       "      <th>product_url</th>\n",
       "      <th>endocrine_disruptors_found</th>\n",
       "      <th>number_disruptors</th>\n",
       "    </tr>\n",
       "  </thead>\n",
       "  <tbody>\n",
       "    <tr>\n",
       "      <th>0</th>\n",
       "      <td>Makeup</td>\n",
       "      <td>Lips</td>\n",
       "      <td>Dior Addict - Barra de labios brillante 90 % d...</td>\n",
       "      <td>Dior</td>\n",
       "      <td>5.0</td>\n",
       "      <td>1.0</td>\n",
       "      <td>50.99</td>\n",
       "      <td>#19645,methyl,hydrogenated,rosinate,squalane,p...</td>\n",
       "      <td>https://www.sephora.es/p/dior-addict---barra-d...</td>\n",
       "      <td>[none]</td>\n",
       "      <td>0</td>\n",
       "    </tr>\n",
       "    <tr>\n",
       "      <th>1</th>\n",
       "      <td>Makeup</td>\n",
       "      <td>Facial</td>\n",
       "      <td>CC Red Correct - Tratamiento iluminador correc...</td>\n",
       "      <td>Erborian</td>\n",
       "      <td>4.7</td>\n",
       "      <td>268.0</td>\n",
       "      <td>42.99</td>\n",
       "      <td>aqua/water,cyclomethicone,ethylhexyl,methoxyci...</td>\n",
       "      <td>https://www.sephora.es/p/cc-red-correct---ilum...</td>\n",
       "      <td>[zinc]</td>\n",
       "      <td>1</td>\n",
       "    </tr>\n",
       "    <tr>\n",
       "      <th>2</th>\n",
       "      <td>Makeup</td>\n",
       "      <td>Makeup kits</td>\n",
       "      <td>Moving Lights - Calendario de Adviento Premium</td>\n",
       "      <td>Sephora Collection</td>\n",
       "      <td>4.2</td>\n",
       "      <td>5.0</td>\n",
       "      <td>79.99</td>\n",
       "      <td>patch,nez,charbon/charcoal,nose,strip,-,extrac...</td>\n",
       "      <td>https://www.sephora.es/p/moving-lights---calen...</td>\n",
       "      <td>[none]</td>\n",
       "      <td>0</td>\n",
       "    </tr>\n",
       "    <tr>\n",
       "      <th>3</th>\n",
       "      <td>Makeup</td>\n",
       "      <td>Makeup kits</td>\n",
       "      <td>Moving Lights - Calendario de Adviento</td>\n",
       "      <td>Sephora Collection</td>\n",
       "      <td>3.7</td>\n",
       "      <td>3.0</td>\n",
       "      <td>49.99</td>\n",
       "      <td>mascara,love,the,lift/love,the,lift,mascara,-,...</td>\n",
       "      <td>https://www.sephora.es/p/moving-lights---calen...</td>\n",
       "      <td>[none]</td>\n",
       "      <td>0</td>\n",
       "    </tr>\n",
       "    <tr>\n",
       "      <th>4</th>\n",
       "      <td>Makeup</td>\n",
       "      <td>Facial</td>\n",
       "      <td>Pillow Talk Iconic Blush and Glow Kit - Estuch...</td>\n",
       "      <td>Charlotte Tilbury</td>\n",
       "      <td>5.0</td>\n",
       "      <td>1.0</td>\n",
       "      <td>31.00</td>\n",
       "      <td>pillow,talk,beauty,light,wand,-,pillow,talk:in...</td>\n",
       "      <td>https://www.sephora.es/p/pillow-talk-iconic-bl...</td>\n",
       "      <td>[none]</td>\n",
       "      <td>0</td>\n",
       "    </tr>\n",
       "    <tr>\n",
       "      <th>...</th>\n",
       "      <td>...</td>\n",
       "      <td>...</td>\n",
       "      <td>...</td>\n",
       "      <td>...</td>\n",
       "      <td>...</td>\n",
       "      <td>...</td>\n",
       "      <td>...</td>\n",
       "      <td>...</td>\n",
       "      <td>...</td>\n",
       "      <td>...</td>\n",
       "      <td>...</td>\n",
       "    </tr>\n",
       "    <tr>\n",
       "      <th>4313</th>\n",
       "      <td>Body</td>\n",
       "      <td>Sun care</td>\n",
       "      <td>The Ritual of Karma - Gel hidratante para desp...</td>\n",
       "      <td>Rituals</td>\n",
       "      <td>0.0</td>\n",
       "      <td>0.0</td>\n",
       "      <td>16.99</td>\n",
       "      <td>aqua/water,glycerin,glyceryl,caprylate,propane...</td>\n",
       "      <td>https://www.sephora.es/p/the-ritual-of-karma--...</td>\n",
       "      <td>[none]</td>\n",
       "      <td>0</td>\n",
       "    </tr>\n",
       "    <tr>\n",
       "      <th>4314</th>\n",
       "      <td>Body</td>\n",
       "      <td>Sun care</td>\n",
       "      <td>After-Sun Shower Gel -After Sun en gel</td>\n",
       "      <td>Clarins</td>\n",
       "      <td>5.0</td>\n",
       "      <td>3.0</td>\n",
       "      <td>22.99</td>\n",
       "      <td>ingredients,:,zuquzu/wzusser/wzusser.,zuloe,bz...</td>\n",
       "      <td>https://www.sephora.es/p/after-sun-shower-gel-...</td>\n",
       "      <td>[none]</td>\n",
       "      <td>0</td>\n",
       "    </tr>\n",
       "    <tr>\n",
       "      <th>4315</th>\n",
       "      <td>Body</td>\n",
       "      <td>Sun care</td>\n",
       "      <td>Gel Solar-Protección solar en gel</td>\n",
       "      <td>Clarins</td>\n",
       "      <td>1.0</td>\n",
       "      <td>1.0</td>\n",
       "      <td>34.99</td>\n",
       "      <td>ingredients,:,aqua/water/eau.,diethylamino,hyd...</td>\n",
       "      <td>https://www.sephora.es/p/gel-solar-proteccion-...</td>\n",
       "      <td>[octocrylene]</td>\n",
       "      <td>1</td>\n",
       "    </tr>\n",
       "    <tr>\n",
       "      <th>4316</th>\n",
       "      <td>Body</td>\n",
       "      <td>Sun care</td>\n",
       "      <td>Gel-en-Huile Solaire - Corps UVA/UVB 30 - Acei...</td>\n",
       "      <td>Clarins</td>\n",
       "      <td>3.0</td>\n",
       "      <td>1.0</td>\n",
       "      <td>34.99</td>\n",
       "      <td>aqua/water/eau.,homosalate.,octocrylene.,dieth...</td>\n",
       "      <td>https://www.sephora.es/p/aceite-solar--invisib...</td>\n",
       "      <td>[octocrylene]</td>\n",
       "      <td>1</td>\n",
       "    </tr>\n",
       "    <tr>\n",
       "      <th>4317</th>\n",
       "      <td>Body</td>\n",
       "      <td>Sun care</td>\n",
       "      <td>Lait Solaire - Leche solar hidratante</td>\n",
       "      <td>Biotherm</td>\n",
       "      <td>4.4</td>\n",
       "      <td>7.0</td>\n",
       "      <td>52.99</td>\n",
       "      <td>885591,6,-,ingredients:,aqua,/,water,/,eau,gly...</td>\n",
       "      <td>https://www.sephora.es/p/lait-solaire---spf15-...</td>\n",
       "      <td>[none]</td>\n",
       "      <td>0</td>\n",
       "    </tr>\n",
       "  </tbody>\n",
       "</table>\n",
       "<p>4318 rows × 11 columns</p>\n",
       "</div>"
      ],
      "text/plain": [
       "     category  subcategory                                       product_name  \\\n",
       "0      Makeup         Lips  Dior Addict - Barra de labios brillante 90 % d...   \n",
       "1      Makeup       Facial  CC Red Correct - Tratamiento iluminador correc...   \n",
       "2      Makeup  Makeup kits     Moving Lights - Calendario de Adviento Premium   \n",
       "3      Makeup  Makeup kits             Moving Lights - Calendario de Adviento   \n",
       "4      Makeup       Facial  Pillow Talk Iconic Blush and Glow Kit - Estuch...   \n",
       "...       ...          ...                                                ...   \n",
       "4313     Body     Sun care  The Ritual of Karma - Gel hidratante para desp...   \n",
       "4314     Body     Sun care             After-Sun Shower Gel -After Sun en gel   \n",
       "4315     Body     Sun care                  Gel Solar-Protección solar en gel   \n",
       "4316     Body     Sun care  Gel-en-Huile Solaire - Corps UVA/UVB 30 - Acei...   \n",
       "4317     Body     Sun care              Lait Solaire - Leche solar hidratante   \n",
       "\n",
       "              brand_name  rating  review_count  price  \\\n",
       "0                   Dior     5.0           1.0  50.99   \n",
       "1               Erborian     4.7         268.0  42.99   \n",
       "2     Sephora Collection     4.2           5.0  79.99   \n",
       "3     Sephora Collection     3.7           3.0  49.99   \n",
       "4      Charlotte Tilbury     5.0           1.0  31.00   \n",
       "...                  ...     ...           ...    ...   \n",
       "4313             Rituals     0.0           0.0  16.99   \n",
       "4314             Clarins     5.0           3.0  22.99   \n",
       "4315             Clarins     1.0           1.0  34.99   \n",
       "4316             Clarins     3.0           1.0  34.99   \n",
       "4317            Biotherm     4.4           7.0  52.99   \n",
       "\n",
       "                                            ingredients  \\\n",
       "0     #19645,methyl,hydrogenated,rosinate,squalane,p...   \n",
       "1     aqua/water,cyclomethicone,ethylhexyl,methoxyci...   \n",
       "2     patch,nez,charbon/charcoal,nose,strip,-,extrac...   \n",
       "3     mascara,love,the,lift/love,the,lift,mascara,-,...   \n",
       "4     pillow,talk,beauty,light,wand,-,pillow,talk:in...   \n",
       "...                                                 ...   \n",
       "4313  aqua/water,glycerin,glyceryl,caprylate,propane...   \n",
       "4314  ingredients,:,zuquzu/wzusser/wzusser.,zuloe,bz...   \n",
       "4315  ingredients,:,aqua/water/eau.,diethylamino,hyd...   \n",
       "4316  aqua/water/eau.,homosalate.,octocrylene.,dieth...   \n",
       "4317  885591,6,-,ingredients:,aqua,/,water,/,eau,gly...   \n",
       "\n",
       "                                            product_url  \\\n",
       "0     https://www.sephora.es/p/dior-addict---barra-d...   \n",
       "1     https://www.sephora.es/p/cc-red-correct---ilum...   \n",
       "2     https://www.sephora.es/p/moving-lights---calen...   \n",
       "3     https://www.sephora.es/p/moving-lights---calen...   \n",
       "4     https://www.sephora.es/p/pillow-talk-iconic-bl...   \n",
       "...                                                 ...   \n",
       "4313  https://www.sephora.es/p/the-ritual-of-karma--...   \n",
       "4314  https://www.sephora.es/p/after-sun-shower-gel-...   \n",
       "4315  https://www.sephora.es/p/gel-solar-proteccion-...   \n",
       "4316  https://www.sephora.es/p/aceite-solar--invisib...   \n",
       "4317  https://www.sephora.es/p/lait-solaire---spf15-...   \n",
       "\n",
       "     endocrine_disruptors_found  number_disruptors  \n",
       "0                        [none]                  0  \n",
       "1                        [zinc]                  1  \n",
       "2                        [none]                  0  \n",
       "3                        [none]                  0  \n",
       "4                        [none]                  0  \n",
       "...                         ...                ...  \n",
       "4313                     [none]                  0  \n",
       "4314                     [none]                  0  \n",
       "4315              [octocrylene]                  1  \n",
       "4316              [octocrylene]                  1  \n",
       "4317                     [none]                  0  \n",
       "\n",
       "[4318 rows x 11 columns]"
      ]
     },
     "execution_count": 18,
     "metadata": {},
     "output_type": "execute_result"
    }
   ],
   "source": [
    "#Visualize the dataframe\n",
    "final_ingredients_df"
   ]
  },
  {
   "cell_type": "code",
   "execution_count": 19,
   "metadata": {},
   "outputs": [],
   "source": [
    "# Save the DataFrame to a CSV file\n",
    "final_ingredients_df.to_csv('final_ingredients_df.csv', index=False)"
   ]
  },
  {
   "cell_type": "markdown",
   "metadata": {},
   "source": [
    "### **Step 4: Data visualization and answering to our questions**"
   ]
  },
  {
   "cell_type": "markdown",
   "metadata": {},
   "source": [
    "First a bit of context for our study"
   ]
  },
  {
   "cell_type": "code",
   "execution_count": 34,
   "metadata": {},
   "outputs": [
    {
     "name": "stderr",
     "output_type": "stream",
     "text": [
      "C:\\Users\\celia\\AppData\\Local\\Temp\\ipykernel_15092\\1534164728.py:14: SettingWithCopyWarning:\n",
      "\n",
      "\n",
      "A value is trying to be set on a copy of a slice from a DataFrame.\n",
      "Try using .loc[row_indexer,col_indexer] = value instead\n",
      "\n",
      "See the caveats in the documentation: https://pandas.pydata.org/pandas-docs/stable/user_guide/indexing.html#returning-a-view-versus-a-copy\n",
      "\n",
      "C:\\Users\\celia\\AppData\\Local\\Temp\\ipykernel_15092\\1534164728.py:15: SettingWithCopyWarning:\n",
      "\n",
      "\n",
      "A value is trying to be set on a copy of a slice from a DataFrame.\n",
      "Try using .loc[row_indexer,col_indexer] = value instead\n",
      "\n",
      "See the caveats in the documentation: https://pandas.pydata.org/pandas-docs/stable/user_guide/indexing.html#returning-a-view-versus-a-copy\n",
      "\n"
     ]
    },
    {
     "data": {
      "application/vnd.plotly.v1+json": {
       "config": {
        "plotlyServerURL": "https://plot.ly"
       },
       "data": [
        {
         "domain": {
          "x": [
           0,
           1
          ],
          "y": [
           0,
           1
          ]
         },
         "hole": 0.3,
         "hovertemplate": "<b>%{hovertext}</b><br><br>Subcategory=%{label}<br>Number of Products=%{value}<extra></extra>",
         "hovertext": [
          "Body kits<br>58 (10.4%)",
          "Body treatment<br>257 (46.2%)",
          "Body wash<br>66 (11.9%)",
          "Mens grooming<br>4 (0.7%)",
          "Others<br>41 (7.4%)",
          "Parapharmacy<br>1 (0.2%)",
          "Specific treatment claims<br>19 (3.4%)",
          "Sun care<br>106 (19.1%)",
          "Unknown<br>4 (0.7%)"
         ],
         "labels": [
          "Body kits",
          "Body treatment",
          "Body wash",
          "Mens grooming",
          "Others",
          "Parapharmacy",
          "Specific treatment claims",
          "Sun care",
          "Unknown"
         ],
         "legendgroup": "",
         "name": "",
         "showlegend": true,
         "type": "pie",
         "values": [
          58,
          257,
          66,
          4,
          41,
          1,
          19,
          106,
          4
         ]
        }
       ],
       "layout": {
        "legend": {
         "tracegroupgap": 0
        },
        "template": {
         "data": {
          "bar": [
           {
            "error_x": {
             "color": "#2a3f5f"
            },
            "error_y": {
             "color": "#2a3f5f"
            },
            "marker": {
             "line": {
              "color": "#E5ECF6",
              "width": 0.5
             },
             "pattern": {
              "fillmode": "overlay",
              "size": 10,
              "solidity": 0.2
             }
            },
            "type": "bar"
           }
          ],
          "barpolar": [
           {
            "marker": {
             "line": {
              "color": "#E5ECF6",
              "width": 0.5
             },
             "pattern": {
              "fillmode": "overlay",
              "size": 10,
              "solidity": 0.2
             }
            },
            "type": "barpolar"
           }
          ],
          "carpet": [
           {
            "aaxis": {
             "endlinecolor": "#2a3f5f",
             "gridcolor": "white",
             "linecolor": "white",
             "minorgridcolor": "white",
             "startlinecolor": "#2a3f5f"
            },
            "baxis": {
             "endlinecolor": "#2a3f5f",
             "gridcolor": "white",
             "linecolor": "white",
             "minorgridcolor": "white",
             "startlinecolor": "#2a3f5f"
            },
            "type": "carpet"
           }
          ],
          "choropleth": [
           {
            "colorbar": {
             "outlinewidth": 0,
             "ticks": ""
            },
            "type": "choropleth"
           }
          ],
          "contour": [
           {
            "colorbar": {
             "outlinewidth": 0,
             "ticks": ""
            },
            "colorscale": [
             [
              0,
              "#0d0887"
             ],
             [
              0.1111111111111111,
              "#46039f"
             ],
             [
              0.2222222222222222,
              "#7201a8"
             ],
             [
              0.3333333333333333,
              "#9c179e"
             ],
             [
              0.4444444444444444,
              "#bd3786"
             ],
             [
              0.5555555555555556,
              "#d8576b"
             ],
             [
              0.6666666666666666,
              "#ed7953"
             ],
             [
              0.7777777777777778,
              "#fb9f3a"
             ],
             [
              0.8888888888888888,
              "#fdca26"
             ],
             [
              1,
              "#f0f921"
             ]
            ],
            "type": "contour"
           }
          ],
          "contourcarpet": [
           {
            "colorbar": {
             "outlinewidth": 0,
             "ticks": ""
            },
            "type": "contourcarpet"
           }
          ],
          "heatmap": [
           {
            "colorbar": {
             "outlinewidth": 0,
             "ticks": ""
            },
            "colorscale": [
             [
              0,
              "#0d0887"
             ],
             [
              0.1111111111111111,
              "#46039f"
             ],
             [
              0.2222222222222222,
              "#7201a8"
             ],
             [
              0.3333333333333333,
              "#9c179e"
             ],
             [
              0.4444444444444444,
              "#bd3786"
             ],
             [
              0.5555555555555556,
              "#d8576b"
             ],
             [
              0.6666666666666666,
              "#ed7953"
             ],
             [
              0.7777777777777778,
              "#fb9f3a"
             ],
             [
              0.8888888888888888,
              "#fdca26"
             ],
             [
              1,
              "#f0f921"
             ]
            ],
            "type": "heatmap"
           }
          ],
          "heatmapgl": [
           {
            "colorbar": {
             "outlinewidth": 0,
             "ticks": ""
            },
            "colorscale": [
             [
              0,
              "#0d0887"
             ],
             [
              0.1111111111111111,
              "#46039f"
             ],
             [
              0.2222222222222222,
              "#7201a8"
             ],
             [
              0.3333333333333333,
              "#9c179e"
             ],
             [
              0.4444444444444444,
              "#bd3786"
             ],
             [
              0.5555555555555556,
              "#d8576b"
             ],
             [
              0.6666666666666666,
              "#ed7953"
             ],
             [
              0.7777777777777778,
              "#fb9f3a"
             ],
             [
              0.8888888888888888,
              "#fdca26"
             ],
             [
              1,
              "#f0f921"
             ]
            ],
            "type": "heatmapgl"
           }
          ],
          "histogram": [
           {
            "marker": {
             "pattern": {
              "fillmode": "overlay",
              "size": 10,
              "solidity": 0.2
             }
            },
            "type": "histogram"
           }
          ],
          "histogram2d": [
           {
            "colorbar": {
             "outlinewidth": 0,
             "ticks": ""
            },
            "colorscale": [
             [
              0,
              "#0d0887"
             ],
             [
              0.1111111111111111,
              "#46039f"
             ],
             [
              0.2222222222222222,
              "#7201a8"
             ],
             [
              0.3333333333333333,
              "#9c179e"
             ],
             [
              0.4444444444444444,
              "#bd3786"
             ],
             [
              0.5555555555555556,
              "#d8576b"
             ],
             [
              0.6666666666666666,
              "#ed7953"
             ],
             [
              0.7777777777777778,
              "#fb9f3a"
             ],
             [
              0.8888888888888888,
              "#fdca26"
             ],
             [
              1,
              "#f0f921"
             ]
            ],
            "type": "histogram2d"
           }
          ],
          "histogram2dcontour": [
           {
            "colorbar": {
             "outlinewidth": 0,
             "ticks": ""
            },
            "colorscale": [
             [
              0,
              "#0d0887"
             ],
             [
              0.1111111111111111,
              "#46039f"
             ],
             [
              0.2222222222222222,
              "#7201a8"
             ],
             [
              0.3333333333333333,
              "#9c179e"
             ],
             [
              0.4444444444444444,
              "#bd3786"
             ],
             [
              0.5555555555555556,
              "#d8576b"
             ],
             [
              0.6666666666666666,
              "#ed7953"
             ],
             [
              0.7777777777777778,
              "#fb9f3a"
             ],
             [
              0.8888888888888888,
              "#fdca26"
             ],
             [
              1,
              "#f0f921"
             ]
            ],
            "type": "histogram2dcontour"
           }
          ],
          "mesh3d": [
           {
            "colorbar": {
             "outlinewidth": 0,
             "ticks": ""
            },
            "type": "mesh3d"
           }
          ],
          "parcoords": [
           {
            "line": {
             "colorbar": {
              "outlinewidth": 0,
              "ticks": ""
             }
            },
            "type": "parcoords"
           }
          ],
          "pie": [
           {
            "automargin": true,
            "type": "pie"
           }
          ],
          "scatter": [
           {
            "fillpattern": {
             "fillmode": "overlay",
             "size": 10,
             "solidity": 0.2
            },
            "type": "scatter"
           }
          ],
          "scatter3d": [
           {
            "line": {
             "colorbar": {
              "outlinewidth": 0,
              "ticks": ""
             }
            },
            "marker": {
             "colorbar": {
              "outlinewidth": 0,
              "ticks": ""
             }
            },
            "type": "scatter3d"
           }
          ],
          "scattercarpet": [
           {
            "marker": {
             "colorbar": {
              "outlinewidth": 0,
              "ticks": ""
             }
            },
            "type": "scattercarpet"
           }
          ],
          "scattergeo": [
           {
            "marker": {
             "colorbar": {
              "outlinewidth": 0,
              "ticks": ""
             }
            },
            "type": "scattergeo"
           }
          ],
          "scattergl": [
           {
            "marker": {
             "colorbar": {
              "outlinewidth": 0,
              "ticks": ""
             }
            },
            "type": "scattergl"
           }
          ],
          "scattermapbox": [
           {
            "marker": {
             "colorbar": {
              "outlinewidth": 0,
              "ticks": ""
             }
            },
            "type": "scattermapbox"
           }
          ],
          "scatterpolar": [
           {
            "marker": {
             "colorbar": {
              "outlinewidth": 0,
              "ticks": ""
             }
            },
            "type": "scatterpolar"
           }
          ],
          "scatterpolargl": [
           {
            "marker": {
             "colorbar": {
              "outlinewidth": 0,
              "ticks": ""
             }
            },
            "type": "scatterpolargl"
           }
          ],
          "scatterternary": [
           {
            "marker": {
             "colorbar": {
              "outlinewidth": 0,
              "ticks": ""
             }
            },
            "type": "scatterternary"
           }
          ],
          "surface": [
           {
            "colorbar": {
             "outlinewidth": 0,
             "ticks": ""
            },
            "colorscale": [
             [
              0,
              "#0d0887"
             ],
             [
              0.1111111111111111,
              "#46039f"
             ],
             [
              0.2222222222222222,
              "#7201a8"
             ],
             [
              0.3333333333333333,
              "#9c179e"
             ],
             [
              0.4444444444444444,
              "#bd3786"
             ],
             [
              0.5555555555555556,
              "#d8576b"
             ],
             [
              0.6666666666666666,
              "#ed7953"
             ],
             [
              0.7777777777777778,
              "#fb9f3a"
             ],
             [
              0.8888888888888888,
              "#fdca26"
             ],
             [
              1,
              "#f0f921"
             ]
            ],
            "type": "surface"
           }
          ],
          "table": [
           {
            "cells": {
             "fill": {
              "color": "#EBF0F8"
             },
             "line": {
              "color": "white"
             }
            },
            "header": {
             "fill": {
              "color": "#C8D4E3"
             },
             "line": {
              "color": "white"
             }
            },
            "type": "table"
           }
          ]
         },
         "layout": {
          "annotationdefaults": {
           "arrowcolor": "#2a3f5f",
           "arrowhead": 0,
           "arrowwidth": 1
          },
          "autotypenumbers": "strict",
          "coloraxis": {
           "colorbar": {
            "outlinewidth": 0,
            "ticks": ""
           }
          },
          "colorscale": {
           "diverging": [
            [
             0,
             "#8e0152"
            ],
            [
             0.1,
             "#c51b7d"
            ],
            [
             0.2,
             "#de77ae"
            ],
            [
             0.3,
             "#f1b6da"
            ],
            [
             0.4,
             "#fde0ef"
            ],
            [
             0.5,
             "#f7f7f7"
            ],
            [
             0.6,
             "#e6f5d0"
            ],
            [
             0.7,
             "#b8e186"
            ],
            [
             0.8,
             "#7fbc41"
            ],
            [
             0.9,
             "#4d9221"
            ],
            [
             1,
             "#276419"
            ]
           ],
           "sequential": [
            [
             0,
             "#0d0887"
            ],
            [
             0.1111111111111111,
             "#46039f"
            ],
            [
             0.2222222222222222,
             "#7201a8"
            ],
            [
             0.3333333333333333,
             "#9c179e"
            ],
            [
             0.4444444444444444,
             "#bd3786"
            ],
            [
             0.5555555555555556,
             "#d8576b"
            ],
            [
             0.6666666666666666,
             "#ed7953"
            ],
            [
             0.7777777777777778,
             "#fb9f3a"
            ],
            [
             0.8888888888888888,
             "#fdca26"
            ],
            [
             1,
             "#f0f921"
            ]
           ],
           "sequentialminus": [
            [
             0,
             "#0d0887"
            ],
            [
             0.1111111111111111,
             "#46039f"
            ],
            [
             0.2222222222222222,
             "#7201a8"
            ],
            [
             0.3333333333333333,
             "#9c179e"
            ],
            [
             0.4444444444444444,
             "#bd3786"
            ],
            [
             0.5555555555555556,
             "#d8576b"
            ],
            [
             0.6666666666666666,
             "#ed7953"
            ],
            [
             0.7777777777777778,
             "#fb9f3a"
            ],
            [
             0.8888888888888888,
             "#fdca26"
            ],
            [
             1,
             "#f0f921"
            ]
           ]
          },
          "colorway": [
           "#636efa",
           "#EF553B",
           "#00cc96",
           "#ab63fa",
           "#FFA15A",
           "#19d3f3",
           "#FF6692",
           "#B6E880",
           "#FF97FF",
           "#FECB52"
          ],
          "font": {
           "color": "#2a3f5f"
          },
          "geo": {
           "bgcolor": "white",
           "lakecolor": "white",
           "landcolor": "#E5ECF6",
           "showlakes": true,
           "showland": true,
           "subunitcolor": "white"
          },
          "hoverlabel": {
           "align": "left"
          },
          "hovermode": "closest",
          "mapbox": {
           "style": "light"
          },
          "paper_bgcolor": "white",
          "plot_bgcolor": "#E5ECF6",
          "polar": {
           "angularaxis": {
            "gridcolor": "white",
            "linecolor": "white",
            "ticks": ""
           },
           "bgcolor": "#E5ECF6",
           "radialaxis": {
            "gridcolor": "white",
            "linecolor": "white",
            "ticks": ""
           }
          },
          "scene": {
           "xaxis": {
            "backgroundcolor": "#E5ECF6",
            "gridcolor": "white",
            "gridwidth": 2,
            "linecolor": "white",
            "showbackground": true,
            "ticks": "",
            "zerolinecolor": "white"
           },
           "yaxis": {
            "backgroundcolor": "#E5ECF6",
            "gridcolor": "white",
            "gridwidth": 2,
            "linecolor": "white",
            "showbackground": true,
            "ticks": "",
            "zerolinecolor": "white"
           },
           "zaxis": {
            "backgroundcolor": "#E5ECF6",
            "gridcolor": "white",
            "gridwidth": 2,
            "linecolor": "white",
            "showbackground": true,
            "ticks": "",
            "zerolinecolor": "white"
           }
          },
          "shapedefaults": {
           "line": {
            "color": "#2a3f5f"
           }
          },
          "ternary": {
           "aaxis": {
            "gridcolor": "white",
            "linecolor": "white",
            "ticks": ""
           },
           "baxis": {
            "gridcolor": "white",
            "linecolor": "white",
            "ticks": ""
           },
           "bgcolor": "#E5ECF6",
           "caxis": {
            "gridcolor": "white",
            "linecolor": "white",
            "ticks": ""
           }
          },
          "title": {
           "x": 0.05
          },
          "xaxis": {
           "automargin": true,
           "gridcolor": "white",
           "linecolor": "white",
           "ticks": "",
           "title": {
            "standoff": 15
           },
           "zerolinecolor": "white",
           "zerolinewidth": 2
          },
          "yaxis": {
           "automargin": true,
           "gridcolor": "white",
           "linecolor": "white",
           "ticks": "",
           "title": {
            "standoff": 15
           },
           "zerolinecolor": "white",
           "zerolinewidth": 2
          }
         }
        },
        "title": {
         "text": "Distribution of Products in Body"
        }
       }
      }
     },
     "metadata": {},
     "output_type": "display_data"
    },
    {
     "name": "stderr",
     "output_type": "stream",
     "text": [
      "C:\\Users\\celia\\AppData\\Local\\Temp\\ipykernel_15092\\1534164728.py:14: SettingWithCopyWarning:\n",
      "\n",
      "\n",
      "A value is trying to be set on a copy of a slice from a DataFrame.\n",
      "Try using .loc[row_indexer,col_indexer] = value instead\n",
      "\n",
      "See the caveats in the documentation: https://pandas.pydata.org/pandas-docs/stable/user_guide/indexing.html#returning-a-view-versus-a-copy\n",
      "\n",
      "C:\\Users\\celia\\AppData\\Local\\Temp\\ipykernel_15092\\1534164728.py:15: SettingWithCopyWarning:\n",
      "\n",
      "\n",
      "A value is trying to be set on a copy of a slice from a DataFrame.\n",
      "Try using .loc[row_indexer,col_indexer] = value instead\n",
      "\n",
      "See the caveats in the documentation: https://pandas.pydata.org/pandas-docs/stable/user_guide/indexing.html#returning-a-view-versus-a-copy\n",
      "\n"
     ]
    },
    {
     "data": {
      "application/vnd.plotly.v1+json": {
       "config": {
        "plotlyServerURL": "https://plot.ly"
       },
       "data": [
        {
         "domain": {
          "x": [
           0,
           1
          ],
          "y": [
           0,
           1
          ]
         },
         "hole": 0.3,
         "hovertemplate": "<b>%{hovertext}</b><br><br>Subcategory=%{label}<br>Number of Products=%{value}<extra></extra>",
         "hovertext": [
          "Eyebrows<br>139 (7.8%)",
          "Eyes<br>449 (25.2%)",
          "Facial<br>615 (34.5%)",
          "Lips<br>341 (19.1%)",
          "Makeup kits<br>118 (6.6%)",
          "Makeup remover<br>73 (4.1%)",
          "Nails<br>35 (2.0%)",
          "Others<br>6 (0.3%)",
          "Unknown<br>7 (0.4%)"
         ],
         "labels": [
          "Eyebrows",
          "Eyes",
          "Facial",
          "Lips",
          "Makeup kits",
          "Makeup remover",
          "Nails",
          "Others",
          "Unknown"
         ],
         "legendgroup": "",
         "name": "",
         "showlegend": true,
         "type": "pie",
         "values": [
          139,
          449,
          615,
          341,
          118,
          73,
          35,
          6,
          7
         ]
        }
       ],
       "layout": {
        "legend": {
         "tracegroupgap": 0
        },
        "template": {
         "data": {
          "bar": [
           {
            "error_x": {
             "color": "#2a3f5f"
            },
            "error_y": {
             "color": "#2a3f5f"
            },
            "marker": {
             "line": {
              "color": "#E5ECF6",
              "width": 0.5
             },
             "pattern": {
              "fillmode": "overlay",
              "size": 10,
              "solidity": 0.2
             }
            },
            "type": "bar"
           }
          ],
          "barpolar": [
           {
            "marker": {
             "line": {
              "color": "#E5ECF6",
              "width": 0.5
             },
             "pattern": {
              "fillmode": "overlay",
              "size": 10,
              "solidity": 0.2
             }
            },
            "type": "barpolar"
           }
          ],
          "carpet": [
           {
            "aaxis": {
             "endlinecolor": "#2a3f5f",
             "gridcolor": "white",
             "linecolor": "white",
             "minorgridcolor": "white",
             "startlinecolor": "#2a3f5f"
            },
            "baxis": {
             "endlinecolor": "#2a3f5f",
             "gridcolor": "white",
             "linecolor": "white",
             "minorgridcolor": "white",
             "startlinecolor": "#2a3f5f"
            },
            "type": "carpet"
           }
          ],
          "choropleth": [
           {
            "colorbar": {
             "outlinewidth": 0,
             "ticks": ""
            },
            "type": "choropleth"
           }
          ],
          "contour": [
           {
            "colorbar": {
             "outlinewidth": 0,
             "ticks": ""
            },
            "colorscale": [
             [
              0,
              "#0d0887"
             ],
             [
              0.1111111111111111,
              "#46039f"
             ],
             [
              0.2222222222222222,
              "#7201a8"
             ],
             [
              0.3333333333333333,
              "#9c179e"
             ],
             [
              0.4444444444444444,
              "#bd3786"
             ],
             [
              0.5555555555555556,
              "#d8576b"
             ],
             [
              0.6666666666666666,
              "#ed7953"
             ],
             [
              0.7777777777777778,
              "#fb9f3a"
             ],
             [
              0.8888888888888888,
              "#fdca26"
             ],
             [
              1,
              "#f0f921"
             ]
            ],
            "type": "contour"
           }
          ],
          "contourcarpet": [
           {
            "colorbar": {
             "outlinewidth": 0,
             "ticks": ""
            },
            "type": "contourcarpet"
           }
          ],
          "heatmap": [
           {
            "colorbar": {
             "outlinewidth": 0,
             "ticks": ""
            },
            "colorscale": [
             [
              0,
              "#0d0887"
             ],
             [
              0.1111111111111111,
              "#46039f"
             ],
             [
              0.2222222222222222,
              "#7201a8"
             ],
             [
              0.3333333333333333,
              "#9c179e"
             ],
             [
              0.4444444444444444,
              "#bd3786"
             ],
             [
              0.5555555555555556,
              "#d8576b"
             ],
             [
              0.6666666666666666,
              "#ed7953"
             ],
             [
              0.7777777777777778,
              "#fb9f3a"
             ],
             [
              0.8888888888888888,
              "#fdca26"
             ],
             [
              1,
              "#f0f921"
             ]
            ],
            "type": "heatmap"
           }
          ],
          "heatmapgl": [
           {
            "colorbar": {
             "outlinewidth": 0,
             "ticks": ""
            },
            "colorscale": [
             [
              0,
              "#0d0887"
             ],
             [
              0.1111111111111111,
              "#46039f"
             ],
             [
              0.2222222222222222,
              "#7201a8"
             ],
             [
              0.3333333333333333,
              "#9c179e"
             ],
             [
              0.4444444444444444,
              "#bd3786"
             ],
             [
              0.5555555555555556,
              "#d8576b"
             ],
             [
              0.6666666666666666,
              "#ed7953"
             ],
             [
              0.7777777777777778,
              "#fb9f3a"
             ],
             [
              0.8888888888888888,
              "#fdca26"
             ],
             [
              1,
              "#f0f921"
             ]
            ],
            "type": "heatmapgl"
           }
          ],
          "histogram": [
           {
            "marker": {
             "pattern": {
              "fillmode": "overlay",
              "size": 10,
              "solidity": 0.2
             }
            },
            "type": "histogram"
           }
          ],
          "histogram2d": [
           {
            "colorbar": {
             "outlinewidth": 0,
             "ticks": ""
            },
            "colorscale": [
             [
              0,
              "#0d0887"
             ],
             [
              0.1111111111111111,
              "#46039f"
             ],
             [
              0.2222222222222222,
              "#7201a8"
             ],
             [
              0.3333333333333333,
              "#9c179e"
             ],
             [
              0.4444444444444444,
              "#bd3786"
             ],
             [
              0.5555555555555556,
              "#d8576b"
             ],
             [
              0.6666666666666666,
              "#ed7953"
             ],
             [
              0.7777777777777778,
              "#fb9f3a"
             ],
             [
              0.8888888888888888,
              "#fdca26"
             ],
             [
              1,
              "#f0f921"
             ]
            ],
            "type": "histogram2d"
           }
          ],
          "histogram2dcontour": [
           {
            "colorbar": {
             "outlinewidth": 0,
             "ticks": ""
            },
            "colorscale": [
             [
              0,
              "#0d0887"
             ],
             [
              0.1111111111111111,
              "#46039f"
             ],
             [
              0.2222222222222222,
              "#7201a8"
             ],
             [
              0.3333333333333333,
              "#9c179e"
             ],
             [
              0.4444444444444444,
              "#bd3786"
             ],
             [
              0.5555555555555556,
              "#d8576b"
             ],
             [
              0.6666666666666666,
              "#ed7953"
             ],
             [
              0.7777777777777778,
              "#fb9f3a"
             ],
             [
              0.8888888888888888,
              "#fdca26"
             ],
             [
              1,
              "#f0f921"
             ]
            ],
            "type": "histogram2dcontour"
           }
          ],
          "mesh3d": [
           {
            "colorbar": {
             "outlinewidth": 0,
             "ticks": ""
            },
            "type": "mesh3d"
           }
          ],
          "parcoords": [
           {
            "line": {
             "colorbar": {
              "outlinewidth": 0,
              "ticks": ""
             }
            },
            "type": "parcoords"
           }
          ],
          "pie": [
           {
            "automargin": true,
            "type": "pie"
           }
          ],
          "scatter": [
           {
            "fillpattern": {
             "fillmode": "overlay",
             "size": 10,
             "solidity": 0.2
            },
            "type": "scatter"
           }
          ],
          "scatter3d": [
           {
            "line": {
             "colorbar": {
              "outlinewidth": 0,
              "ticks": ""
             }
            },
            "marker": {
             "colorbar": {
              "outlinewidth": 0,
              "ticks": ""
             }
            },
            "type": "scatter3d"
           }
          ],
          "scattercarpet": [
           {
            "marker": {
             "colorbar": {
              "outlinewidth": 0,
              "ticks": ""
             }
            },
            "type": "scattercarpet"
           }
          ],
          "scattergeo": [
           {
            "marker": {
             "colorbar": {
              "outlinewidth": 0,
              "ticks": ""
             }
            },
            "type": "scattergeo"
           }
          ],
          "scattergl": [
           {
            "marker": {
             "colorbar": {
              "outlinewidth": 0,
              "ticks": ""
             }
            },
            "type": "scattergl"
           }
          ],
          "scattermapbox": [
           {
            "marker": {
             "colorbar": {
              "outlinewidth": 0,
              "ticks": ""
             }
            },
            "type": "scattermapbox"
           }
          ],
          "scatterpolar": [
           {
            "marker": {
             "colorbar": {
              "outlinewidth": 0,
              "ticks": ""
             }
            },
            "type": "scatterpolar"
           }
          ],
          "scatterpolargl": [
           {
            "marker": {
             "colorbar": {
              "outlinewidth": 0,
              "ticks": ""
             }
            },
            "type": "scatterpolargl"
           }
          ],
          "scatterternary": [
           {
            "marker": {
             "colorbar": {
              "outlinewidth": 0,
              "ticks": ""
             }
            },
            "type": "scatterternary"
           }
          ],
          "surface": [
           {
            "colorbar": {
             "outlinewidth": 0,
             "ticks": ""
            },
            "colorscale": [
             [
              0,
              "#0d0887"
             ],
             [
              0.1111111111111111,
              "#46039f"
             ],
             [
              0.2222222222222222,
              "#7201a8"
             ],
             [
              0.3333333333333333,
              "#9c179e"
             ],
             [
              0.4444444444444444,
              "#bd3786"
             ],
             [
              0.5555555555555556,
              "#d8576b"
             ],
             [
              0.6666666666666666,
              "#ed7953"
             ],
             [
              0.7777777777777778,
              "#fb9f3a"
             ],
             [
              0.8888888888888888,
              "#fdca26"
             ],
             [
              1,
              "#f0f921"
             ]
            ],
            "type": "surface"
           }
          ],
          "table": [
           {
            "cells": {
             "fill": {
              "color": "#EBF0F8"
             },
             "line": {
              "color": "white"
             }
            },
            "header": {
             "fill": {
              "color": "#C8D4E3"
             },
             "line": {
              "color": "white"
             }
            },
            "type": "table"
           }
          ]
         },
         "layout": {
          "annotationdefaults": {
           "arrowcolor": "#2a3f5f",
           "arrowhead": 0,
           "arrowwidth": 1
          },
          "autotypenumbers": "strict",
          "coloraxis": {
           "colorbar": {
            "outlinewidth": 0,
            "ticks": ""
           }
          },
          "colorscale": {
           "diverging": [
            [
             0,
             "#8e0152"
            ],
            [
             0.1,
             "#c51b7d"
            ],
            [
             0.2,
             "#de77ae"
            ],
            [
             0.3,
             "#f1b6da"
            ],
            [
             0.4,
             "#fde0ef"
            ],
            [
             0.5,
             "#f7f7f7"
            ],
            [
             0.6,
             "#e6f5d0"
            ],
            [
             0.7,
             "#b8e186"
            ],
            [
             0.8,
             "#7fbc41"
            ],
            [
             0.9,
             "#4d9221"
            ],
            [
             1,
             "#276419"
            ]
           ],
           "sequential": [
            [
             0,
             "#0d0887"
            ],
            [
             0.1111111111111111,
             "#46039f"
            ],
            [
             0.2222222222222222,
             "#7201a8"
            ],
            [
             0.3333333333333333,
             "#9c179e"
            ],
            [
             0.4444444444444444,
             "#bd3786"
            ],
            [
             0.5555555555555556,
             "#d8576b"
            ],
            [
             0.6666666666666666,
             "#ed7953"
            ],
            [
             0.7777777777777778,
             "#fb9f3a"
            ],
            [
             0.8888888888888888,
             "#fdca26"
            ],
            [
             1,
             "#f0f921"
            ]
           ],
           "sequentialminus": [
            [
             0,
             "#0d0887"
            ],
            [
             0.1111111111111111,
             "#46039f"
            ],
            [
             0.2222222222222222,
             "#7201a8"
            ],
            [
             0.3333333333333333,
             "#9c179e"
            ],
            [
             0.4444444444444444,
             "#bd3786"
            ],
            [
             0.5555555555555556,
             "#d8576b"
            ],
            [
             0.6666666666666666,
             "#ed7953"
            ],
            [
             0.7777777777777778,
             "#fb9f3a"
            ],
            [
             0.8888888888888888,
             "#fdca26"
            ],
            [
             1,
             "#f0f921"
            ]
           ]
          },
          "colorway": [
           "#636efa",
           "#EF553B",
           "#00cc96",
           "#ab63fa",
           "#FFA15A",
           "#19d3f3",
           "#FF6692",
           "#B6E880",
           "#FF97FF",
           "#FECB52"
          ],
          "font": {
           "color": "#2a3f5f"
          },
          "geo": {
           "bgcolor": "white",
           "lakecolor": "white",
           "landcolor": "#E5ECF6",
           "showlakes": true,
           "showland": true,
           "subunitcolor": "white"
          },
          "hoverlabel": {
           "align": "left"
          },
          "hovermode": "closest",
          "mapbox": {
           "style": "light"
          },
          "paper_bgcolor": "white",
          "plot_bgcolor": "#E5ECF6",
          "polar": {
           "angularaxis": {
            "gridcolor": "white",
            "linecolor": "white",
            "ticks": ""
           },
           "bgcolor": "#E5ECF6",
           "radialaxis": {
            "gridcolor": "white",
            "linecolor": "white",
            "ticks": ""
           }
          },
          "scene": {
           "xaxis": {
            "backgroundcolor": "#E5ECF6",
            "gridcolor": "white",
            "gridwidth": 2,
            "linecolor": "white",
            "showbackground": true,
            "ticks": "",
            "zerolinecolor": "white"
           },
           "yaxis": {
            "backgroundcolor": "#E5ECF6",
            "gridcolor": "white",
            "gridwidth": 2,
            "linecolor": "white",
            "showbackground": true,
            "ticks": "",
            "zerolinecolor": "white"
           },
           "zaxis": {
            "backgroundcolor": "#E5ECF6",
            "gridcolor": "white",
            "gridwidth": 2,
            "linecolor": "white",
            "showbackground": true,
            "ticks": "",
            "zerolinecolor": "white"
           }
          },
          "shapedefaults": {
           "line": {
            "color": "#2a3f5f"
           }
          },
          "ternary": {
           "aaxis": {
            "gridcolor": "white",
            "linecolor": "white",
            "ticks": ""
           },
           "baxis": {
            "gridcolor": "white",
            "linecolor": "white",
            "ticks": ""
           },
           "bgcolor": "#E5ECF6",
           "caxis": {
            "gridcolor": "white",
            "linecolor": "white",
            "ticks": ""
           }
          },
          "title": {
           "x": 0.05
          },
          "xaxis": {
           "automargin": true,
           "gridcolor": "white",
           "linecolor": "white",
           "ticks": "",
           "title": {
            "standoff": 15
           },
           "zerolinecolor": "white",
           "zerolinewidth": 2
          },
          "yaxis": {
           "automargin": true,
           "gridcolor": "white",
           "linecolor": "white",
           "ticks": "",
           "title": {
            "standoff": 15
           },
           "zerolinecolor": "white",
           "zerolinewidth": 2
          }
         }
        },
        "title": {
         "text": "Distribution of Products in Makeup"
        }
       }
      }
     },
     "metadata": {},
     "output_type": "display_data"
    },
    {
     "name": "stderr",
     "output_type": "stream",
     "text": [
      "C:\\Users\\celia\\AppData\\Local\\Temp\\ipykernel_15092\\1534164728.py:14: SettingWithCopyWarning:\n",
      "\n",
      "\n",
      "A value is trying to be set on a copy of a slice from a DataFrame.\n",
      "Try using .loc[row_indexer,col_indexer] = value instead\n",
      "\n",
      "See the caveats in the documentation: https://pandas.pydata.org/pandas-docs/stable/user_guide/indexing.html#returning-a-view-versus-a-copy\n",
      "\n",
      "C:\\Users\\celia\\AppData\\Local\\Temp\\ipykernel_15092\\1534164728.py:15: SettingWithCopyWarning:\n",
      "\n",
      "\n",
      "A value is trying to be set on a copy of a slice from a DataFrame.\n",
      "Try using .loc[row_indexer,col_indexer] = value instead\n",
      "\n",
      "See the caveats in the documentation: https://pandas.pydata.org/pandas-docs/stable/user_guide/indexing.html#returning-a-view-versus-a-copy\n",
      "\n"
     ]
    },
    {
     "data": {
      "application/vnd.plotly.v1+json": {
       "config": {
        "plotlyServerURL": "https://plot.ly"
       },
       "data": [
        {
         "domain": {
          "x": [
           0,
           1
          ],
          "y": [
           0,
           1
          ]
         },
         "hole": 0.3,
         "hovertemplate": "<b>%{hovertext}</b><br><br>Subcategory=%{label}<br>Number of Products=%{value}<extra></extra>",
         "hovertext": [
          "Makeup remover<br>258 (13.1%)",
          "Masks<br>156 (7.9%)",
          "Mens grooming<br>58 (2.9%)",
          "Others<br>20 (1.0%)",
          "Parapharmacy<br>21 (1.1%)",
          "Specific treatment claims<br>1200 (60.8%)",
          "Sun care<br>119 (6.0%)",
          "Treatment kits<br>137 (6.9%)",
          "Unknown<br>6 (0.3%)"
         ],
         "labels": [
          "Makeup remover",
          "Masks",
          "Mens grooming",
          "Others",
          "Parapharmacy",
          "Specific treatment claims",
          "Sun care",
          "Treatment kits",
          "Unknown"
         ],
         "legendgroup": "",
         "name": "",
         "showlegend": true,
         "type": "pie",
         "values": [
          258,
          156,
          58,
          20,
          21,
          1200,
          119,
          137,
          6
         ]
        }
       ],
       "layout": {
        "legend": {
         "tracegroupgap": 0
        },
        "template": {
         "data": {
          "bar": [
           {
            "error_x": {
             "color": "#2a3f5f"
            },
            "error_y": {
             "color": "#2a3f5f"
            },
            "marker": {
             "line": {
              "color": "#E5ECF6",
              "width": 0.5
             },
             "pattern": {
              "fillmode": "overlay",
              "size": 10,
              "solidity": 0.2
             }
            },
            "type": "bar"
           }
          ],
          "barpolar": [
           {
            "marker": {
             "line": {
              "color": "#E5ECF6",
              "width": 0.5
             },
             "pattern": {
              "fillmode": "overlay",
              "size": 10,
              "solidity": 0.2
             }
            },
            "type": "barpolar"
           }
          ],
          "carpet": [
           {
            "aaxis": {
             "endlinecolor": "#2a3f5f",
             "gridcolor": "white",
             "linecolor": "white",
             "minorgridcolor": "white",
             "startlinecolor": "#2a3f5f"
            },
            "baxis": {
             "endlinecolor": "#2a3f5f",
             "gridcolor": "white",
             "linecolor": "white",
             "minorgridcolor": "white",
             "startlinecolor": "#2a3f5f"
            },
            "type": "carpet"
           }
          ],
          "choropleth": [
           {
            "colorbar": {
             "outlinewidth": 0,
             "ticks": ""
            },
            "type": "choropleth"
           }
          ],
          "contour": [
           {
            "colorbar": {
             "outlinewidth": 0,
             "ticks": ""
            },
            "colorscale": [
             [
              0,
              "#0d0887"
             ],
             [
              0.1111111111111111,
              "#46039f"
             ],
             [
              0.2222222222222222,
              "#7201a8"
             ],
             [
              0.3333333333333333,
              "#9c179e"
             ],
             [
              0.4444444444444444,
              "#bd3786"
             ],
             [
              0.5555555555555556,
              "#d8576b"
             ],
             [
              0.6666666666666666,
              "#ed7953"
             ],
             [
              0.7777777777777778,
              "#fb9f3a"
             ],
             [
              0.8888888888888888,
              "#fdca26"
             ],
             [
              1,
              "#f0f921"
             ]
            ],
            "type": "contour"
           }
          ],
          "contourcarpet": [
           {
            "colorbar": {
             "outlinewidth": 0,
             "ticks": ""
            },
            "type": "contourcarpet"
           }
          ],
          "heatmap": [
           {
            "colorbar": {
             "outlinewidth": 0,
             "ticks": ""
            },
            "colorscale": [
             [
              0,
              "#0d0887"
             ],
             [
              0.1111111111111111,
              "#46039f"
             ],
             [
              0.2222222222222222,
              "#7201a8"
             ],
             [
              0.3333333333333333,
              "#9c179e"
             ],
             [
              0.4444444444444444,
              "#bd3786"
             ],
             [
              0.5555555555555556,
              "#d8576b"
             ],
             [
              0.6666666666666666,
              "#ed7953"
             ],
             [
              0.7777777777777778,
              "#fb9f3a"
             ],
             [
              0.8888888888888888,
              "#fdca26"
             ],
             [
              1,
              "#f0f921"
             ]
            ],
            "type": "heatmap"
           }
          ],
          "heatmapgl": [
           {
            "colorbar": {
             "outlinewidth": 0,
             "ticks": ""
            },
            "colorscale": [
             [
              0,
              "#0d0887"
             ],
             [
              0.1111111111111111,
              "#46039f"
             ],
             [
              0.2222222222222222,
              "#7201a8"
             ],
             [
              0.3333333333333333,
              "#9c179e"
             ],
             [
              0.4444444444444444,
              "#bd3786"
             ],
             [
              0.5555555555555556,
              "#d8576b"
             ],
             [
              0.6666666666666666,
              "#ed7953"
             ],
             [
              0.7777777777777778,
              "#fb9f3a"
             ],
             [
              0.8888888888888888,
              "#fdca26"
             ],
             [
              1,
              "#f0f921"
             ]
            ],
            "type": "heatmapgl"
           }
          ],
          "histogram": [
           {
            "marker": {
             "pattern": {
              "fillmode": "overlay",
              "size": 10,
              "solidity": 0.2
             }
            },
            "type": "histogram"
           }
          ],
          "histogram2d": [
           {
            "colorbar": {
             "outlinewidth": 0,
             "ticks": ""
            },
            "colorscale": [
             [
              0,
              "#0d0887"
             ],
             [
              0.1111111111111111,
              "#46039f"
             ],
             [
              0.2222222222222222,
              "#7201a8"
             ],
             [
              0.3333333333333333,
              "#9c179e"
             ],
             [
              0.4444444444444444,
              "#bd3786"
             ],
             [
              0.5555555555555556,
              "#d8576b"
             ],
             [
              0.6666666666666666,
              "#ed7953"
             ],
             [
              0.7777777777777778,
              "#fb9f3a"
             ],
             [
              0.8888888888888888,
              "#fdca26"
             ],
             [
              1,
              "#f0f921"
             ]
            ],
            "type": "histogram2d"
           }
          ],
          "histogram2dcontour": [
           {
            "colorbar": {
             "outlinewidth": 0,
             "ticks": ""
            },
            "colorscale": [
             [
              0,
              "#0d0887"
             ],
             [
              0.1111111111111111,
              "#46039f"
             ],
             [
              0.2222222222222222,
              "#7201a8"
             ],
             [
              0.3333333333333333,
              "#9c179e"
             ],
             [
              0.4444444444444444,
              "#bd3786"
             ],
             [
              0.5555555555555556,
              "#d8576b"
             ],
             [
              0.6666666666666666,
              "#ed7953"
             ],
             [
              0.7777777777777778,
              "#fb9f3a"
             ],
             [
              0.8888888888888888,
              "#fdca26"
             ],
             [
              1,
              "#f0f921"
             ]
            ],
            "type": "histogram2dcontour"
           }
          ],
          "mesh3d": [
           {
            "colorbar": {
             "outlinewidth": 0,
             "ticks": ""
            },
            "type": "mesh3d"
           }
          ],
          "parcoords": [
           {
            "line": {
             "colorbar": {
              "outlinewidth": 0,
              "ticks": ""
             }
            },
            "type": "parcoords"
           }
          ],
          "pie": [
           {
            "automargin": true,
            "type": "pie"
           }
          ],
          "scatter": [
           {
            "fillpattern": {
             "fillmode": "overlay",
             "size": 10,
             "solidity": 0.2
            },
            "type": "scatter"
           }
          ],
          "scatter3d": [
           {
            "line": {
             "colorbar": {
              "outlinewidth": 0,
              "ticks": ""
             }
            },
            "marker": {
             "colorbar": {
              "outlinewidth": 0,
              "ticks": ""
             }
            },
            "type": "scatter3d"
           }
          ],
          "scattercarpet": [
           {
            "marker": {
             "colorbar": {
              "outlinewidth": 0,
              "ticks": ""
             }
            },
            "type": "scattercarpet"
           }
          ],
          "scattergeo": [
           {
            "marker": {
             "colorbar": {
              "outlinewidth": 0,
              "ticks": ""
             }
            },
            "type": "scattergeo"
           }
          ],
          "scattergl": [
           {
            "marker": {
             "colorbar": {
              "outlinewidth": 0,
              "ticks": ""
             }
            },
            "type": "scattergl"
           }
          ],
          "scattermapbox": [
           {
            "marker": {
             "colorbar": {
              "outlinewidth": 0,
              "ticks": ""
             }
            },
            "type": "scattermapbox"
           }
          ],
          "scatterpolar": [
           {
            "marker": {
             "colorbar": {
              "outlinewidth": 0,
              "ticks": ""
             }
            },
            "type": "scatterpolar"
           }
          ],
          "scatterpolargl": [
           {
            "marker": {
             "colorbar": {
              "outlinewidth": 0,
              "ticks": ""
             }
            },
            "type": "scatterpolargl"
           }
          ],
          "scatterternary": [
           {
            "marker": {
             "colorbar": {
              "outlinewidth": 0,
              "ticks": ""
             }
            },
            "type": "scatterternary"
           }
          ],
          "surface": [
           {
            "colorbar": {
             "outlinewidth": 0,
             "ticks": ""
            },
            "colorscale": [
             [
              0,
              "#0d0887"
             ],
             [
              0.1111111111111111,
              "#46039f"
             ],
             [
              0.2222222222222222,
              "#7201a8"
             ],
             [
              0.3333333333333333,
              "#9c179e"
             ],
             [
              0.4444444444444444,
              "#bd3786"
             ],
             [
              0.5555555555555556,
              "#d8576b"
             ],
             [
              0.6666666666666666,
              "#ed7953"
             ],
             [
              0.7777777777777778,
              "#fb9f3a"
             ],
             [
              0.8888888888888888,
              "#fdca26"
             ],
             [
              1,
              "#f0f921"
             ]
            ],
            "type": "surface"
           }
          ],
          "table": [
           {
            "cells": {
             "fill": {
              "color": "#EBF0F8"
             },
             "line": {
              "color": "white"
             }
            },
            "header": {
             "fill": {
              "color": "#C8D4E3"
             },
             "line": {
              "color": "white"
             }
            },
            "type": "table"
           }
          ]
         },
         "layout": {
          "annotationdefaults": {
           "arrowcolor": "#2a3f5f",
           "arrowhead": 0,
           "arrowwidth": 1
          },
          "autotypenumbers": "strict",
          "coloraxis": {
           "colorbar": {
            "outlinewidth": 0,
            "ticks": ""
           }
          },
          "colorscale": {
           "diverging": [
            [
             0,
             "#8e0152"
            ],
            [
             0.1,
             "#c51b7d"
            ],
            [
             0.2,
             "#de77ae"
            ],
            [
             0.3,
             "#f1b6da"
            ],
            [
             0.4,
             "#fde0ef"
            ],
            [
             0.5,
             "#f7f7f7"
            ],
            [
             0.6,
             "#e6f5d0"
            ],
            [
             0.7,
             "#b8e186"
            ],
            [
             0.8,
             "#7fbc41"
            ],
            [
             0.9,
             "#4d9221"
            ],
            [
             1,
             "#276419"
            ]
           ],
           "sequential": [
            [
             0,
             "#0d0887"
            ],
            [
             0.1111111111111111,
             "#46039f"
            ],
            [
             0.2222222222222222,
             "#7201a8"
            ],
            [
             0.3333333333333333,
             "#9c179e"
            ],
            [
             0.4444444444444444,
             "#bd3786"
            ],
            [
             0.5555555555555556,
             "#d8576b"
            ],
            [
             0.6666666666666666,
             "#ed7953"
            ],
            [
             0.7777777777777778,
             "#fb9f3a"
            ],
            [
             0.8888888888888888,
             "#fdca26"
            ],
            [
             1,
             "#f0f921"
            ]
           ],
           "sequentialminus": [
            [
             0,
             "#0d0887"
            ],
            [
             0.1111111111111111,
             "#46039f"
            ],
            [
             0.2222222222222222,
             "#7201a8"
            ],
            [
             0.3333333333333333,
             "#9c179e"
            ],
            [
             0.4444444444444444,
             "#bd3786"
            ],
            [
             0.5555555555555556,
             "#d8576b"
            ],
            [
             0.6666666666666666,
             "#ed7953"
            ],
            [
             0.7777777777777778,
             "#fb9f3a"
            ],
            [
             0.8888888888888888,
             "#fdca26"
            ],
            [
             1,
             "#f0f921"
            ]
           ]
          },
          "colorway": [
           "#636efa",
           "#EF553B",
           "#00cc96",
           "#ab63fa",
           "#FFA15A",
           "#19d3f3",
           "#FF6692",
           "#B6E880",
           "#FF97FF",
           "#FECB52"
          ],
          "font": {
           "color": "#2a3f5f"
          },
          "geo": {
           "bgcolor": "white",
           "lakecolor": "white",
           "landcolor": "#E5ECF6",
           "showlakes": true,
           "showland": true,
           "subunitcolor": "white"
          },
          "hoverlabel": {
           "align": "left"
          },
          "hovermode": "closest",
          "mapbox": {
           "style": "light"
          },
          "paper_bgcolor": "white",
          "plot_bgcolor": "#E5ECF6",
          "polar": {
           "angularaxis": {
            "gridcolor": "white",
            "linecolor": "white",
            "ticks": ""
           },
           "bgcolor": "#E5ECF6",
           "radialaxis": {
            "gridcolor": "white",
            "linecolor": "white",
            "ticks": ""
           }
          },
          "scene": {
           "xaxis": {
            "backgroundcolor": "#E5ECF6",
            "gridcolor": "white",
            "gridwidth": 2,
            "linecolor": "white",
            "showbackground": true,
            "ticks": "",
            "zerolinecolor": "white"
           },
           "yaxis": {
            "backgroundcolor": "#E5ECF6",
            "gridcolor": "white",
            "gridwidth": 2,
            "linecolor": "white",
            "showbackground": true,
            "ticks": "",
            "zerolinecolor": "white"
           },
           "zaxis": {
            "backgroundcolor": "#E5ECF6",
            "gridcolor": "white",
            "gridwidth": 2,
            "linecolor": "white",
            "showbackground": true,
            "ticks": "",
            "zerolinecolor": "white"
           }
          },
          "shapedefaults": {
           "line": {
            "color": "#2a3f5f"
           }
          },
          "ternary": {
           "aaxis": {
            "gridcolor": "white",
            "linecolor": "white",
            "ticks": ""
           },
           "baxis": {
            "gridcolor": "white",
            "linecolor": "white",
            "ticks": ""
           },
           "bgcolor": "#E5ECF6",
           "caxis": {
            "gridcolor": "white",
            "linecolor": "white",
            "ticks": ""
           }
          },
          "title": {
           "x": 0.05
          },
          "xaxis": {
           "automargin": true,
           "gridcolor": "white",
           "linecolor": "white",
           "ticks": "",
           "title": {
            "standoff": 15
           },
           "zerolinecolor": "white",
           "zerolinewidth": 2
          },
          "yaxis": {
           "automargin": true,
           "gridcolor": "white",
           "linecolor": "white",
           "ticks": "",
           "title": {
            "standoff": 15
           },
           "zerolinecolor": "white",
           "zerolinewidth": 2
          }
         }
        },
        "title": {
         "text": "Distribution of Products in Treatment"
        }
       }
      }
     },
     "metadata": {},
     "output_type": "display_data"
    }
   ],
   "source": [
    "\n",
    "# Step 1: Filter out the unknown category\n",
    "filtered_df = final_ingredients_df[final_ingredients_df['category'] != 'Unknown']\n",
    "\n",
    "# Step 2: Count the number of products per subcategory within each category\n",
    "products_per_subcategory = filtered_df.groupby(['category', 'subcategory']).size().reset_index(name='product_count')\n",
    "\n",
    "# Step 3: Create a pie chart for each category\n",
    "categories = products_per_subcategory['category'].unique()\n",
    "\n",
    "for category in categories:\n",
    "    category_data = products_per_subcategory[products_per_subcategory['category'] == category]\n",
    "    \n",
    "    # Calculate percentage for annotations\n",
    "    category_data['percentage'] = (category_data['product_count'] / category_data['product_count'].sum()) * 100\n",
    "    category_data['label'] = category_data['subcategory'] + '<br>' + category_data['product_count'].astype(str) + ' (' + category_data['percentage'].round(1).astype(str) + '%)'\n",
    "\n",
    "    fig = px.pie(category_data,\n",
    "                 values='product_count',\n",
    "                 names='subcategory',\n",
    "                 title=f'Distribution of Products in {category}',\n",
    "                 labels={'product_count': 'Number of Products', 'subcategory': 'Subcategory'},\n",
    "                 hole=0.3,  # Donut chart for better visibility\n",
    "                 hover_name='label')  # Use the label for hover text\n",
    "\n",
    "    # Show the plot\n",
    "    fig.show()\n",
    "\n"
   ]
  },
  {
   "cell_type": "code",
   "execution_count": 37,
   "metadata": {},
   "outputs": [
    {
     "data": {
      "application/vnd.plotly.v1+json": {
       "config": {
        "plotlyServerURL": "https://plot.ly"
       },
       "data": [
        {
         "customdata": [
          [
           "With Endocrine Disruptors"
          ],
          [
           "Without Endocrine Disruptors"
          ]
         ],
         "domain": {
          "x": [
           0,
           1
          ],
          "y": [
           0,
           1
          ]
         },
         "hovertemplate": "Status=%{customdata[0]}<br>Percentage=%{value}<extra></extra>",
         "labels": [
          "With Endocrine Disruptors",
          "Without Endocrine Disruptors"
         ],
         "legendgroup": "",
         "marker": {
          "colors": [
           "rgb(102,194,165)",
           "rgb(252,141,98)"
          ]
         },
         "name": "",
         "showlegend": true,
         "type": "pie",
         "values": [
          11.55627605372858,
          88.44372394627142
         ]
        }
       ],
       "layout": {
        "legend": {
         "tracegroupgap": 0
        },
        "piecolorway": [
         "rgb(102,194,165)",
         "rgb(252,141,98)",
         "rgb(141,160,203)",
         "rgb(231,138,195)",
         "rgb(166,216,84)",
         "rgb(255,217,47)",
         "rgb(229,196,148)",
         "rgb(179,179,179)"
        ],
        "template": {
         "data": {
          "bar": [
           {
            "error_x": {
             "color": "#2a3f5f"
            },
            "error_y": {
             "color": "#2a3f5f"
            },
            "marker": {
             "line": {
              "color": "#E5ECF6",
              "width": 0.5
             },
             "pattern": {
              "fillmode": "overlay",
              "size": 10,
              "solidity": 0.2
             }
            },
            "type": "bar"
           }
          ],
          "barpolar": [
           {
            "marker": {
             "line": {
              "color": "#E5ECF6",
              "width": 0.5
             },
             "pattern": {
              "fillmode": "overlay",
              "size": 10,
              "solidity": 0.2
             }
            },
            "type": "barpolar"
           }
          ],
          "carpet": [
           {
            "aaxis": {
             "endlinecolor": "#2a3f5f",
             "gridcolor": "white",
             "linecolor": "white",
             "minorgridcolor": "white",
             "startlinecolor": "#2a3f5f"
            },
            "baxis": {
             "endlinecolor": "#2a3f5f",
             "gridcolor": "white",
             "linecolor": "white",
             "minorgridcolor": "white",
             "startlinecolor": "#2a3f5f"
            },
            "type": "carpet"
           }
          ],
          "choropleth": [
           {
            "colorbar": {
             "outlinewidth": 0,
             "ticks": ""
            },
            "type": "choropleth"
           }
          ],
          "contour": [
           {
            "colorbar": {
             "outlinewidth": 0,
             "ticks": ""
            },
            "colorscale": [
             [
              0,
              "#0d0887"
             ],
             [
              0.1111111111111111,
              "#46039f"
             ],
             [
              0.2222222222222222,
              "#7201a8"
             ],
             [
              0.3333333333333333,
              "#9c179e"
             ],
             [
              0.4444444444444444,
              "#bd3786"
             ],
             [
              0.5555555555555556,
              "#d8576b"
             ],
             [
              0.6666666666666666,
              "#ed7953"
             ],
             [
              0.7777777777777778,
              "#fb9f3a"
             ],
             [
              0.8888888888888888,
              "#fdca26"
             ],
             [
              1,
              "#f0f921"
             ]
            ],
            "type": "contour"
           }
          ],
          "contourcarpet": [
           {
            "colorbar": {
             "outlinewidth": 0,
             "ticks": ""
            },
            "type": "contourcarpet"
           }
          ],
          "heatmap": [
           {
            "colorbar": {
             "outlinewidth": 0,
             "ticks": ""
            },
            "colorscale": [
             [
              0,
              "#0d0887"
             ],
             [
              0.1111111111111111,
              "#46039f"
             ],
             [
              0.2222222222222222,
              "#7201a8"
             ],
             [
              0.3333333333333333,
              "#9c179e"
             ],
             [
              0.4444444444444444,
              "#bd3786"
             ],
             [
              0.5555555555555556,
              "#d8576b"
             ],
             [
              0.6666666666666666,
              "#ed7953"
             ],
             [
              0.7777777777777778,
              "#fb9f3a"
             ],
             [
              0.8888888888888888,
              "#fdca26"
             ],
             [
              1,
              "#f0f921"
             ]
            ],
            "type": "heatmap"
           }
          ],
          "heatmapgl": [
           {
            "colorbar": {
             "outlinewidth": 0,
             "ticks": ""
            },
            "colorscale": [
             [
              0,
              "#0d0887"
             ],
             [
              0.1111111111111111,
              "#46039f"
             ],
             [
              0.2222222222222222,
              "#7201a8"
             ],
             [
              0.3333333333333333,
              "#9c179e"
             ],
             [
              0.4444444444444444,
              "#bd3786"
             ],
             [
              0.5555555555555556,
              "#d8576b"
             ],
             [
              0.6666666666666666,
              "#ed7953"
             ],
             [
              0.7777777777777778,
              "#fb9f3a"
             ],
             [
              0.8888888888888888,
              "#fdca26"
             ],
             [
              1,
              "#f0f921"
             ]
            ],
            "type": "heatmapgl"
           }
          ],
          "histogram": [
           {
            "marker": {
             "pattern": {
              "fillmode": "overlay",
              "size": 10,
              "solidity": 0.2
             }
            },
            "type": "histogram"
           }
          ],
          "histogram2d": [
           {
            "colorbar": {
             "outlinewidth": 0,
             "ticks": ""
            },
            "colorscale": [
             [
              0,
              "#0d0887"
             ],
             [
              0.1111111111111111,
              "#46039f"
             ],
             [
              0.2222222222222222,
              "#7201a8"
             ],
             [
              0.3333333333333333,
              "#9c179e"
             ],
             [
              0.4444444444444444,
              "#bd3786"
             ],
             [
              0.5555555555555556,
              "#d8576b"
             ],
             [
              0.6666666666666666,
              "#ed7953"
             ],
             [
              0.7777777777777778,
              "#fb9f3a"
             ],
             [
              0.8888888888888888,
              "#fdca26"
             ],
             [
              1,
              "#f0f921"
             ]
            ],
            "type": "histogram2d"
           }
          ],
          "histogram2dcontour": [
           {
            "colorbar": {
             "outlinewidth": 0,
             "ticks": ""
            },
            "colorscale": [
             [
              0,
              "#0d0887"
             ],
             [
              0.1111111111111111,
              "#46039f"
             ],
             [
              0.2222222222222222,
              "#7201a8"
             ],
             [
              0.3333333333333333,
              "#9c179e"
             ],
             [
              0.4444444444444444,
              "#bd3786"
             ],
             [
              0.5555555555555556,
              "#d8576b"
             ],
             [
              0.6666666666666666,
              "#ed7953"
             ],
             [
              0.7777777777777778,
              "#fb9f3a"
             ],
             [
              0.8888888888888888,
              "#fdca26"
             ],
             [
              1,
              "#f0f921"
             ]
            ],
            "type": "histogram2dcontour"
           }
          ],
          "mesh3d": [
           {
            "colorbar": {
             "outlinewidth": 0,
             "ticks": ""
            },
            "type": "mesh3d"
           }
          ],
          "parcoords": [
           {
            "line": {
             "colorbar": {
              "outlinewidth": 0,
              "ticks": ""
             }
            },
            "type": "parcoords"
           }
          ],
          "pie": [
           {
            "automargin": true,
            "type": "pie"
           }
          ],
          "scatter": [
           {
            "fillpattern": {
             "fillmode": "overlay",
             "size": 10,
             "solidity": 0.2
            },
            "type": "scatter"
           }
          ],
          "scatter3d": [
           {
            "line": {
             "colorbar": {
              "outlinewidth": 0,
              "ticks": ""
             }
            },
            "marker": {
             "colorbar": {
              "outlinewidth": 0,
              "ticks": ""
             }
            },
            "type": "scatter3d"
           }
          ],
          "scattercarpet": [
           {
            "marker": {
             "colorbar": {
              "outlinewidth": 0,
              "ticks": ""
             }
            },
            "type": "scattercarpet"
           }
          ],
          "scattergeo": [
           {
            "marker": {
             "colorbar": {
              "outlinewidth": 0,
              "ticks": ""
             }
            },
            "type": "scattergeo"
           }
          ],
          "scattergl": [
           {
            "marker": {
             "colorbar": {
              "outlinewidth": 0,
              "ticks": ""
             }
            },
            "type": "scattergl"
           }
          ],
          "scattermapbox": [
           {
            "marker": {
             "colorbar": {
              "outlinewidth": 0,
              "ticks": ""
             }
            },
            "type": "scattermapbox"
           }
          ],
          "scatterpolar": [
           {
            "marker": {
             "colorbar": {
              "outlinewidth": 0,
              "ticks": ""
             }
            },
            "type": "scatterpolar"
           }
          ],
          "scatterpolargl": [
           {
            "marker": {
             "colorbar": {
              "outlinewidth": 0,
              "ticks": ""
             }
            },
            "type": "scatterpolargl"
           }
          ],
          "scatterternary": [
           {
            "marker": {
             "colorbar": {
              "outlinewidth": 0,
              "ticks": ""
             }
            },
            "type": "scatterternary"
           }
          ],
          "surface": [
           {
            "colorbar": {
             "outlinewidth": 0,
             "ticks": ""
            },
            "colorscale": [
             [
              0,
              "#0d0887"
             ],
             [
              0.1111111111111111,
              "#46039f"
             ],
             [
              0.2222222222222222,
              "#7201a8"
             ],
             [
              0.3333333333333333,
              "#9c179e"
             ],
             [
              0.4444444444444444,
              "#bd3786"
             ],
             [
              0.5555555555555556,
              "#d8576b"
             ],
             [
              0.6666666666666666,
              "#ed7953"
             ],
             [
              0.7777777777777778,
              "#fb9f3a"
             ],
             [
              0.8888888888888888,
              "#fdca26"
             ],
             [
              1,
              "#f0f921"
             ]
            ],
            "type": "surface"
           }
          ],
          "table": [
           {
            "cells": {
             "fill": {
              "color": "#EBF0F8"
             },
             "line": {
              "color": "white"
             }
            },
            "header": {
             "fill": {
              "color": "#C8D4E3"
             },
             "line": {
              "color": "white"
             }
            },
            "type": "table"
           }
          ]
         },
         "layout": {
          "annotationdefaults": {
           "arrowcolor": "#2a3f5f",
           "arrowhead": 0,
           "arrowwidth": 1
          },
          "autotypenumbers": "strict",
          "coloraxis": {
           "colorbar": {
            "outlinewidth": 0,
            "ticks": ""
           }
          },
          "colorscale": {
           "diverging": [
            [
             0,
             "#8e0152"
            ],
            [
             0.1,
             "#c51b7d"
            ],
            [
             0.2,
             "#de77ae"
            ],
            [
             0.3,
             "#f1b6da"
            ],
            [
             0.4,
             "#fde0ef"
            ],
            [
             0.5,
             "#f7f7f7"
            ],
            [
             0.6,
             "#e6f5d0"
            ],
            [
             0.7,
             "#b8e186"
            ],
            [
             0.8,
             "#7fbc41"
            ],
            [
             0.9,
             "#4d9221"
            ],
            [
             1,
             "#276419"
            ]
           ],
           "sequential": [
            [
             0,
             "#0d0887"
            ],
            [
             0.1111111111111111,
             "#46039f"
            ],
            [
             0.2222222222222222,
             "#7201a8"
            ],
            [
             0.3333333333333333,
             "#9c179e"
            ],
            [
             0.4444444444444444,
             "#bd3786"
            ],
            [
             0.5555555555555556,
             "#d8576b"
            ],
            [
             0.6666666666666666,
             "#ed7953"
            ],
            [
             0.7777777777777778,
             "#fb9f3a"
            ],
            [
             0.8888888888888888,
             "#fdca26"
            ],
            [
             1,
             "#f0f921"
            ]
           ],
           "sequentialminus": [
            [
             0,
             "#0d0887"
            ],
            [
             0.1111111111111111,
             "#46039f"
            ],
            [
             0.2222222222222222,
             "#7201a8"
            ],
            [
             0.3333333333333333,
             "#9c179e"
            ],
            [
             0.4444444444444444,
             "#bd3786"
            ],
            [
             0.5555555555555556,
             "#d8576b"
            ],
            [
             0.6666666666666666,
             "#ed7953"
            ],
            [
             0.7777777777777778,
             "#fb9f3a"
            ],
            [
             0.8888888888888888,
             "#fdca26"
            ],
            [
             1,
             "#f0f921"
            ]
           ]
          },
          "colorway": [
           "#636efa",
           "#EF553B",
           "#00cc96",
           "#ab63fa",
           "#FFA15A",
           "#19d3f3",
           "#FF6692",
           "#B6E880",
           "#FF97FF",
           "#FECB52"
          ],
          "font": {
           "color": "#2a3f5f"
          },
          "geo": {
           "bgcolor": "white",
           "lakecolor": "white",
           "landcolor": "#E5ECF6",
           "showlakes": true,
           "showland": true,
           "subunitcolor": "white"
          },
          "hoverlabel": {
           "align": "left"
          },
          "hovermode": "closest",
          "mapbox": {
           "style": "light"
          },
          "paper_bgcolor": "white",
          "plot_bgcolor": "#E5ECF6",
          "polar": {
           "angularaxis": {
            "gridcolor": "white",
            "linecolor": "white",
            "ticks": ""
           },
           "bgcolor": "#E5ECF6",
           "radialaxis": {
            "gridcolor": "white",
            "linecolor": "white",
            "ticks": ""
           }
          },
          "scene": {
           "xaxis": {
            "backgroundcolor": "#E5ECF6",
            "gridcolor": "white",
            "gridwidth": 2,
            "linecolor": "white",
            "showbackground": true,
            "ticks": "",
            "zerolinecolor": "white"
           },
           "yaxis": {
            "backgroundcolor": "#E5ECF6",
            "gridcolor": "white",
            "gridwidth": 2,
            "linecolor": "white",
            "showbackground": true,
            "ticks": "",
            "zerolinecolor": "white"
           },
           "zaxis": {
            "backgroundcolor": "#E5ECF6",
            "gridcolor": "white",
            "gridwidth": 2,
            "linecolor": "white",
            "showbackground": true,
            "ticks": "",
            "zerolinecolor": "white"
           }
          },
          "shapedefaults": {
           "line": {
            "color": "#2a3f5f"
           }
          },
          "ternary": {
           "aaxis": {
            "gridcolor": "white",
            "linecolor": "white",
            "ticks": ""
           },
           "baxis": {
            "gridcolor": "white",
            "linecolor": "white",
            "ticks": ""
           },
           "bgcolor": "#E5ECF6",
           "caxis": {
            "gridcolor": "white",
            "linecolor": "white",
            "ticks": ""
           }
          },
          "title": {
           "x": 0.05
          },
          "xaxis": {
           "automargin": true,
           "gridcolor": "white",
           "linecolor": "white",
           "ticks": "",
           "title": {
            "standoff": 15
           },
           "zerolinecolor": "white",
           "zerolinewidth": 2
          },
          "yaxis": {
           "automargin": true,
           "gridcolor": "white",
           "linecolor": "white",
           "ticks": "",
           "title": {
            "standoff": 15
           },
           "zerolinecolor": "white",
           "zerolinewidth": 2
          }
         }
        },
        "title": {
         "text": "Percentage of Products Containing Endocrine Disruptors"
        }
       }
      }
     },
     "metadata": {},
     "output_type": "display_data"
    }
   ],
   "source": [
    "\n",
    "# Total number of products in the DataFrame\n",
    "total_products = len(final_ingredients_df)\n",
    "\n",
    "# Number of products containing endocrine disruptors\n",
    "products_with_disruptors_count = len(final_ingredients_df[final_ingredients_df['number_disruptors'] > 0])\n",
    "\n",
    "# Number of products not containing endocrine disruptors\n",
    "products_without_disruptors_count = total_products - products_with_disruptors_count\n",
    "\n",
    "# Create a summary DataFrame\n",
    "summary_data = {\n",
    "    'Status': ['With Endocrine Disruptors', 'Without Endocrine Disruptors'],\n",
    "    'Count': [products_with_disruptors_count, products_without_disruptors_count]\n",
    "}\n",
    "\n",
    "summary_df = pd.DataFrame(summary_data)\n",
    "\n",
    "# Calculate the percentage\n",
    "summary_df['Percentage'] = (summary_df['Count'] / total_products) * 100\n",
    "\n",
    "# Plotting the results\n",
    "fig = px.pie(summary_df, values='Percentage', names='Status', title='Percentage of Products Containing Endocrine Disruptors',\n",
    "             color='Status', color_discrete_sequence=px.colors.qualitative.Set2)\n",
    "\n",
    "# Show the pie chart\n",
    "fig.show()"
   ]
  },
  {
   "cell_type": "markdown",
   "metadata": {},
   "source": [
    "### **Question 1: \"Number of products per category and subcategory that contain endocrine disruptors.\"**"
   ]
  },
  {
   "cell_type": "code",
   "execution_count": 35,
   "metadata": {},
   "outputs": [
    {
     "data": {
      "text/html": [
       "<div>\n",
       "<style scoped>\n",
       "    .dataframe tbody tr th:only-of-type {\n",
       "        vertical-align: middle;\n",
       "    }\n",
       "\n",
       "    .dataframe tbody tr th {\n",
       "        vertical-align: top;\n",
       "    }\n",
       "\n",
       "    .dataframe thead th {\n",
       "        text-align: right;\n",
       "    }\n",
       "</style>\n",
       "<table border=\"1\" class=\"dataframe\">\n",
       "  <thead>\n",
       "    <tr style=\"text-align: right;\">\n",
       "      <th></th>\n",
       "      <th>category</th>\n",
       "      <th>subcategory</th>\n",
       "      <th>n_products</th>\n",
       "    </tr>\n",
       "  </thead>\n",
       "  <tbody>\n",
       "    <tr>\n",
       "      <th>0</th>\n",
       "      <td>Body</td>\n",
       "      <td>Body treatment</td>\n",
       "      <td>7</td>\n",
       "    </tr>\n",
       "    <tr>\n",
       "      <th>1</th>\n",
       "      <td>Body</td>\n",
       "      <td>Body wash</td>\n",
       "      <td>3</td>\n",
       "    </tr>\n",
       "    <tr>\n",
       "      <th>2</th>\n",
       "      <td>Body</td>\n",
       "      <td>Specific treatment claims</td>\n",
       "      <td>2</td>\n",
       "    </tr>\n",
       "    <tr>\n",
       "      <th>3</th>\n",
       "      <td>Body</td>\n",
       "      <td>Sun care</td>\n",
       "      <td>18</td>\n",
       "    </tr>\n",
       "    <tr>\n",
       "      <th>4</th>\n",
       "      <td>Makeup</td>\n",
       "      <td>Eyebrows</td>\n",
       "      <td>18</td>\n",
       "    </tr>\n",
       "    <tr>\n",
       "      <th>5</th>\n",
       "      <td>Makeup</td>\n",
       "      <td>Eyes</td>\n",
       "      <td>102</td>\n",
       "    </tr>\n",
       "    <tr>\n",
       "      <th>6</th>\n",
       "      <td>Makeup</td>\n",
       "      <td>Facial</td>\n",
       "      <td>136</td>\n",
       "    </tr>\n",
       "    <tr>\n",
       "      <th>7</th>\n",
       "      <td>Makeup</td>\n",
       "      <td>Lips</td>\n",
       "      <td>12</td>\n",
       "    </tr>\n",
       "    <tr>\n",
       "      <th>8</th>\n",
       "      <td>Makeup</td>\n",
       "      <td>Makeup kits</td>\n",
       "      <td>16</td>\n",
       "    </tr>\n",
       "    <tr>\n",
       "      <th>9</th>\n",
       "      <td>Makeup</td>\n",
       "      <td>Others</td>\n",
       "      <td>1</td>\n",
       "    </tr>\n",
       "    <tr>\n",
       "      <th>10</th>\n",
       "      <td>Makeup</td>\n",
       "      <td>Unknown</td>\n",
       "      <td>1</td>\n",
       "    </tr>\n",
       "    <tr>\n",
       "      <th>11</th>\n",
       "      <td>Treatment</td>\n",
       "      <td>Makeup remover</td>\n",
       "      <td>18</td>\n",
       "    </tr>\n",
       "    <tr>\n",
       "      <th>12</th>\n",
       "      <td>Treatment</td>\n",
       "      <td>Masks</td>\n",
       "      <td>10</td>\n",
       "    </tr>\n",
       "    <tr>\n",
       "      <th>13</th>\n",
       "      <td>Treatment</td>\n",
       "      <td>Mens grooming</td>\n",
       "      <td>5</td>\n",
       "    </tr>\n",
       "    <tr>\n",
       "      <th>14</th>\n",
       "      <td>Treatment</td>\n",
       "      <td>Others</td>\n",
       "      <td>1</td>\n",
       "    </tr>\n",
       "    <tr>\n",
       "      <th>15</th>\n",
       "      <td>Treatment</td>\n",
       "      <td>Parapharmacy</td>\n",
       "      <td>3</td>\n",
       "    </tr>\n",
       "    <tr>\n",
       "      <th>16</th>\n",
       "      <td>Treatment</td>\n",
       "      <td>Specific treatment claims</td>\n",
       "      <td>93</td>\n",
       "    </tr>\n",
       "    <tr>\n",
       "      <th>17</th>\n",
       "      <td>Treatment</td>\n",
       "      <td>Sun care</td>\n",
       "      <td>37</td>\n",
       "    </tr>\n",
       "    <tr>\n",
       "      <th>18</th>\n",
       "      <td>Treatment</td>\n",
       "      <td>Treatment kits</td>\n",
       "      <td>16</td>\n",
       "    </tr>\n",
       "  </tbody>\n",
       "</table>\n",
       "</div>"
      ],
      "text/plain": [
       "     category                subcategory  n_products\n",
       "0        Body             Body treatment           7\n",
       "1        Body                  Body wash           3\n",
       "2        Body  Specific treatment claims           2\n",
       "3        Body                   Sun care          18\n",
       "4      Makeup                   Eyebrows          18\n",
       "5      Makeup                       Eyes         102\n",
       "6      Makeup                     Facial         136\n",
       "7      Makeup                       Lips          12\n",
       "8      Makeup                Makeup kits          16\n",
       "9      Makeup                     Others           1\n",
       "10     Makeup                    Unknown           1\n",
       "11  Treatment             Makeup remover          18\n",
       "12  Treatment                      Masks          10\n",
       "13  Treatment              Mens grooming           5\n",
       "14  Treatment                     Others           1\n",
       "15  Treatment               Parapharmacy           3\n",
       "16  Treatment  Specific treatment claims          93\n",
       "17  Treatment                   Sun care          37\n",
       "18  Treatment             Treatment kits          16"
      ]
     },
     "execution_count": 35,
     "metadata": {},
     "output_type": "execute_result"
    }
   ],
   "source": [
    "# Filter the products that contain at least one endocrine disruptor\n",
    "products_with_disruptors = final_ingredients_df[final_ingredients_df['number_disruptors'] > 0]\n",
    "\n",
    "# Group by category and subcategory, and count the number of products\n",
    "disruptor_count = products_with_disruptors.groupby(['category', 'subcategory']).size().reset_index(name='n_products')\n",
    "\n",
    "# Optional: Sort the result for better visualization\n",
    "disruptor_count = disruptor_count.sort_values(by=['category', 'subcategory']).reset_index(drop=True)\n",
    "\n",
    "# Display the result\n",
    "disruptor_count"
   ]
  },
  {
   "cell_type": "code",
   "execution_count": 36,
   "metadata": {},
   "outputs": [
    {
     "data": {
      "application/vnd.plotly.v1+json": {
       "config": {
        "plotlyServerURL": "https://plot.ly"
       },
       "data": [
        {
         "alignmentgroup": "True",
         "hovertemplate": "subcategory=Body treatment<br>Category=%{x}<br>Number of Products=%{y}<extra></extra>",
         "legendgroup": "Body treatment",
         "marker": {
          "color": "#636efa",
          "pattern": {
           "shape": ""
          }
         },
         "name": "Body treatment",
         "offsetgroup": "Body treatment",
         "orientation": "v",
         "showlegend": true,
         "textposition": "auto",
         "type": "bar",
         "x": [
          "Body"
         ],
         "xaxis": "x",
         "y": [
          7
         ],
         "yaxis": "y"
        },
        {
         "alignmentgroup": "True",
         "hovertemplate": "subcategory=Body wash<br>Category=%{x}<br>Number of Products=%{y}<extra></extra>",
         "legendgroup": "Body wash",
         "marker": {
          "color": "#EF553B",
          "pattern": {
           "shape": ""
          }
         },
         "name": "Body wash",
         "offsetgroup": "Body wash",
         "orientation": "v",
         "showlegend": true,
         "textposition": "auto",
         "type": "bar",
         "x": [
          "Body"
         ],
         "xaxis": "x",
         "y": [
          3
         ],
         "yaxis": "y"
        },
        {
         "alignmentgroup": "True",
         "hovertemplate": "subcategory=Specific treatment claims<br>Category=%{x}<br>Number of Products=%{y}<extra></extra>",
         "legendgroup": "Specific treatment claims",
         "marker": {
          "color": "#00cc96",
          "pattern": {
           "shape": ""
          }
         },
         "name": "Specific treatment claims",
         "offsetgroup": "Specific treatment claims",
         "orientation": "v",
         "showlegend": true,
         "textposition": "auto",
         "type": "bar",
         "x": [
          "Body",
          "Treatment"
         ],
         "xaxis": "x",
         "y": [
          2,
          93
         ],
         "yaxis": "y"
        },
        {
         "alignmentgroup": "True",
         "hovertemplate": "subcategory=Sun care<br>Category=%{x}<br>Number of Products=%{y}<extra></extra>",
         "legendgroup": "Sun care",
         "marker": {
          "color": "#ab63fa",
          "pattern": {
           "shape": ""
          }
         },
         "name": "Sun care",
         "offsetgroup": "Sun care",
         "orientation": "v",
         "showlegend": true,
         "textposition": "auto",
         "type": "bar",
         "x": [
          "Body",
          "Treatment"
         ],
         "xaxis": "x",
         "y": [
          18,
          37
         ],
         "yaxis": "y"
        },
        {
         "alignmentgroup": "True",
         "hovertemplate": "subcategory=Eyebrows<br>Category=%{x}<br>Number of Products=%{y}<extra></extra>",
         "legendgroup": "Eyebrows",
         "marker": {
          "color": "#FFA15A",
          "pattern": {
           "shape": ""
          }
         },
         "name": "Eyebrows",
         "offsetgroup": "Eyebrows",
         "orientation": "v",
         "showlegend": true,
         "textposition": "auto",
         "type": "bar",
         "x": [
          "Makeup"
         ],
         "xaxis": "x",
         "y": [
          18
         ],
         "yaxis": "y"
        },
        {
         "alignmentgroup": "True",
         "hovertemplate": "subcategory=Eyes<br>Category=%{x}<br>Number of Products=%{y}<extra></extra>",
         "legendgroup": "Eyes",
         "marker": {
          "color": "#19d3f3",
          "pattern": {
           "shape": ""
          }
         },
         "name": "Eyes",
         "offsetgroup": "Eyes",
         "orientation": "v",
         "showlegend": true,
         "textposition": "auto",
         "type": "bar",
         "x": [
          "Makeup"
         ],
         "xaxis": "x",
         "y": [
          102
         ],
         "yaxis": "y"
        },
        {
         "alignmentgroup": "True",
         "hovertemplate": "subcategory=Facial<br>Category=%{x}<br>Number of Products=%{y}<extra></extra>",
         "legendgroup": "Facial",
         "marker": {
          "color": "#FF6692",
          "pattern": {
           "shape": ""
          }
         },
         "name": "Facial",
         "offsetgroup": "Facial",
         "orientation": "v",
         "showlegend": true,
         "textposition": "auto",
         "type": "bar",
         "x": [
          "Makeup"
         ],
         "xaxis": "x",
         "y": [
          136
         ],
         "yaxis": "y"
        },
        {
         "alignmentgroup": "True",
         "hovertemplate": "subcategory=Lips<br>Category=%{x}<br>Number of Products=%{y}<extra></extra>",
         "legendgroup": "Lips",
         "marker": {
          "color": "#B6E880",
          "pattern": {
           "shape": ""
          }
         },
         "name": "Lips",
         "offsetgroup": "Lips",
         "orientation": "v",
         "showlegend": true,
         "textposition": "auto",
         "type": "bar",
         "x": [
          "Makeup"
         ],
         "xaxis": "x",
         "y": [
          12
         ],
         "yaxis": "y"
        },
        {
         "alignmentgroup": "True",
         "hovertemplate": "subcategory=Makeup kits<br>Category=%{x}<br>Number of Products=%{y}<extra></extra>",
         "legendgroup": "Makeup kits",
         "marker": {
          "color": "#FF97FF",
          "pattern": {
           "shape": ""
          }
         },
         "name": "Makeup kits",
         "offsetgroup": "Makeup kits",
         "orientation": "v",
         "showlegend": true,
         "textposition": "auto",
         "type": "bar",
         "x": [
          "Makeup"
         ],
         "xaxis": "x",
         "y": [
          16
         ],
         "yaxis": "y"
        },
        {
         "alignmentgroup": "True",
         "hovertemplate": "subcategory=Others<br>Category=%{x}<br>Number of Products=%{y}<extra></extra>",
         "legendgroup": "Others",
         "marker": {
          "color": "#FECB52",
          "pattern": {
           "shape": ""
          }
         },
         "name": "Others",
         "offsetgroup": "Others",
         "orientation": "v",
         "showlegend": true,
         "textposition": "auto",
         "type": "bar",
         "x": [
          "Makeup",
          "Treatment"
         ],
         "xaxis": "x",
         "y": [
          1,
          1
         ],
         "yaxis": "y"
        },
        {
         "alignmentgroup": "True",
         "hovertemplate": "subcategory=Unknown<br>Category=%{x}<br>Number of Products=%{y}<extra></extra>",
         "legendgroup": "Unknown",
         "marker": {
          "color": "#636efa",
          "pattern": {
           "shape": ""
          }
         },
         "name": "Unknown",
         "offsetgroup": "Unknown",
         "orientation": "v",
         "showlegend": true,
         "textposition": "auto",
         "type": "bar",
         "x": [
          "Makeup"
         ],
         "xaxis": "x",
         "y": [
          1
         ],
         "yaxis": "y"
        },
        {
         "alignmentgroup": "True",
         "hovertemplate": "subcategory=Makeup remover<br>Category=%{x}<br>Number of Products=%{y}<extra></extra>",
         "legendgroup": "Makeup remover",
         "marker": {
          "color": "#EF553B",
          "pattern": {
           "shape": ""
          }
         },
         "name": "Makeup remover",
         "offsetgroup": "Makeup remover",
         "orientation": "v",
         "showlegend": true,
         "textposition": "auto",
         "type": "bar",
         "x": [
          "Treatment"
         ],
         "xaxis": "x",
         "y": [
          18
         ],
         "yaxis": "y"
        },
        {
         "alignmentgroup": "True",
         "hovertemplate": "subcategory=Masks<br>Category=%{x}<br>Number of Products=%{y}<extra></extra>",
         "legendgroup": "Masks",
         "marker": {
          "color": "#00cc96",
          "pattern": {
           "shape": ""
          }
         },
         "name": "Masks",
         "offsetgroup": "Masks",
         "orientation": "v",
         "showlegend": true,
         "textposition": "auto",
         "type": "bar",
         "x": [
          "Treatment"
         ],
         "xaxis": "x",
         "y": [
          10
         ],
         "yaxis": "y"
        },
        {
         "alignmentgroup": "True",
         "hovertemplate": "subcategory=Mens grooming<br>Category=%{x}<br>Number of Products=%{y}<extra></extra>",
         "legendgroup": "Mens grooming",
         "marker": {
          "color": "#ab63fa",
          "pattern": {
           "shape": ""
          }
         },
         "name": "Mens grooming",
         "offsetgroup": "Mens grooming",
         "orientation": "v",
         "showlegend": true,
         "textposition": "auto",
         "type": "bar",
         "x": [
          "Treatment"
         ],
         "xaxis": "x",
         "y": [
          5
         ],
         "yaxis": "y"
        },
        {
         "alignmentgroup": "True",
         "hovertemplate": "subcategory=Parapharmacy<br>Category=%{x}<br>Number of Products=%{y}<extra></extra>",
         "legendgroup": "Parapharmacy",
         "marker": {
          "color": "#FFA15A",
          "pattern": {
           "shape": ""
          }
         },
         "name": "Parapharmacy",
         "offsetgroup": "Parapharmacy",
         "orientation": "v",
         "showlegend": true,
         "textposition": "auto",
         "type": "bar",
         "x": [
          "Treatment"
         ],
         "xaxis": "x",
         "y": [
          3
         ],
         "yaxis": "y"
        },
        {
         "alignmentgroup": "True",
         "hovertemplate": "subcategory=Treatment kits<br>Category=%{x}<br>Number of Products=%{y}<extra></extra>",
         "legendgroup": "Treatment kits",
         "marker": {
          "color": "#19d3f3",
          "pattern": {
           "shape": ""
          }
         },
         "name": "Treatment kits",
         "offsetgroup": "Treatment kits",
         "orientation": "v",
         "showlegend": true,
         "textposition": "auto",
         "type": "bar",
         "x": [
          "Treatment"
         ],
         "xaxis": "x",
         "y": [
          16
         ],
         "yaxis": "y"
        }
       ],
       "layout": {
        "barmode": "relative",
        "legend": {
         "title": {
          "text": "subcategory"
         },
         "tracegroupgap": 0
        },
        "template": {
         "data": {
          "bar": [
           {
            "error_x": {
             "color": "#2a3f5f"
            },
            "error_y": {
             "color": "#2a3f5f"
            },
            "marker": {
             "line": {
              "color": "#E5ECF6",
              "width": 0.5
             },
             "pattern": {
              "fillmode": "overlay",
              "size": 10,
              "solidity": 0.2
             }
            },
            "type": "bar"
           }
          ],
          "barpolar": [
           {
            "marker": {
             "line": {
              "color": "#E5ECF6",
              "width": 0.5
             },
             "pattern": {
              "fillmode": "overlay",
              "size": 10,
              "solidity": 0.2
             }
            },
            "type": "barpolar"
           }
          ],
          "carpet": [
           {
            "aaxis": {
             "endlinecolor": "#2a3f5f",
             "gridcolor": "white",
             "linecolor": "white",
             "minorgridcolor": "white",
             "startlinecolor": "#2a3f5f"
            },
            "baxis": {
             "endlinecolor": "#2a3f5f",
             "gridcolor": "white",
             "linecolor": "white",
             "minorgridcolor": "white",
             "startlinecolor": "#2a3f5f"
            },
            "type": "carpet"
           }
          ],
          "choropleth": [
           {
            "colorbar": {
             "outlinewidth": 0,
             "ticks": ""
            },
            "type": "choropleth"
           }
          ],
          "contour": [
           {
            "colorbar": {
             "outlinewidth": 0,
             "ticks": ""
            },
            "colorscale": [
             [
              0,
              "#0d0887"
             ],
             [
              0.1111111111111111,
              "#46039f"
             ],
             [
              0.2222222222222222,
              "#7201a8"
             ],
             [
              0.3333333333333333,
              "#9c179e"
             ],
             [
              0.4444444444444444,
              "#bd3786"
             ],
             [
              0.5555555555555556,
              "#d8576b"
             ],
             [
              0.6666666666666666,
              "#ed7953"
             ],
             [
              0.7777777777777778,
              "#fb9f3a"
             ],
             [
              0.8888888888888888,
              "#fdca26"
             ],
             [
              1,
              "#f0f921"
             ]
            ],
            "type": "contour"
           }
          ],
          "contourcarpet": [
           {
            "colorbar": {
             "outlinewidth": 0,
             "ticks": ""
            },
            "type": "contourcarpet"
           }
          ],
          "heatmap": [
           {
            "colorbar": {
             "outlinewidth": 0,
             "ticks": ""
            },
            "colorscale": [
             [
              0,
              "#0d0887"
             ],
             [
              0.1111111111111111,
              "#46039f"
             ],
             [
              0.2222222222222222,
              "#7201a8"
             ],
             [
              0.3333333333333333,
              "#9c179e"
             ],
             [
              0.4444444444444444,
              "#bd3786"
             ],
             [
              0.5555555555555556,
              "#d8576b"
             ],
             [
              0.6666666666666666,
              "#ed7953"
             ],
             [
              0.7777777777777778,
              "#fb9f3a"
             ],
             [
              0.8888888888888888,
              "#fdca26"
             ],
             [
              1,
              "#f0f921"
             ]
            ],
            "type": "heatmap"
           }
          ],
          "heatmapgl": [
           {
            "colorbar": {
             "outlinewidth": 0,
             "ticks": ""
            },
            "colorscale": [
             [
              0,
              "#0d0887"
             ],
             [
              0.1111111111111111,
              "#46039f"
             ],
             [
              0.2222222222222222,
              "#7201a8"
             ],
             [
              0.3333333333333333,
              "#9c179e"
             ],
             [
              0.4444444444444444,
              "#bd3786"
             ],
             [
              0.5555555555555556,
              "#d8576b"
             ],
             [
              0.6666666666666666,
              "#ed7953"
             ],
             [
              0.7777777777777778,
              "#fb9f3a"
             ],
             [
              0.8888888888888888,
              "#fdca26"
             ],
             [
              1,
              "#f0f921"
             ]
            ],
            "type": "heatmapgl"
           }
          ],
          "histogram": [
           {
            "marker": {
             "pattern": {
              "fillmode": "overlay",
              "size": 10,
              "solidity": 0.2
             }
            },
            "type": "histogram"
           }
          ],
          "histogram2d": [
           {
            "colorbar": {
             "outlinewidth": 0,
             "ticks": ""
            },
            "colorscale": [
             [
              0,
              "#0d0887"
             ],
             [
              0.1111111111111111,
              "#46039f"
             ],
             [
              0.2222222222222222,
              "#7201a8"
             ],
             [
              0.3333333333333333,
              "#9c179e"
             ],
             [
              0.4444444444444444,
              "#bd3786"
             ],
             [
              0.5555555555555556,
              "#d8576b"
             ],
             [
              0.6666666666666666,
              "#ed7953"
             ],
             [
              0.7777777777777778,
              "#fb9f3a"
             ],
             [
              0.8888888888888888,
              "#fdca26"
             ],
             [
              1,
              "#f0f921"
             ]
            ],
            "type": "histogram2d"
           }
          ],
          "histogram2dcontour": [
           {
            "colorbar": {
             "outlinewidth": 0,
             "ticks": ""
            },
            "colorscale": [
             [
              0,
              "#0d0887"
             ],
             [
              0.1111111111111111,
              "#46039f"
             ],
             [
              0.2222222222222222,
              "#7201a8"
             ],
             [
              0.3333333333333333,
              "#9c179e"
             ],
             [
              0.4444444444444444,
              "#bd3786"
             ],
             [
              0.5555555555555556,
              "#d8576b"
             ],
             [
              0.6666666666666666,
              "#ed7953"
             ],
             [
              0.7777777777777778,
              "#fb9f3a"
             ],
             [
              0.8888888888888888,
              "#fdca26"
             ],
             [
              1,
              "#f0f921"
             ]
            ],
            "type": "histogram2dcontour"
           }
          ],
          "mesh3d": [
           {
            "colorbar": {
             "outlinewidth": 0,
             "ticks": ""
            },
            "type": "mesh3d"
           }
          ],
          "parcoords": [
           {
            "line": {
             "colorbar": {
              "outlinewidth": 0,
              "ticks": ""
             }
            },
            "type": "parcoords"
           }
          ],
          "pie": [
           {
            "automargin": true,
            "type": "pie"
           }
          ],
          "scatter": [
           {
            "fillpattern": {
             "fillmode": "overlay",
             "size": 10,
             "solidity": 0.2
            },
            "type": "scatter"
           }
          ],
          "scatter3d": [
           {
            "line": {
             "colorbar": {
              "outlinewidth": 0,
              "ticks": ""
             }
            },
            "marker": {
             "colorbar": {
              "outlinewidth": 0,
              "ticks": ""
             }
            },
            "type": "scatter3d"
           }
          ],
          "scattercarpet": [
           {
            "marker": {
             "colorbar": {
              "outlinewidth": 0,
              "ticks": ""
             }
            },
            "type": "scattercarpet"
           }
          ],
          "scattergeo": [
           {
            "marker": {
             "colorbar": {
              "outlinewidth": 0,
              "ticks": ""
             }
            },
            "type": "scattergeo"
           }
          ],
          "scattergl": [
           {
            "marker": {
             "colorbar": {
              "outlinewidth": 0,
              "ticks": ""
             }
            },
            "type": "scattergl"
           }
          ],
          "scattermapbox": [
           {
            "marker": {
             "colorbar": {
              "outlinewidth": 0,
              "ticks": ""
             }
            },
            "type": "scattermapbox"
           }
          ],
          "scatterpolar": [
           {
            "marker": {
             "colorbar": {
              "outlinewidth": 0,
              "ticks": ""
             }
            },
            "type": "scatterpolar"
           }
          ],
          "scatterpolargl": [
           {
            "marker": {
             "colorbar": {
              "outlinewidth": 0,
              "ticks": ""
             }
            },
            "type": "scatterpolargl"
           }
          ],
          "scatterternary": [
           {
            "marker": {
             "colorbar": {
              "outlinewidth": 0,
              "ticks": ""
             }
            },
            "type": "scatterternary"
           }
          ],
          "surface": [
           {
            "colorbar": {
             "outlinewidth": 0,
             "ticks": ""
            },
            "colorscale": [
             [
              0,
              "#0d0887"
             ],
             [
              0.1111111111111111,
              "#46039f"
             ],
             [
              0.2222222222222222,
              "#7201a8"
             ],
             [
              0.3333333333333333,
              "#9c179e"
             ],
             [
              0.4444444444444444,
              "#bd3786"
             ],
             [
              0.5555555555555556,
              "#d8576b"
             ],
             [
              0.6666666666666666,
              "#ed7953"
             ],
             [
              0.7777777777777778,
              "#fb9f3a"
             ],
             [
              0.8888888888888888,
              "#fdca26"
             ],
             [
              1,
              "#f0f921"
             ]
            ],
            "type": "surface"
           }
          ],
          "table": [
           {
            "cells": {
             "fill": {
              "color": "#EBF0F8"
             },
             "line": {
              "color": "white"
             }
            },
            "header": {
             "fill": {
              "color": "#C8D4E3"
             },
             "line": {
              "color": "white"
             }
            },
            "type": "table"
           }
          ]
         },
         "layout": {
          "annotationdefaults": {
           "arrowcolor": "#2a3f5f",
           "arrowhead": 0,
           "arrowwidth": 1
          },
          "autotypenumbers": "strict",
          "coloraxis": {
           "colorbar": {
            "outlinewidth": 0,
            "ticks": ""
           }
          },
          "colorscale": {
           "diverging": [
            [
             0,
             "#8e0152"
            ],
            [
             0.1,
             "#c51b7d"
            ],
            [
             0.2,
             "#de77ae"
            ],
            [
             0.3,
             "#f1b6da"
            ],
            [
             0.4,
             "#fde0ef"
            ],
            [
             0.5,
             "#f7f7f7"
            ],
            [
             0.6,
             "#e6f5d0"
            ],
            [
             0.7,
             "#b8e186"
            ],
            [
             0.8,
             "#7fbc41"
            ],
            [
             0.9,
             "#4d9221"
            ],
            [
             1,
             "#276419"
            ]
           ],
           "sequential": [
            [
             0,
             "#0d0887"
            ],
            [
             0.1111111111111111,
             "#46039f"
            ],
            [
             0.2222222222222222,
             "#7201a8"
            ],
            [
             0.3333333333333333,
             "#9c179e"
            ],
            [
             0.4444444444444444,
             "#bd3786"
            ],
            [
             0.5555555555555556,
             "#d8576b"
            ],
            [
             0.6666666666666666,
             "#ed7953"
            ],
            [
             0.7777777777777778,
             "#fb9f3a"
            ],
            [
             0.8888888888888888,
             "#fdca26"
            ],
            [
             1,
             "#f0f921"
            ]
           ],
           "sequentialminus": [
            [
             0,
             "#0d0887"
            ],
            [
             0.1111111111111111,
             "#46039f"
            ],
            [
             0.2222222222222222,
             "#7201a8"
            ],
            [
             0.3333333333333333,
             "#9c179e"
            ],
            [
             0.4444444444444444,
             "#bd3786"
            ],
            [
             0.5555555555555556,
             "#d8576b"
            ],
            [
             0.6666666666666666,
             "#ed7953"
            ],
            [
             0.7777777777777778,
             "#fb9f3a"
            ],
            [
             0.8888888888888888,
             "#fdca26"
            ],
            [
             1,
             "#f0f921"
            ]
           ]
          },
          "colorway": [
           "#636efa",
           "#EF553B",
           "#00cc96",
           "#ab63fa",
           "#FFA15A",
           "#19d3f3",
           "#FF6692",
           "#B6E880",
           "#FF97FF",
           "#FECB52"
          ],
          "font": {
           "color": "#2a3f5f"
          },
          "geo": {
           "bgcolor": "white",
           "lakecolor": "white",
           "landcolor": "#E5ECF6",
           "showlakes": true,
           "showland": true,
           "subunitcolor": "white"
          },
          "hoverlabel": {
           "align": "left"
          },
          "hovermode": "closest",
          "mapbox": {
           "style": "light"
          },
          "paper_bgcolor": "white",
          "plot_bgcolor": "#E5ECF6",
          "polar": {
           "angularaxis": {
            "gridcolor": "white",
            "linecolor": "white",
            "ticks": ""
           },
           "bgcolor": "#E5ECF6",
           "radialaxis": {
            "gridcolor": "white",
            "linecolor": "white",
            "ticks": ""
           }
          },
          "scene": {
           "xaxis": {
            "backgroundcolor": "#E5ECF6",
            "gridcolor": "white",
            "gridwidth": 2,
            "linecolor": "white",
            "showbackground": true,
            "ticks": "",
            "zerolinecolor": "white"
           },
           "yaxis": {
            "backgroundcolor": "#E5ECF6",
            "gridcolor": "white",
            "gridwidth": 2,
            "linecolor": "white",
            "showbackground": true,
            "ticks": "",
            "zerolinecolor": "white"
           },
           "zaxis": {
            "backgroundcolor": "#E5ECF6",
            "gridcolor": "white",
            "gridwidth": 2,
            "linecolor": "white",
            "showbackground": true,
            "ticks": "",
            "zerolinecolor": "white"
           }
          },
          "shapedefaults": {
           "line": {
            "color": "#2a3f5f"
           }
          },
          "ternary": {
           "aaxis": {
            "gridcolor": "white",
            "linecolor": "white",
            "ticks": ""
           },
           "baxis": {
            "gridcolor": "white",
            "linecolor": "white",
            "ticks": ""
           },
           "bgcolor": "#E5ECF6",
           "caxis": {
            "gridcolor": "white",
            "linecolor": "white",
            "ticks": ""
           }
          },
          "title": {
           "x": 0.05
          },
          "xaxis": {
           "automargin": true,
           "gridcolor": "white",
           "linecolor": "white",
           "ticks": "",
           "title": {
            "standoff": 15
           },
           "zerolinecolor": "white",
           "zerolinewidth": 2
          },
          "yaxis": {
           "automargin": true,
           "gridcolor": "white",
           "linecolor": "white",
           "ticks": "",
           "title": {
            "standoff": 15
           },
           "zerolinecolor": "white",
           "zerolinewidth": 2
          }
         }
        },
        "title": {
         "text": "Number of Products with Endocrine Disruptors by Category and Subcategory"
        },
        "xaxis": {
         "anchor": "y",
         "domain": [
          0,
          1
         ],
         "title": {
          "text": "Category"
         }
        },
        "yaxis": {
         "anchor": "x",
         "domain": [
          0,
          1
         ],
         "title": {
          "text": "Number of Products"
         }
        }
       }
      }
     },
     "metadata": {},
     "output_type": "display_data"
    }
   ],
   "source": [
    "# Create a bar chart of the number of products with disruptors by category and subcategory\n",
    "fig = px.bar(disruptor_count, x='category', y='n_products', color='subcategory',\n",
    "             title='Number of Products with Endocrine Disruptors by Category and Subcategory',\n",
    "             labels={'n_products': 'Number of Products', 'category': 'Category'})\n",
    "fig.show()\n"
   ]
  },
  {
   "cell_type": "markdown",
   "metadata": {},
   "source": [
    "### **Question 2: Which categories and brands have the most endocrine disruptors?**"
   ]
  },
  {
   "cell_type": "code",
   "execution_count": 39,
   "metadata": {},
   "outputs": [
    {
     "data": {
      "text/html": [
       "<div>\n",
       "<style scoped>\n",
       "    .dataframe tbody tr th:only-of-type {\n",
       "        vertical-align: middle;\n",
       "    }\n",
       "\n",
       "    .dataframe tbody tr th {\n",
       "        vertical-align: top;\n",
       "    }\n",
       "\n",
       "    .dataframe thead th {\n",
       "        text-align: right;\n",
       "    }\n",
       "</style>\n",
       "<table border=\"1\" class=\"dataframe\">\n",
       "  <thead>\n",
       "    <tr style=\"text-align: right;\">\n",
       "      <th></th>\n",
       "      <th>category</th>\n",
       "      <th>brand_name</th>\n",
       "      <th>product_count</th>\n",
       "    </tr>\n",
       "  </thead>\n",
       "  <tbody>\n",
       "    <tr>\n",
       "      <th>0</th>\n",
       "      <td>Makeup</td>\n",
       "      <td>Benefit Cosmetics</td>\n",
       "      <td>30</td>\n",
       "    </tr>\n",
       "    <tr>\n",
       "      <th>1</th>\n",
       "      <td>Makeup</td>\n",
       "      <td>Natasha Denona</td>\n",
       "      <td>29</td>\n",
       "    </tr>\n",
       "    <tr>\n",
       "      <th>2</th>\n",
       "      <td>Treatment</td>\n",
       "      <td>La Mer</td>\n",
       "      <td>25</td>\n",
       "    </tr>\n",
       "    <tr>\n",
       "      <th>3</th>\n",
       "      <td>Makeup</td>\n",
       "      <td>Charlotte Tilbury</td>\n",
       "      <td>24</td>\n",
       "    </tr>\n",
       "    <tr>\n",
       "      <th>4</th>\n",
       "      <td>Makeup</td>\n",
       "      <td>Anastasia Beverly Hills</td>\n",
       "      <td>18</td>\n",
       "    </tr>\n",
       "    <tr>\n",
       "      <th>5</th>\n",
       "      <td>Makeup</td>\n",
       "      <td>Sephora Collection</td>\n",
       "      <td>16</td>\n",
       "    </tr>\n",
       "    <tr>\n",
       "      <th>6</th>\n",
       "      <td>Makeup</td>\n",
       "      <td>Too Faced</td>\n",
       "      <td>13</td>\n",
       "    </tr>\n",
       "    <tr>\n",
       "      <th>7</th>\n",
       "      <td>Makeup</td>\n",
       "      <td>Pat McGrath Labs</td>\n",
       "      <td>13</td>\n",
       "    </tr>\n",
       "    <tr>\n",
       "      <th>8</th>\n",
       "      <td>Treatment</td>\n",
       "      <td>Erborian</td>\n",
       "      <td>10</td>\n",
       "    </tr>\n",
       "    <tr>\n",
       "      <th>9</th>\n",
       "      <td>Treatment</td>\n",
       "      <td>Kiehl's Since 1851</td>\n",
       "      <td>10</td>\n",
       "    </tr>\n",
       "  </tbody>\n",
       "</table>\n",
       "</div>"
      ],
      "text/plain": [
       "    category               brand_name  product_count\n",
       "0     Makeup        Benefit Cosmetics             30\n",
       "1     Makeup           Natasha Denona             29\n",
       "2  Treatment                   La Mer             25\n",
       "3     Makeup        Charlotte Tilbury             24\n",
       "4     Makeup  Anastasia Beverly Hills             18\n",
       "5     Makeup       Sephora Collection             16\n",
       "6     Makeup                Too Faced             13\n",
       "7     Makeup         Pat McGrath Labs             13\n",
       "8  Treatment                 Erborian             10\n",
       "9  Treatment       Kiehl's Since 1851             10"
      ]
     },
     "execution_count": 39,
     "metadata": {},
     "output_type": "execute_result"
    }
   ],
   "source": [
    "# Step 1: Create a Yes/No column for endocrine disruptors\n",
    "final_ingredients_df['contains_disruptors'] = final_ingredients_df['number_disruptors'].apply(lambda x: 'Yes' if x > 0 else 'No')\n",
    "\n",
    "# Step 2: Filter for products that contain endocrine disruptors\n",
    "disruptor_products = final_ingredients_df[final_ingredients_df['contains_disruptors'] == 'Yes']\n",
    "\n",
    "# Step 3: Count occurrences of each brand in each category\n",
    "brand_category_counts = disruptor_products.groupby(['category', 'brand_name'])['contains_disruptors'].count().reset_index(name='product_count')\n",
    "\n",
    "# Step 4: Sort by product count in descending order\n",
    "sorted_brands = brand_category_counts.sort_values(by='product_count', ascending=False,).reset_index(drop=True) \n",
    "\n",
    "# Display the top results\n",
    "top_brands = sorted_brands.head(10)  # Change the number as needed\n",
    "top_brands"
   ]
  },
  {
   "cell_type": "code",
   "execution_count": 40,
   "metadata": {},
   "outputs": [
    {
     "data": {
      "application/vnd.plotly.v1+json": {
       "config": {
        "plotlyServerURL": "https://plot.ly"
       },
       "data": [
        {
         "coloraxis": "coloraxis",
         "hovertemplate": "Category: %{x}<br>Brand: %{y}<br>Number of Products: %{z}<extra></extra>",
         "name": "0",
         "type": "heatmap",
         "x": [
          "Body",
          "Makeup",
          "Treatment"
         ],
         "xaxis": "x",
         "y": [
          "11Skin",
          "Anastasia Beverly Hills",
          "Armani",
          "Augustinus Bader",
          "Australian Gold",
          "Bali Body",
          "Benefit Cosmetics",
          "Biotherm",
          "By Terry",
          "Byoma",
          "Charlotte Tilbury",
          "Clarins",
          "Clear Start by Dermalogica",
          "Clinique",
          "Coco & Eve",
          "Collistar",
          "Dermalogica",
          "Dior",
          "Dior Backstage",
          "Dr. Barbara Sturm",
          "Dr. Dennis Gross",
          "Dr.Jart+",
          "Drunk Elephant",
          "Erborian",
          "Estée Lauder",
          "Fenty Beauty",
          "Fenty Skin",
          "Filorga",
          "Foreo",
          "Fresh",
          "Givenchy",
          "Glow Recipe",
          "Guerlain",
          "Helena Rubinstein",
          "Hourglass",
          "Huda Beauty",
          "Ilia",
          "Innisfree",
          "Isdin",
          "KVD Beauty",
          "Kiehl's Since 1851",
          "Kora Organics",
          "La Mer",
          "Lancôme",
          "Laneige",
          "Make Up For Ever",
          "Makeup By Mario",
          "Mario Badescu",
          "Merci Handy",
          "Milk Makeup",
          "Nars",
          "Natasha Denona",
          "Nudestix",
          "Nuxe",
          "Olehenriksen",
          "Origins",
          "Pai",
          "Pat McGrath Labs",
          "Peace Out Skincare",
          "Pixi",
          "RMS Beauty",
          "Rabanne Makeup",
          "Rare Beauty",
          "Rem Beauty",
          "SVR",
          "Sensai",
          "Sephora Collection",
          "Sephora Favorites",
          "Shiseido",
          "Sisley",
          "Sol de Janeiro",
          "Summer Fridays",
          "Sunday Riley",
          "Supergoop!",
          "Tan Luxe",
          "Tarte",
          "The Inkey List",
          "The Ordinary",
          "Too Faced",
          "Ultra Violette",
          "Valentino",
          "Yves Saint Laurent"
         ],
         "yaxis": "y",
         "z": [
          [
           0,
           0,
           1
          ],
          [
           0,
           18,
           0
          ],
          [
           0,
           4,
           0
          ],
          [
           0,
           0,
           1
          ],
          [
           7,
           0,
           5
          ],
          [
           2,
           0,
           0
          ],
          [
           0,
           30,
           0
          ],
          [
           0,
           0,
           5
          ],
          [
           0,
           0,
           1
          ],
          [
           0,
           0,
           1
          ],
          [
           0,
           24,
           0
          ],
          [
           2,
           8,
           6
          ],
          [
           0,
           0,
           1
          ],
          [
           0,
           8,
           1
          ],
          [
           1,
           0,
           0
          ],
          [
           1,
           0,
           0
          ],
          [
           0,
           0,
           2
          ],
          [
           0,
           6,
           2
          ],
          [
           0,
           2,
           0
          ],
          [
           0,
           0,
           1
          ],
          [
           0,
           0,
           3
          ],
          [
           0,
           0,
           1
          ],
          [
           0,
           0,
           6
          ],
          [
           0,
           6,
           10
          ],
          [
           0,
           3,
           5
          ],
          [
           0,
           4,
           0
          ],
          [
           0,
           0,
           4
          ],
          [
           0,
           0,
           6
          ],
          [
           0,
           0,
           2
          ],
          [
           0,
           0,
           1
          ],
          [
           0,
           3,
           1
          ],
          [
           0,
           0,
           1
          ],
          [
           0,
           7,
           0
          ],
          [
           0,
           1,
           1
          ],
          [
           0,
           4,
           0
          ],
          [
           0,
           3,
           0
          ],
          [
           0,
           1,
           2
          ],
          [
           0,
           0,
           2
          ],
          [
           1,
           0,
           3
          ],
          [
           0,
           2,
           0
          ],
          [
           1,
           0,
           10
          ],
          [
           0,
           0,
           1
          ],
          [
           2,
           3,
           25
          ],
          [
           0,
           7,
           5
          ],
          [
           0,
           0,
           1
          ],
          [
           0,
           10,
           0
          ],
          [
           0,
           7,
           0
          ],
          [
           0,
           0,
           8
          ],
          [
           1,
           0,
           0
          ],
          [
           0,
           2,
           0
          ],
          [
           0,
           8,
           0
          ],
          [
           0,
           29,
           0
          ],
          [
           0,
           4,
           1
          ],
          [
           1,
           0,
           0
          ],
          [
           0,
           0,
           1
          ],
          [
           0,
           1,
           3
          ],
          [
           0,
           0,
           2
          ],
          [
           0,
           13,
           0
          ],
          [
           0,
           0,
           1
          ],
          [
           0,
           0,
           2
          ],
          [
           0,
           3,
           0
          ],
          [
           0,
           3,
           0
          ],
          [
           0,
           3,
           0
          ],
          [
           0,
           5,
           0
          ],
          [
           0,
           0,
           3
          ],
          [
           1,
           0,
           1
          ],
          [
           0,
           16,
           6
          ],
          [
           0,
           0,
           1
          ],
          [
           1,
           3,
           9
          ],
          [
           2,
           3,
           6
          ],
          [
           3,
           0,
           0
          ],
          [
           0,
           1,
           1
          ],
          [
           0,
           0,
           1
          ],
          [
           1,
           0,
           9
          ],
          [
           1,
           0,
           0
          ],
          [
           0,
           8,
           0
          ],
          [
           0,
           0,
           5
          ],
          [
           1,
           0,
           4
          ],
          [
           0,
           13,
           0
          ],
          [
           1,
           4,
           2
          ],
          [
           0,
           2,
           0
          ],
          [
           0,
           4,
           0
          ]
         ]
        }
       ],
       "layout": {
        "coloraxis": {
         "colorbar": {
          "title": {
           "text": "Number of Products"
          }
         },
         "colorscale": [
          [
           0,
           "#440154"
          ],
          [
           0.1111111111111111,
           "#482878"
          ],
          [
           0.2222222222222222,
           "#3e4989"
          ],
          [
           0.3333333333333333,
           "#31688e"
          ],
          [
           0.4444444444444444,
           "#26828e"
          ],
          [
           0.5555555555555556,
           "#1f9e89"
          ],
          [
           0.6666666666666666,
           "#35b779"
          ],
          [
           0.7777777777777778,
           "#6ece58"
          ],
          [
           0.8888888888888888,
           "#b5de2b"
          ],
          [
           1,
           "#fde725"
          ]
         ]
        },
        "height": 600,
        "margin": {
         "b": 40,
         "l": 40,
         "r": 40,
         "t": 40
        },
        "template": {
         "data": {
          "bar": [
           {
            "error_x": {
             "color": "#2a3f5f"
            },
            "error_y": {
             "color": "#2a3f5f"
            },
            "marker": {
             "line": {
              "color": "#E5ECF6",
              "width": 0.5
             },
             "pattern": {
              "fillmode": "overlay",
              "size": 10,
              "solidity": 0.2
             }
            },
            "type": "bar"
           }
          ],
          "barpolar": [
           {
            "marker": {
             "line": {
              "color": "#E5ECF6",
              "width": 0.5
             },
             "pattern": {
              "fillmode": "overlay",
              "size": 10,
              "solidity": 0.2
             }
            },
            "type": "barpolar"
           }
          ],
          "carpet": [
           {
            "aaxis": {
             "endlinecolor": "#2a3f5f",
             "gridcolor": "white",
             "linecolor": "white",
             "minorgridcolor": "white",
             "startlinecolor": "#2a3f5f"
            },
            "baxis": {
             "endlinecolor": "#2a3f5f",
             "gridcolor": "white",
             "linecolor": "white",
             "minorgridcolor": "white",
             "startlinecolor": "#2a3f5f"
            },
            "type": "carpet"
           }
          ],
          "choropleth": [
           {
            "colorbar": {
             "outlinewidth": 0,
             "ticks": ""
            },
            "type": "choropleth"
           }
          ],
          "contour": [
           {
            "colorbar": {
             "outlinewidth": 0,
             "ticks": ""
            },
            "colorscale": [
             [
              0,
              "#0d0887"
             ],
             [
              0.1111111111111111,
              "#46039f"
             ],
             [
              0.2222222222222222,
              "#7201a8"
             ],
             [
              0.3333333333333333,
              "#9c179e"
             ],
             [
              0.4444444444444444,
              "#bd3786"
             ],
             [
              0.5555555555555556,
              "#d8576b"
             ],
             [
              0.6666666666666666,
              "#ed7953"
             ],
             [
              0.7777777777777778,
              "#fb9f3a"
             ],
             [
              0.8888888888888888,
              "#fdca26"
             ],
             [
              1,
              "#f0f921"
             ]
            ],
            "type": "contour"
           }
          ],
          "contourcarpet": [
           {
            "colorbar": {
             "outlinewidth": 0,
             "ticks": ""
            },
            "type": "contourcarpet"
           }
          ],
          "heatmap": [
           {
            "colorbar": {
             "outlinewidth": 0,
             "ticks": ""
            },
            "colorscale": [
             [
              0,
              "#0d0887"
             ],
             [
              0.1111111111111111,
              "#46039f"
             ],
             [
              0.2222222222222222,
              "#7201a8"
             ],
             [
              0.3333333333333333,
              "#9c179e"
             ],
             [
              0.4444444444444444,
              "#bd3786"
             ],
             [
              0.5555555555555556,
              "#d8576b"
             ],
             [
              0.6666666666666666,
              "#ed7953"
             ],
             [
              0.7777777777777778,
              "#fb9f3a"
             ],
             [
              0.8888888888888888,
              "#fdca26"
             ],
             [
              1,
              "#f0f921"
             ]
            ],
            "type": "heatmap"
           }
          ],
          "heatmapgl": [
           {
            "colorbar": {
             "outlinewidth": 0,
             "ticks": ""
            },
            "colorscale": [
             [
              0,
              "#0d0887"
             ],
             [
              0.1111111111111111,
              "#46039f"
             ],
             [
              0.2222222222222222,
              "#7201a8"
             ],
             [
              0.3333333333333333,
              "#9c179e"
             ],
             [
              0.4444444444444444,
              "#bd3786"
             ],
             [
              0.5555555555555556,
              "#d8576b"
             ],
             [
              0.6666666666666666,
              "#ed7953"
             ],
             [
              0.7777777777777778,
              "#fb9f3a"
             ],
             [
              0.8888888888888888,
              "#fdca26"
             ],
             [
              1,
              "#f0f921"
             ]
            ],
            "type": "heatmapgl"
           }
          ],
          "histogram": [
           {
            "marker": {
             "pattern": {
              "fillmode": "overlay",
              "size": 10,
              "solidity": 0.2
             }
            },
            "type": "histogram"
           }
          ],
          "histogram2d": [
           {
            "colorbar": {
             "outlinewidth": 0,
             "ticks": ""
            },
            "colorscale": [
             [
              0,
              "#0d0887"
             ],
             [
              0.1111111111111111,
              "#46039f"
             ],
             [
              0.2222222222222222,
              "#7201a8"
             ],
             [
              0.3333333333333333,
              "#9c179e"
             ],
             [
              0.4444444444444444,
              "#bd3786"
             ],
             [
              0.5555555555555556,
              "#d8576b"
             ],
             [
              0.6666666666666666,
              "#ed7953"
             ],
             [
              0.7777777777777778,
              "#fb9f3a"
             ],
             [
              0.8888888888888888,
              "#fdca26"
             ],
             [
              1,
              "#f0f921"
             ]
            ],
            "type": "histogram2d"
           }
          ],
          "histogram2dcontour": [
           {
            "colorbar": {
             "outlinewidth": 0,
             "ticks": ""
            },
            "colorscale": [
             [
              0,
              "#0d0887"
             ],
             [
              0.1111111111111111,
              "#46039f"
             ],
             [
              0.2222222222222222,
              "#7201a8"
             ],
             [
              0.3333333333333333,
              "#9c179e"
             ],
             [
              0.4444444444444444,
              "#bd3786"
             ],
             [
              0.5555555555555556,
              "#d8576b"
             ],
             [
              0.6666666666666666,
              "#ed7953"
             ],
             [
              0.7777777777777778,
              "#fb9f3a"
             ],
             [
              0.8888888888888888,
              "#fdca26"
             ],
             [
              1,
              "#f0f921"
             ]
            ],
            "type": "histogram2dcontour"
           }
          ],
          "mesh3d": [
           {
            "colorbar": {
             "outlinewidth": 0,
             "ticks": ""
            },
            "type": "mesh3d"
           }
          ],
          "parcoords": [
           {
            "line": {
             "colorbar": {
              "outlinewidth": 0,
              "ticks": ""
             }
            },
            "type": "parcoords"
           }
          ],
          "pie": [
           {
            "automargin": true,
            "type": "pie"
           }
          ],
          "scatter": [
           {
            "fillpattern": {
             "fillmode": "overlay",
             "size": 10,
             "solidity": 0.2
            },
            "type": "scatter"
           }
          ],
          "scatter3d": [
           {
            "line": {
             "colorbar": {
              "outlinewidth": 0,
              "ticks": ""
             }
            },
            "marker": {
             "colorbar": {
              "outlinewidth": 0,
              "ticks": ""
             }
            },
            "type": "scatter3d"
           }
          ],
          "scattercarpet": [
           {
            "marker": {
             "colorbar": {
              "outlinewidth": 0,
              "ticks": ""
             }
            },
            "type": "scattercarpet"
           }
          ],
          "scattergeo": [
           {
            "marker": {
             "colorbar": {
              "outlinewidth": 0,
              "ticks": ""
             }
            },
            "type": "scattergeo"
           }
          ],
          "scattergl": [
           {
            "marker": {
             "colorbar": {
              "outlinewidth": 0,
              "ticks": ""
             }
            },
            "type": "scattergl"
           }
          ],
          "scattermapbox": [
           {
            "marker": {
             "colorbar": {
              "outlinewidth": 0,
              "ticks": ""
             }
            },
            "type": "scattermapbox"
           }
          ],
          "scatterpolar": [
           {
            "marker": {
             "colorbar": {
              "outlinewidth": 0,
              "ticks": ""
             }
            },
            "type": "scatterpolar"
           }
          ],
          "scatterpolargl": [
           {
            "marker": {
             "colorbar": {
              "outlinewidth": 0,
              "ticks": ""
             }
            },
            "type": "scatterpolargl"
           }
          ],
          "scatterternary": [
           {
            "marker": {
             "colorbar": {
              "outlinewidth": 0,
              "ticks": ""
             }
            },
            "type": "scatterternary"
           }
          ],
          "surface": [
           {
            "colorbar": {
             "outlinewidth": 0,
             "ticks": ""
            },
            "colorscale": [
             [
              0,
              "#0d0887"
             ],
             [
              0.1111111111111111,
              "#46039f"
             ],
             [
              0.2222222222222222,
              "#7201a8"
             ],
             [
              0.3333333333333333,
              "#9c179e"
             ],
             [
              0.4444444444444444,
              "#bd3786"
             ],
             [
              0.5555555555555556,
              "#d8576b"
             ],
             [
              0.6666666666666666,
              "#ed7953"
             ],
             [
              0.7777777777777778,
              "#fb9f3a"
             ],
             [
              0.8888888888888888,
              "#fdca26"
             ],
             [
              1,
              "#f0f921"
             ]
            ],
            "type": "surface"
           }
          ],
          "table": [
           {
            "cells": {
             "fill": {
              "color": "#EBF0F8"
             },
             "line": {
              "color": "white"
             }
            },
            "header": {
             "fill": {
              "color": "#C8D4E3"
             },
             "line": {
              "color": "white"
             }
            },
            "type": "table"
           }
          ]
         },
         "layout": {
          "annotationdefaults": {
           "arrowcolor": "#2a3f5f",
           "arrowhead": 0,
           "arrowwidth": 1
          },
          "autotypenumbers": "strict",
          "coloraxis": {
           "colorbar": {
            "outlinewidth": 0,
            "ticks": ""
           }
          },
          "colorscale": {
           "diverging": [
            [
             0,
             "#8e0152"
            ],
            [
             0.1,
             "#c51b7d"
            ],
            [
             0.2,
             "#de77ae"
            ],
            [
             0.3,
             "#f1b6da"
            ],
            [
             0.4,
             "#fde0ef"
            ],
            [
             0.5,
             "#f7f7f7"
            ],
            [
             0.6,
             "#e6f5d0"
            ],
            [
             0.7,
             "#b8e186"
            ],
            [
             0.8,
             "#7fbc41"
            ],
            [
             0.9,
             "#4d9221"
            ],
            [
             1,
             "#276419"
            ]
           ],
           "sequential": [
            [
             0,
             "#0d0887"
            ],
            [
             0.1111111111111111,
             "#46039f"
            ],
            [
             0.2222222222222222,
             "#7201a8"
            ],
            [
             0.3333333333333333,
             "#9c179e"
            ],
            [
             0.4444444444444444,
             "#bd3786"
            ],
            [
             0.5555555555555556,
             "#d8576b"
            ],
            [
             0.6666666666666666,
             "#ed7953"
            ],
            [
             0.7777777777777778,
             "#fb9f3a"
            ],
            [
             0.8888888888888888,
             "#fdca26"
            ],
            [
             1,
             "#f0f921"
            ]
           ],
           "sequentialminus": [
            [
             0,
             "#0d0887"
            ],
            [
             0.1111111111111111,
             "#46039f"
            ],
            [
             0.2222222222222222,
             "#7201a8"
            ],
            [
             0.3333333333333333,
             "#9c179e"
            ],
            [
             0.4444444444444444,
             "#bd3786"
            ],
            [
             0.5555555555555556,
             "#d8576b"
            ],
            [
             0.6666666666666666,
             "#ed7953"
            ],
            [
             0.7777777777777778,
             "#fb9f3a"
            ],
            [
             0.8888888888888888,
             "#fdca26"
            ],
            [
             1,
             "#f0f921"
            ]
           ]
          },
          "colorway": [
           "#636efa",
           "#EF553B",
           "#00cc96",
           "#ab63fa",
           "#FFA15A",
           "#19d3f3",
           "#FF6692",
           "#B6E880",
           "#FF97FF",
           "#FECB52"
          ],
          "font": {
           "color": "#2a3f5f"
          },
          "geo": {
           "bgcolor": "white",
           "lakecolor": "white",
           "landcolor": "#E5ECF6",
           "showlakes": true,
           "showland": true,
           "subunitcolor": "white"
          },
          "hoverlabel": {
           "align": "left"
          },
          "hovermode": "closest",
          "mapbox": {
           "style": "light"
          },
          "paper_bgcolor": "white",
          "plot_bgcolor": "#E5ECF6",
          "polar": {
           "angularaxis": {
            "gridcolor": "white",
            "linecolor": "white",
            "ticks": ""
           },
           "bgcolor": "#E5ECF6",
           "radialaxis": {
            "gridcolor": "white",
            "linecolor": "white",
            "ticks": ""
           }
          },
          "scene": {
           "xaxis": {
            "backgroundcolor": "#E5ECF6",
            "gridcolor": "white",
            "gridwidth": 2,
            "linecolor": "white",
            "showbackground": true,
            "ticks": "",
            "zerolinecolor": "white"
           },
           "yaxis": {
            "backgroundcolor": "#E5ECF6",
            "gridcolor": "white",
            "gridwidth": 2,
            "linecolor": "white",
            "showbackground": true,
            "ticks": "",
            "zerolinecolor": "white"
           },
           "zaxis": {
            "backgroundcolor": "#E5ECF6",
            "gridcolor": "white",
            "gridwidth": 2,
            "linecolor": "white",
            "showbackground": true,
            "ticks": "",
            "zerolinecolor": "white"
           }
          },
          "shapedefaults": {
           "line": {
            "color": "#2a3f5f"
           }
          },
          "ternary": {
           "aaxis": {
            "gridcolor": "white",
            "linecolor": "white",
            "ticks": ""
           },
           "baxis": {
            "gridcolor": "white",
            "linecolor": "white",
            "ticks": ""
           },
           "bgcolor": "#E5ECF6",
           "caxis": {
            "gridcolor": "white",
            "linecolor": "white",
            "ticks": ""
           }
          },
          "title": {
           "x": 0.05
          },
          "xaxis": {
           "automargin": true,
           "gridcolor": "white",
           "linecolor": "white",
           "ticks": "",
           "title": {
            "standoff": 15
           },
           "zerolinecolor": "white",
           "zerolinewidth": 2
          },
          "yaxis": {
           "automargin": true,
           "gridcolor": "white",
           "linecolor": "white",
           "ticks": "",
           "title": {
            "standoff": 15
           },
           "zerolinecolor": "white",
           "zerolinewidth": 2
          }
         }
        },
        "title": {
         "text": "Heatmap of Products with Endocrine Disruptors by Brand and Category",
         "x": 0.5
        },
        "width": 800,
        "xaxis": {
         "anchor": "y",
         "domain": [
          0,
          1
         ],
         "title": {
          "text": "Category"
         }
        },
        "yaxis": {
         "anchor": "x",
         "autorange": "reversed",
         "domain": [
          0,
          1
         ],
         "title": {
          "text": "Brand"
         }
        }
       }
      }
     },
     "metadata": {},
     "output_type": "display_data"
    }
   ],
   "source": [
    "# Step 4: Pivot the data for the heatmap\n",
    "heatmap_data = brand_category_counts.pivot(index='brand_name', columns='category', values='product_count').fillna(0)\n",
    "\n",
    "# Step 5: Create the heatmap\n",
    "fig = px.imshow(heatmap_data,\n",
    "                labels=dict(x=\"Category\", y=\"Brand\", color=\"Number of Products\"),\n",
    "                x=heatmap_data.columns,\n",
    "                y=heatmap_data.index,\n",
    "                color_continuous_scale='Viridis',\n",
    "                title='Heatmap of Products with Endocrine Disruptors by Brand and Category',\n",
    "                aspect='auto')  # Adjust aspect ratio to fit nicely\n",
    "\n",
    "# Update layout for better visibility\n",
    "fig.update_layout(\n",
    "    xaxis_title=\"Category\",\n",
    "    yaxis_title=\"Brand\",\n",
    "    title_x=0.5,  # Center title\n",
    "    height=600,   # Height for the heatmap\n",
    "    width=800,    # Width for the heatmap\n",
    "    margin=dict(l=40, r=40, t=40, b=40),  # Margins around the plot\n",
    ")\n",
    "\n",
    "# Show the plot\n",
    "fig.show()\n"
   ]
  },
  {
   "cell_type": "markdown",
   "metadata": {},
   "source": [
    "### **Question 3: Is there any relationship between the economic value and the number of endocrine disruptors? <br>Do more expensive brands contain fewer disruptors, while cheaper brands contain more?**"
   ]
  },
  {
   "cell_type": "code",
   "execution_count": 42,
   "metadata": {},
   "outputs": [
    {
     "name": "stdout",
     "output_type": "stream",
     "text": [
      "Average number of endocrine disruptors by price range:\n",
      "price_range\n",
      "Low          1.033333\n",
      "Medium       1.059289\n",
      "High         1.056000\n",
      "Very High    1.000000\n",
      "Luxury       1.000000\n",
      "Name: number_disruptors, dtype: float64\n",
      "Pearson correlation coefficient between price range and average number of endocrine disruptors: -0.69\n"
     ]
    },
    {
     "name": "stderr",
     "output_type": "stream",
     "text": [
      "C:\\Users\\celia\\AppData\\Local\\Temp\\ipykernel_15092\\2423514238.py:20: SettingWithCopyWarning:\n",
      "\n",
      "\n",
      "A value is trying to be set on a copy of a slice from a DataFrame.\n",
      "Try using .loc[row_indexer,col_indexer] = value instead\n",
      "\n",
      "See the caveats in the documentation: https://pandas.pydata.org/pandas-docs/stable/user_guide/indexing.html#returning-a-view-versus-a-copy\n",
      "\n"
     ]
    },
    {
     "data": {
      "application/vnd.plotly.v1+json": {
       "config": {
        "plotlyServerURL": "https://plot.ly"
       },
       "data": [
        {
         "hovertemplate": "Price Range (Encoded)=%{x}<br>Average Number of Endocrine Disruptors=%{marker.color}<extra></extra>",
         "legendgroup": "",
         "marker": {
          "color": [
           1.0333333333333334,
           1.0592885375494072,
           1.056,
           1,
           1
          ],
          "coloraxis": "coloraxis",
          "symbol": "circle"
         },
         "mode": "markers",
         "name": "",
         "orientation": "v",
         "showlegend": false,
         "type": "scatter",
         "x": [
          1,
          2,
          3,
          4,
          5
         ],
         "xaxis": "x",
         "y": [
          1.0333333333333334,
          1.0592885375494072,
          1.056,
          1,
          1
         ],
         "yaxis": "y"
        },
        {
         "hovertemplate": "<b>OLS trendline</b><br>Average Number of Disruptors = -0.0125955 * Encoded Price Range + 1.06751<br>R<sup>2</sup>=0.474345<br><br>Price Range (Encoded)=%{x}<br>Average Number of Endocrine Disruptors=%{y} <b>(trend)</b><extra></extra>",
         "legendgroup": "",
         "marker": {
          "symbol": "circle"
         },
         "mode": "lines",
         "name": "",
         "showlegend": false,
         "type": "scatter",
         "x": [
          1,
          2,
          3,
          4,
          5
         ],
         "xaxis": "x",
         "y": [
          1.0549154150197626,
          1.042319894598155,
          1.0297243741765476,
          1.01712885375494,
          1.0045333333333328
         ],
         "yaxis": "y"
        }
       ],
       "layout": {
        "coloraxis": {
         "colorbar": {
          "title": {
           "text": "Average Number of Endocrine Disruptors"
          }
         },
         "colorscale": [
          [
           0,
           "#0d0887"
          ],
          [
           0.1111111111111111,
           "#46039f"
          ],
          [
           0.2222222222222222,
           "#7201a8"
          ],
          [
           0.3333333333333333,
           "#9c179e"
          ],
          [
           0.4444444444444444,
           "#bd3786"
          ],
          [
           0.5555555555555556,
           "#d8576b"
          ],
          [
           0.6666666666666666,
           "#ed7953"
          ],
          [
           0.7777777777777778,
           "#fb9f3a"
          ],
          [
           0.8888888888888888,
           "#fdca26"
          ],
          [
           1,
           "#f0f921"
          ]
         ]
        },
        "legend": {
         "tracegroupgap": 0
        },
        "template": {
         "data": {
          "bar": [
           {
            "error_x": {
             "color": "#2a3f5f"
            },
            "error_y": {
             "color": "#2a3f5f"
            },
            "marker": {
             "line": {
              "color": "#E5ECF6",
              "width": 0.5
             },
             "pattern": {
              "fillmode": "overlay",
              "size": 10,
              "solidity": 0.2
             }
            },
            "type": "bar"
           }
          ],
          "barpolar": [
           {
            "marker": {
             "line": {
              "color": "#E5ECF6",
              "width": 0.5
             },
             "pattern": {
              "fillmode": "overlay",
              "size": 10,
              "solidity": 0.2
             }
            },
            "type": "barpolar"
           }
          ],
          "carpet": [
           {
            "aaxis": {
             "endlinecolor": "#2a3f5f",
             "gridcolor": "white",
             "linecolor": "white",
             "minorgridcolor": "white",
             "startlinecolor": "#2a3f5f"
            },
            "baxis": {
             "endlinecolor": "#2a3f5f",
             "gridcolor": "white",
             "linecolor": "white",
             "minorgridcolor": "white",
             "startlinecolor": "#2a3f5f"
            },
            "type": "carpet"
           }
          ],
          "choropleth": [
           {
            "colorbar": {
             "outlinewidth": 0,
             "ticks": ""
            },
            "type": "choropleth"
           }
          ],
          "contour": [
           {
            "colorbar": {
             "outlinewidth": 0,
             "ticks": ""
            },
            "colorscale": [
             [
              0,
              "#0d0887"
             ],
             [
              0.1111111111111111,
              "#46039f"
             ],
             [
              0.2222222222222222,
              "#7201a8"
             ],
             [
              0.3333333333333333,
              "#9c179e"
             ],
             [
              0.4444444444444444,
              "#bd3786"
             ],
             [
              0.5555555555555556,
              "#d8576b"
             ],
             [
              0.6666666666666666,
              "#ed7953"
             ],
             [
              0.7777777777777778,
              "#fb9f3a"
             ],
             [
              0.8888888888888888,
              "#fdca26"
             ],
             [
              1,
              "#f0f921"
             ]
            ],
            "type": "contour"
           }
          ],
          "contourcarpet": [
           {
            "colorbar": {
             "outlinewidth": 0,
             "ticks": ""
            },
            "type": "contourcarpet"
           }
          ],
          "heatmap": [
           {
            "colorbar": {
             "outlinewidth": 0,
             "ticks": ""
            },
            "colorscale": [
             [
              0,
              "#0d0887"
             ],
             [
              0.1111111111111111,
              "#46039f"
             ],
             [
              0.2222222222222222,
              "#7201a8"
             ],
             [
              0.3333333333333333,
              "#9c179e"
             ],
             [
              0.4444444444444444,
              "#bd3786"
             ],
             [
              0.5555555555555556,
              "#d8576b"
             ],
             [
              0.6666666666666666,
              "#ed7953"
             ],
             [
              0.7777777777777778,
              "#fb9f3a"
             ],
             [
              0.8888888888888888,
              "#fdca26"
             ],
             [
              1,
              "#f0f921"
             ]
            ],
            "type": "heatmap"
           }
          ],
          "heatmapgl": [
           {
            "colorbar": {
             "outlinewidth": 0,
             "ticks": ""
            },
            "colorscale": [
             [
              0,
              "#0d0887"
             ],
             [
              0.1111111111111111,
              "#46039f"
             ],
             [
              0.2222222222222222,
              "#7201a8"
             ],
             [
              0.3333333333333333,
              "#9c179e"
             ],
             [
              0.4444444444444444,
              "#bd3786"
             ],
             [
              0.5555555555555556,
              "#d8576b"
             ],
             [
              0.6666666666666666,
              "#ed7953"
             ],
             [
              0.7777777777777778,
              "#fb9f3a"
             ],
             [
              0.8888888888888888,
              "#fdca26"
             ],
             [
              1,
              "#f0f921"
             ]
            ],
            "type": "heatmapgl"
           }
          ],
          "histogram": [
           {
            "marker": {
             "pattern": {
              "fillmode": "overlay",
              "size": 10,
              "solidity": 0.2
             }
            },
            "type": "histogram"
           }
          ],
          "histogram2d": [
           {
            "colorbar": {
             "outlinewidth": 0,
             "ticks": ""
            },
            "colorscale": [
             [
              0,
              "#0d0887"
             ],
             [
              0.1111111111111111,
              "#46039f"
             ],
             [
              0.2222222222222222,
              "#7201a8"
             ],
             [
              0.3333333333333333,
              "#9c179e"
             ],
             [
              0.4444444444444444,
              "#bd3786"
             ],
             [
              0.5555555555555556,
              "#d8576b"
             ],
             [
              0.6666666666666666,
              "#ed7953"
             ],
             [
              0.7777777777777778,
              "#fb9f3a"
             ],
             [
              0.8888888888888888,
              "#fdca26"
             ],
             [
              1,
              "#f0f921"
             ]
            ],
            "type": "histogram2d"
           }
          ],
          "histogram2dcontour": [
           {
            "colorbar": {
             "outlinewidth": 0,
             "ticks": ""
            },
            "colorscale": [
             [
              0,
              "#0d0887"
             ],
             [
              0.1111111111111111,
              "#46039f"
             ],
             [
              0.2222222222222222,
              "#7201a8"
             ],
             [
              0.3333333333333333,
              "#9c179e"
             ],
             [
              0.4444444444444444,
              "#bd3786"
             ],
             [
              0.5555555555555556,
              "#d8576b"
             ],
             [
              0.6666666666666666,
              "#ed7953"
             ],
             [
              0.7777777777777778,
              "#fb9f3a"
             ],
             [
              0.8888888888888888,
              "#fdca26"
             ],
             [
              1,
              "#f0f921"
             ]
            ],
            "type": "histogram2dcontour"
           }
          ],
          "mesh3d": [
           {
            "colorbar": {
             "outlinewidth": 0,
             "ticks": ""
            },
            "type": "mesh3d"
           }
          ],
          "parcoords": [
           {
            "line": {
             "colorbar": {
              "outlinewidth": 0,
              "ticks": ""
             }
            },
            "type": "parcoords"
           }
          ],
          "pie": [
           {
            "automargin": true,
            "type": "pie"
           }
          ],
          "scatter": [
           {
            "fillpattern": {
             "fillmode": "overlay",
             "size": 10,
             "solidity": 0.2
            },
            "type": "scatter"
           }
          ],
          "scatter3d": [
           {
            "line": {
             "colorbar": {
              "outlinewidth": 0,
              "ticks": ""
             }
            },
            "marker": {
             "colorbar": {
              "outlinewidth": 0,
              "ticks": ""
             }
            },
            "type": "scatter3d"
           }
          ],
          "scattercarpet": [
           {
            "marker": {
             "colorbar": {
              "outlinewidth": 0,
              "ticks": ""
             }
            },
            "type": "scattercarpet"
           }
          ],
          "scattergeo": [
           {
            "marker": {
             "colorbar": {
              "outlinewidth": 0,
              "ticks": ""
             }
            },
            "type": "scattergeo"
           }
          ],
          "scattergl": [
           {
            "marker": {
             "colorbar": {
              "outlinewidth": 0,
              "ticks": ""
             }
            },
            "type": "scattergl"
           }
          ],
          "scattermapbox": [
           {
            "marker": {
             "colorbar": {
              "outlinewidth": 0,
              "ticks": ""
             }
            },
            "type": "scattermapbox"
           }
          ],
          "scatterpolar": [
           {
            "marker": {
             "colorbar": {
              "outlinewidth": 0,
              "ticks": ""
             }
            },
            "type": "scatterpolar"
           }
          ],
          "scatterpolargl": [
           {
            "marker": {
             "colorbar": {
              "outlinewidth": 0,
              "ticks": ""
             }
            },
            "type": "scatterpolargl"
           }
          ],
          "scatterternary": [
           {
            "marker": {
             "colorbar": {
              "outlinewidth": 0,
              "ticks": ""
             }
            },
            "type": "scatterternary"
           }
          ],
          "surface": [
           {
            "colorbar": {
             "outlinewidth": 0,
             "ticks": ""
            },
            "colorscale": [
             [
              0,
              "#0d0887"
             ],
             [
              0.1111111111111111,
              "#46039f"
             ],
             [
              0.2222222222222222,
              "#7201a8"
             ],
             [
              0.3333333333333333,
              "#9c179e"
             ],
             [
              0.4444444444444444,
              "#bd3786"
             ],
             [
              0.5555555555555556,
              "#d8576b"
             ],
             [
              0.6666666666666666,
              "#ed7953"
             ],
             [
              0.7777777777777778,
              "#fb9f3a"
             ],
             [
              0.8888888888888888,
              "#fdca26"
             ],
             [
              1,
              "#f0f921"
             ]
            ],
            "type": "surface"
           }
          ],
          "table": [
           {
            "cells": {
             "fill": {
              "color": "#EBF0F8"
             },
             "line": {
              "color": "white"
             }
            },
            "header": {
             "fill": {
              "color": "#C8D4E3"
             },
             "line": {
              "color": "white"
             }
            },
            "type": "table"
           }
          ]
         },
         "layout": {
          "annotationdefaults": {
           "arrowcolor": "#2a3f5f",
           "arrowhead": 0,
           "arrowwidth": 1
          },
          "autotypenumbers": "strict",
          "coloraxis": {
           "colorbar": {
            "outlinewidth": 0,
            "ticks": ""
           }
          },
          "colorscale": {
           "diverging": [
            [
             0,
             "#8e0152"
            ],
            [
             0.1,
             "#c51b7d"
            ],
            [
             0.2,
             "#de77ae"
            ],
            [
             0.3,
             "#f1b6da"
            ],
            [
             0.4,
             "#fde0ef"
            ],
            [
             0.5,
             "#f7f7f7"
            ],
            [
             0.6,
             "#e6f5d0"
            ],
            [
             0.7,
             "#b8e186"
            ],
            [
             0.8,
             "#7fbc41"
            ],
            [
             0.9,
             "#4d9221"
            ],
            [
             1,
             "#276419"
            ]
           ],
           "sequential": [
            [
             0,
             "#0d0887"
            ],
            [
             0.1111111111111111,
             "#46039f"
            ],
            [
             0.2222222222222222,
             "#7201a8"
            ],
            [
             0.3333333333333333,
             "#9c179e"
            ],
            [
             0.4444444444444444,
             "#bd3786"
            ],
            [
             0.5555555555555556,
             "#d8576b"
            ],
            [
             0.6666666666666666,
             "#ed7953"
            ],
            [
             0.7777777777777778,
             "#fb9f3a"
            ],
            [
             0.8888888888888888,
             "#fdca26"
            ],
            [
             1,
             "#f0f921"
            ]
           ],
           "sequentialminus": [
            [
             0,
             "#0d0887"
            ],
            [
             0.1111111111111111,
             "#46039f"
            ],
            [
             0.2222222222222222,
             "#7201a8"
            ],
            [
             0.3333333333333333,
             "#9c179e"
            ],
            [
             0.4444444444444444,
             "#bd3786"
            ],
            [
             0.5555555555555556,
             "#d8576b"
            ],
            [
             0.6666666666666666,
             "#ed7953"
            ],
            [
             0.7777777777777778,
             "#fb9f3a"
            ],
            [
             0.8888888888888888,
             "#fdca26"
            ],
            [
             1,
             "#f0f921"
            ]
           ]
          },
          "colorway": [
           "#636efa",
           "#EF553B",
           "#00cc96",
           "#ab63fa",
           "#FFA15A",
           "#19d3f3",
           "#FF6692",
           "#B6E880",
           "#FF97FF",
           "#FECB52"
          ],
          "font": {
           "color": "#2a3f5f"
          },
          "geo": {
           "bgcolor": "white",
           "lakecolor": "white",
           "landcolor": "#E5ECF6",
           "showlakes": true,
           "showland": true,
           "subunitcolor": "white"
          },
          "hoverlabel": {
           "align": "left"
          },
          "hovermode": "closest",
          "mapbox": {
           "style": "light"
          },
          "paper_bgcolor": "white",
          "plot_bgcolor": "#E5ECF6",
          "polar": {
           "angularaxis": {
            "gridcolor": "white",
            "linecolor": "white",
            "ticks": ""
           },
           "bgcolor": "#E5ECF6",
           "radialaxis": {
            "gridcolor": "white",
            "linecolor": "white",
            "ticks": ""
           }
          },
          "scene": {
           "xaxis": {
            "backgroundcolor": "#E5ECF6",
            "gridcolor": "white",
            "gridwidth": 2,
            "linecolor": "white",
            "showbackground": true,
            "ticks": "",
            "zerolinecolor": "white"
           },
           "yaxis": {
            "backgroundcolor": "#E5ECF6",
            "gridcolor": "white",
            "gridwidth": 2,
            "linecolor": "white",
            "showbackground": true,
            "ticks": "",
            "zerolinecolor": "white"
           },
           "zaxis": {
            "backgroundcolor": "#E5ECF6",
            "gridcolor": "white",
            "gridwidth": 2,
            "linecolor": "white",
            "showbackground": true,
            "ticks": "",
            "zerolinecolor": "white"
           }
          },
          "shapedefaults": {
           "line": {
            "color": "#2a3f5f"
           }
          },
          "ternary": {
           "aaxis": {
            "gridcolor": "white",
            "linecolor": "white",
            "ticks": ""
           },
           "baxis": {
            "gridcolor": "white",
            "linecolor": "white",
            "ticks": ""
           },
           "bgcolor": "#E5ECF6",
           "caxis": {
            "gridcolor": "white",
            "linecolor": "white",
            "ticks": ""
           }
          },
          "title": {
           "x": 0.05
          },
          "xaxis": {
           "automargin": true,
           "gridcolor": "white",
           "linecolor": "white",
           "ticks": "",
           "title": {
            "standoff": 15
           },
           "zerolinecolor": "white",
           "zerolinewidth": 2
          },
          "yaxis": {
           "automargin": true,
           "gridcolor": "white",
           "linecolor": "white",
           "ticks": "",
           "title": {
            "standoff": 15
           },
           "zerolinecolor": "white",
           "zerolinewidth": 2
          }
         }
        },
        "title": {
         "text": "Correlation Between Price Range and Average Number of Endocrine Disruptors"
        },
        "xaxis": {
         "anchor": "y",
         "domain": [
          0,
          1
         ],
         "ticktext": [
          "0",
          "1",
          "2",
          "3",
          "4",
          "5"
         ],
         "tickvals": [
          0,
          1,
          2,
          3,
          4,
          5
         ],
         "title": {
          "text": "Price Range (Encoded)"
         }
        },
        "yaxis": {
         "anchor": "x",
         "domain": [
          0,
          1
         ],
         "title": {
          "text": "Average Number of Endocrine Disruptors"
         }
        }
       }
      }
     },
     "metadata": {},
     "output_type": "display_data"
    }
   ],
   "source": [
    "# Assuming final_ingredients_df is your existing DataFrame with relevant data\n",
    "\n",
    "# Step 2: Filter the DataFrame to include only products with endocrine disruptors\n",
    "disruptor_products = final_ingredients_df[final_ingredients_df['contains_disruptors'] == 'Yes']\n",
    "\n",
    "# Step 3: Define a function to categorize prices\n",
    "def categorize_price(price):\n",
    "    if price < 20:\n",
    "        return 'Low'\n",
    "    elif 20 <= price < 50:\n",
    "        return 'Medium'\n",
    "    elif 50 <= price < 100:\n",
    "        return 'High'\n",
    "    elif 100 <= price < 200:\n",
    "        return 'Very High'\n",
    "    else:\n",
    "        return 'Luxury'  # For prices above 200\n",
    "\n",
    "# Step 4: Apply the function to create a new column for price range\n",
    "disruptor_products['price_range'] = disruptor_products['price'].apply(categorize_price)\n",
    "\n",
    "# Step 5: Calculate the average number of endocrine disruptors by price range\n",
    "average_disruptors = disruptor_products.groupby('price_range')['number_disruptors'].mean()\n",
    "\n",
    "# Step 6: Sort the results based on the predefined price range order\n",
    "price_order = ['Low', 'Medium', 'High', 'Very High', 'Luxury']\n",
    "average_disruptors = average_disruptors.reindex(price_order)\n",
    "\n",
    "# Display the resulting Series\n",
    "print(\"Average number of endocrine disruptors by price range:\")\n",
    "print(average_disruptors)\n",
    "\n",
    "# Step 7: Create a DataFrame for correlation analysis\n",
    "# Encode the price ranges into numerical values\n",
    "price_mapping = {\n",
    "    'Low': 1,\n",
    "    'Medium': 2,\n",
    "    'High': 3,\n",
    "    'Very High': 4,\n",
    "    'Luxury': 5\n",
    "}\n",
    "\n",
    "# Create the correlation DataFrame\n",
    "correlation_df = pd.DataFrame({\n",
    "    'Price Range': average_disruptors.index,\n",
    "    'Average Number of Disruptors': average_disruptors.values\n",
    "})\n",
    "\n",
    "# Encode the Price Range\n",
    "correlation_df['Encoded Price Range'] = correlation_df['Price Range'].map(price_mapping)\n",
    "\n",
    "# Step 8: Calculate the Pearson correlation coefficient\n",
    "correlation = correlation_df['Encoded Price Range'].corr(correlation_df['Average Number of Disruptors'])\n",
    "\n",
    "# Display the correlation result\n",
    "print(f\"Pearson correlation coefficient between price range and average number of endocrine disruptors: {correlation:.2f}\")\n",
    "\n",
    "# Step 9: Create the scatter plot\n",
    "fig = px.scatter(correlation_df,\n",
    "                 x='Encoded Price Range',\n",
    "                 y='Average Number of Disruptors',\n",
    "                 title='Correlation Between Price Range and Average Number of Endocrine Disruptors',\n",
    "                 labels={'Encoded Price Range': 'Price Range (Encoded)', \n",
    "                         'Average Number of Disruptors': 'Average Number of Endocrine Disruptors'},\n",
    "                 trendline='ols',  # Add a trendline to see the correlation more clearly\n",
    "                 color='Average Number of Disruptors')\n",
    "\n",
    "# Update y-axis to show only integer values\n",
    "fig.update_xaxes(tickvals=[0, 1, 2, 3, 4, 5], ticktext=[\"0\", \"1\", \"2\", \"3\",\"4\",\"5\"])\n",
    "\n",
    "# Show the plot\n",
    "fig.show()"
   ]
  },
  {
   "cell_type": "markdown",
   "metadata": {},
   "source": [
    "### **Question 4: Are consumers aware of endocrine disruptors in cosmetic products?<br> Do they consider them in their product reviews? <br> How does the average rating correlate with the presence of endocrine disruptors?**"
   ]
  },
  {
   "cell_type": "code",
   "execution_count": 29,
   "metadata": {},
   "outputs": [
    {
     "name": "stdout",
     "output_type": "stream",
     "text": [
      "Average Ratings Table:\n"
     ]
    },
    {
     "name": "stderr",
     "output_type": "stream",
     "text": [
      "C:\\Users\\celia\\AppData\\Local\\Temp\\ipykernel_15092\\3605243792.py:5: SettingWithCopyWarning:\n",
      "\n",
      "\n",
      "A value is trying to be set on a copy of a slice from a DataFrame.\n",
      "Try using .loc[row_indexer,col_indexer] = value instead\n",
      "\n",
      "See the caveats in the documentation: https://pandas.pydata.org/pandas-docs/stable/user_guide/indexing.html#returning-a-view-versus-a-copy\n",
      "\n"
     ]
    },
    {
     "data": {
      "text/html": [
       "<div>\n",
       "<style scoped>\n",
       "    .dataframe tbody tr th:only-of-type {\n",
       "        vertical-align: middle;\n",
       "    }\n",
       "\n",
       "    .dataframe tbody tr th {\n",
       "        vertical-align: top;\n",
       "    }\n",
       "\n",
       "    .dataframe thead th {\n",
       "        text-align: right;\n",
       "    }\n",
       "</style>\n",
       "<table border=\"1\" class=\"dataframe\">\n",
       "  <thead>\n",
       "    <tr style=\"text-align: right;\">\n",
       "      <th></th>\n",
       "      <th>Contains Disruptors</th>\n",
       "      <th>Average Rating</th>\n",
       "    </tr>\n",
       "  </thead>\n",
       "  <tbody>\n",
       "    <tr>\n",
       "      <th>0</th>\n",
       "      <td>No</td>\n",
       "      <td>4.357336</td>\n",
       "    </tr>\n",
       "    <tr>\n",
       "      <th>1</th>\n",
       "      <td>Yes</td>\n",
       "      <td>4.396450</td>\n",
       "    </tr>\n",
       "  </tbody>\n",
       "</table>\n",
       "</div>"
      ],
      "text/plain": [
       "  Contains Disruptors  Average Rating\n",
       "0                  No        4.357336\n",
       "1                 Yes        4.396450"
      ]
     },
     "execution_count": 29,
     "metadata": {},
     "output_type": "execute_result"
    }
   ],
   "source": [
    "# Step 1: Filter products with more than 100 reviews\n",
    "valued_products = final_ingredients_df[final_ingredients_df['review_count'] > 100]\n",
    "\n",
    "# Step 2: Create a Yes/No column for endocrine disruptors based on number of disruptors\n",
    "valued_products['contains_disruptors'] = valued_products['number_disruptors'].apply(lambda x: 'Yes' if x > 0 else 'No')\n",
    "\n",
    "# Step 3: Calculate the average rating by disruptor presence\n",
    "average_ratings = valued_products.groupby('contains_disruptors')['rating'].mean().reset_index()\n",
    "\n",
    "# Rename the columns for clarity\n",
    "average_ratings.columns = ['Contains Disruptors', 'Average Rating']\n",
    "\n",
    "# Display the average ratings table\n",
    "print(\"Average Ratings Table:\")\n",
    "average_ratings"
   ]
  },
  {
   "cell_type": "code",
   "execution_count": 49,
   "metadata": {},
   "outputs": [
    {
     "data": {
      "application/vnd.plotly.v1+json": {
       "config": {
        "plotlyServerURL": "https://plot.ly"
       },
       "data": [
        {
         "alignmentgroup": "True",
         "hovertemplate": "Contains Endocrine Disruptors=%{x}<br>Average Rating=%{text}<extra></extra>",
         "legendgroup": "",
         "marker": {
          "color": "purple",
          "pattern": {
           "shape": ""
          }
         },
         "name": "",
         "offsetgroup": "",
         "orientation": "v",
         "showlegend": false,
         "text": [
          4.357335733573358,
          4.396449704142012
         ],
         "textposition": "inside",
         "texttemplate": "%{text:.2f}",
         "type": "bar",
         "x": [
          "No",
          "Yes"
         ],
         "xaxis": "x",
         "y": [
          4.357335733573358,
          4.396449704142012
         ],
         "yaxis": "y"
        }
       ],
       "layout": {
        "barmode": "relative",
        "legend": {
         "tracegroupgap": 0
        },
        "template": {
         "data": {
          "bar": [
           {
            "error_x": {
             "color": "#2a3f5f"
            },
            "error_y": {
             "color": "#2a3f5f"
            },
            "marker": {
             "line": {
              "color": "#E5ECF6",
              "width": 0.5
             },
             "pattern": {
              "fillmode": "overlay",
              "size": 10,
              "solidity": 0.2
             }
            },
            "type": "bar"
           }
          ],
          "barpolar": [
           {
            "marker": {
             "line": {
              "color": "#E5ECF6",
              "width": 0.5
             },
             "pattern": {
              "fillmode": "overlay",
              "size": 10,
              "solidity": 0.2
             }
            },
            "type": "barpolar"
           }
          ],
          "carpet": [
           {
            "aaxis": {
             "endlinecolor": "#2a3f5f",
             "gridcolor": "white",
             "linecolor": "white",
             "minorgridcolor": "white",
             "startlinecolor": "#2a3f5f"
            },
            "baxis": {
             "endlinecolor": "#2a3f5f",
             "gridcolor": "white",
             "linecolor": "white",
             "minorgridcolor": "white",
             "startlinecolor": "#2a3f5f"
            },
            "type": "carpet"
           }
          ],
          "choropleth": [
           {
            "colorbar": {
             "outlinewidth": 0,
             "ticks": ""
            },
            "type": "choropleth"
           }
          ],
          "contour": [
           {
            "colorbar": {
             "outlinewidth": 0,
             "ticks": ""
            },
            "colorscale": [
             [
              0,
              "#0d0887"
             ],
             [
              0.1111111111111111,
              "#46039f"
             ],
             [
              0.2222222222222222,
              "#7201a8"
             ],
             [
              0.3333333333333333,
              "#9c179e"
             ],
             [
              0.4444444444444444,
              "#bd3786"
             ],
             [
              0.5555555555555556,
              "#d8576b"
             ],
             [
              0.6666666666666666,
              "#ed7953"
             ],
             [
              0.7777777777777778,
              "#fb9f3a"
             ],
             [
              0.8888888888888888,
              "#fdca26"
             ],
             [
              1,
              "#f0f921"
             ]
            ],
            "type": "contour"
           }
          ],
          "contourcarpet": [
           {
            "colorbar": {
             "outlinewidth": 0,
             "ticks": ""
            },
            "type": "contourcarpet"
           }
          ],
          "heatmap": [
           {
            "colorbar": {
             "outlinewidth": 0,
             "ticks": ""
            },
            "colorscale": [
             [
              0,
              "#0d0887"
             ],
             [
              0.1111111111111111,
              "#46039f"
             ],
             [
              0.2222222222222222,
              "#7201a8"
             ],
             [
              0.3333333333333333,
              "#9c179e"
             ],
             [
              0.4444444444444444,
              "#bd3786"
             ],
             [
              0.5555555555555556,
              "#d8576b"
             ],
             [
              0.6666666666666666,
              "#ed7953"
             ],
             [
              0.7777777777777778,
              "#fb9f3a"
             ],
             [
              0.8888888888888888,
              "#fdca26"
             ],
             [
              1,
              "#f0f921"
             ]
            ],
            "type": "heatmap"
           }
          ],
          "heatmapgl": [
           {
            "colorbar": {
             "outlinewidth": 0,
             "ticks": ""
            },
            "colorscale": [
             [
              0,
              "#0d0887"
             ],
             [
              0.1111111111111111,
              "#46039f"
             ],
             [
              0.2222222222222222,
              "#7201a8"
             ],
             [
              0.3333333333333333,
              "#9c179e"
             ],
             [
              0.4444444444444444,
              "#bd3786"
             ],
             [
              0.5555555555555556,
              "#d8576b"
             ],
             [
              0.6666666666666666,
              "#ed7953"
             ],
             [
              0.7777777777777778,
              "#fb9f3a"
             ],
             [
              0.8888888888888888,
              "#fdca26"
             ],
             [
              1,
              "#f0f921"
             ]
            ],
            "type": "heatmapgl"
           }
          ],
          "histogram": [
           {
            "marker": {
             "pattern": {
              "fillmode": "overlay",
              "size": 10,
              "solidity": 0.2
             }
            },
            "type": "histogram"
           }
          ],
          "histogram2d": [
           {
            "colorbar": {
             "outlinewidth": 0,
             "ticks": ""
            },
            "colorscale": [
             [
              0,
              "#0d0887"
             ],
             [
              0.1111111111111111,
              "#46039f"
             ],
             [
              0.2222222222222222,
              "#7201a8"
             ],
             [
              0.3333333333333333,
              "#9c179e"
             ],
             [
              0.4444444444444444,
              "#bd3786"
             ],
             [
              0.5555555555555556,
              "#d8576b"
             ],
             [
              0.6666666666666666,
              "#ed7953"
             ],
             [
              0.7777777777777778,
              "#fb9f3a"
             ],
             [
              0.8888888888888888,
              "#fdca26"
             ],
             [
              1,
              "#f0f921"
             ]
            ],
            "type": "histogram2d"
           }
          ],
          "histogram2dcontour": [
           {
            "colorbar": {
             "outlinewidth": 0,
             "ticks": ""
            },
            "colorscale": [
             [
              0,
              "#0d0887"
             ],
             [
              0.1111111111111111,
              "#46039f"
             ],
             [
              0.2222222222222222,
              "#7201a8"
             ],
             [
              0.3333333333333333,
              "#9c179e"
             ],
             [
              0.4444444444444444,
              "#bd3786"
             ],
             [
              0.5555555555555556,
              "#d8576b"
             ],
             [
              0.6666666666666666,
              "#ed7953"
             ],
             [
              0.7777777777777778,
              "#fb9f3a"
             ],
             [
              0.8888888888888888,
              "#fdca26"
             ],
             [
              1,
              "#f0f921"
             ]
            ],
            "type": "histogram2dcontour"
           }
          ],
          "mesh3d": [
           {
            "colorbar": {
             "outlinewidth": 0,
             "ticks": ""
            },
            "type": "mesh3d"
           }
          ],
          "parcoords": [
           {
            "line": {
             "colorbar": {
              "outlinewidth": 0,
              "ticks": ""
             }
            },
            "type": "parcoords"
           }
          ],
          "pie": [
           {
            "automargin": true,
            "type": "pie"
           }
          ],
          "scatter": [
           {
            "fillpattern": {
             "fillmode": "overlay",
             "size": 10,
             "solidity": 0.2
            },
            "type": "scatter"
           }
          ],
          "scatter3d": [
           {
            "line": {
             "colorbar": {
              "outlinewidth": 0,
              "ticks": ""
             }
            },
            "marker": {
             "colorbar": {
              "outlinewidth": 0,
              "ticks": ""
             }
            },
            "type": "scatter3d"
           }
          ],
          "scattercarpet": [
           {
            "marker": {
             "colorbar": {
              "outlinewidth": 0,
              "ticks": ""
             }
            },
            "type": "scattercarpet"
           }
          ],
          "scattergeo": [
           {
            "marker": {
             "colorbar": {
              "outlinewidth": 0,
              "ticks": ""
             }
            },
            "type": "scattergeo"
           }
          ],
          "scattergl": [
           {
            "marker": {
             "colorbar": {
              "outlinewidth": 0,
              "ticks": ""
             }
            },
            "type": "scattergl"
           }
          ],
          "scattermapbox": [
           {
            "marker": {
             "colorbar": {
              "outlinewidth": 0,
              "ticks": ""
             }
            },
            "type": "scattermapbox"
           }
          ],
          "scatterpolar": [
           {
            "marker": {
             "colorbar": {
              "outlinewidth": 0,
              "ticks": ""
             }
            },
            "type": "scatterpolar"
           }
          ],
          "scatterpolargl": [
           {
            "marker": {
             "colorbar": {
              "outlinewidth": 0,
              "ticks": ""
             }
            },
            "type": "scatterpolargl"
           }
          ],
          "scatterternary": [
           {
            "marker": {
             "colorbar": {
              "outlinewidth": 0,
              "ticks": ""
             }
            },
            "type": "scatterternary"
           }
          ],
          "surface": [
           {
            "colorbar": {
             "outlinewidth": 0,
             "ticks": ""
            },
            "colorscale": [
             [
              0,
              "#0d0887"
             ],
             [
              0.1111111111111111,
              "#46039f"
             ],
             [
              0.2222222222222222,
              "#7201a8"
             ],
             [
              0.3333333333333333,
              "#9c179e"
             ],
             [
              0.4444444444444444,
              "#bd3786"
             ],
             [
              0.5555555555555556,
              "#d8576b"
             ],
             [
              0.6666666666666666,
              "#ed7953"
             ],
             [
              0.7777777777777778,
              "#fb9f3a"
             ],
             [
              0.8888888888888888,
              "#fdca26"
             ],
             [
              1,
              "#f0f921"
             ]
            ],
            "type": "surface"
           }
          ],
          "table": [
           {
            "cells": {
             "fill": {
              "color": "#EBF0F8"
             },
             "line": {
              "color": "white"
             }
            },
            "header": {
             "fill": {
              "color": "#C8D4E3"
             },
             "line": {
              "color": "white"
             }
            },
            "type": "table"
           }
          ]
         },
         "layout": {
          "annotationdefaults": {
           "arrowcolor": "#2a3f5f",
           "arrowhead": 0,
           "arrowwidth": 1
          },
          "autotypenumbers": "strict",
          "coloraxis": {
           "colorbar": {
            "outlinewidth": 0,
            "ticks": ""
           }
          },
          "colorscale": {
           "diverging": [
            [
             0,
             "#8e0152"
            ],
            [
             0.1,
             "#c51b7d"
            ],
            [
             0.2,
             "#de77ae"
            ],
            [
             0.3,
             "#f1b6da"
            ],
            [
             0.4,
             "#fde0ef"
            ],
            [
             0.5,
             "#f7f7f7"
            ],
            [
             0.6,
             "#e6f5d0"
            ],
            [
             0.7,
             "#b8e186"
            ],
            [
             0.8,
             "#7fbc41"
            ],
            [
             0.9,
             "#4d9221"
            ],
            [
             1,
             "#276419"
            ]
           ],
           "sequential": [
            [
             0,
             "#0d0887"
            ],
            [
             0.1111111111111111,
             "#46039f"
            ],
            [
             0.2222222222222222,
             "#7201a8"
            ],
            [
             0.3333333333333333,
             "#9c179e"
            ],
            [
             0.4444444444444444,
             "#bd3786"
            ],
            [
             0.5555555555555556,
             "#d8576b"
            ],
            [
             0.6666666666666666,
             "#ed7953"
            ],
            [
             0.7777777777777778,
             "#fb9f3a"
            ],
            [
             0.8888888888888888,
             "#fdca26"
            ],
            [
             1,
             "#f0f921"
            ]
           ],
           "sequentialminus": [
            [
             0,
             "#0d0887"
            ],
            [
             0.1111111111111111,
             "#46039f"
            ],
            [
             0.2222222222222222,
             "#7201a8"
            ],
            [
             0.3333333333333333,
             "#9c179e"
            ],
            [
             0.4444444444444444,
             "#bd3786"
            ],
            [
             0.5555555555555556,
             "#d8576b"
            ],
            [
             0.6666666666666666,
             "#ed7953"
            ],
            [
             0.7777777777777778,
             "#fb9f3a"
            ],
            [
             0.8888888888888888,
             "#fdca26"
            ],
            [
             1,
             "#f0f921"
            ]
           ]
          },
          "colorway": [
           "#636efa",
           "#EF553B",
           "#00cc96",
           "#ab63fa",
           "#FFA15A",
           "#19d3f3",
           "#FF6692",
           "#B6E880",
           "#FF97FF",
           "#FECB52"
          ],
          "font": {
           "color": "#2a3f5f"
          },
          "geo": {
           "bgcolor": "white",
           "lakecolor": "white",
           "landcolor": "#E5ECF6",
           "showlakes": true,
           "showland": true,
           "subunitcolor": "white"
          },
          "hoverlabel": {
           "align": "left"
          },
          "hovermode": "closest",
          "mapbox": {
           "style": "light"
          },
          "paper_bgcolor": "white",
          "plot_bgcolor": "#E5ECF6",
          "polar": {
           "angularaxis": {
            "gridcolor": "white",
            "linecolor": "white",
            "ticks": ""
           },
           "bgcolor": "#E5ECF6",
           "radialaxis": {
            "gridcolor": "white",
            "linecolor": "white",
            "ticks": ""
           }
          },
          "scene": {
           "xaxis": {
            "backgroundcolor": "#E5ECF6",
            "gridcolor": "white",
            "gridwidth": 2,
            "linecolor": "white",
            "showbackground": true,
            "ticks": "",
            "zerolinecolor": "white"
           },
           "yaxis": {
            "backgroundcolor": "#E5ECF6",
            "gridcolor": "white",
            "gridwidth": 2,
            "linecolor": "white",
            "showbackground": true,
            "ticks": "",
            "zerolinecolor": "white"
           },
           "zaxis": {
            "backgroundcolor": "#E5ECF6",
            "gridcolor": "white",
            "gridwidth": 2,
            "linecolor": "white",
            "showbackground": true,
            "ticks": "",
            "zerolinecolor": "white"
           }
          },
          "shapedefaults": {
           "line": {
            "color": "#2a3f5f"
           }
          },
          "ternary": {
           "aaxis": {
            "gridcolor": "white",
            "linecolor": "white",
            "ticks": ""
           },
           "baxis": {
            "gridcolor": "white",
            "linecolor": "white",
            "ticks": ""
           },
           "bgcolor": "#E5ECF6",
           "caxis": {
            "gridcolor": "white",
            "linecolor": "white",
            "ticks": ""
           }
          },
          "title": {
           "x": 0.05
          },
          "xaxis": {
           "automargin": true,
           "gridcolor": "white",
           "linecolor": "white",
           "ticks": "",
           "title": {
            "standoff": 15
           },
           "zerolinecolor": "white",
           "zerolinewidth": 2
          },
          "yaxis": {
           "automargin": true,
           "gridcolor": "white",
           "linecolor": "white",
           "ticks": "",
           "title": {
            "standoff": 15
           },
           "zerolinecolor": "white",
           "zerolinewidth": 2
          }
         }
        },
        "title": {
         "text": "Average Ratings of Products with and without Endocrine Disruptors"
        },
        "width": 650,
        "xaxis": {
         "anchor": "y",
         "domain": [
          0,
          1
         ],
         "title": {
          "text": "Contains Endocrine Disruptors"
         }
        },
        "yaxis": {
         "anchor": "x",
         "domain": [
          0,
          1
         ],
         "title": {
          "text": "Average Rating"
         }
        }
       }
      }
     },
     "metadata": {},
     "output_type": "display_data"
    }
   ],
   "source": [
    "# Step 4: Create a bar chart to visualize average ratings with values displayed in the middle of the bars\n",
    "fig = px.bar(\n",
    "    average_ratings, \n",
    "    x='Contains Disruptors', \n",
    "    y='Average Rating', \n",
    "    title='Average Ratings of Products with and without Endocrine Disruptors',\n",
    "    labels={'Contains Disruptors': 'Contains Endocrine Disruptors', 'Average Rating': 'Average Rating'},\n",
    "    text='Average Rating',  # Display average rating values on the bars\n",
    "    width=650  # Adjust width to make the chart narrower\n",
    ")\n",
    "\n",
    "# Set bar color to purple\n",
    "fig.update_traces(marker_color='purple')\n",
    "\n",
    "# Position text in the middle of the bars\n",
    "fig.update_traces(texttemplate='%{text:.2f}', textposition='inside')\n",
    "\n",
    "# Show the plot\n",
    "fig.show()\n"
   ]
  },
  {
   "cell_type": "markdown",
   "metadata": {},
   "source": [
    "### **Question 5: What are the top 5 endocrine disruptors in this sample for each category? Is there any difference?**"
   ]
  },
  {
   "cell_type": "code",
   "execution_count": 54,
   "metadata": {},
   "outputs": [
    {
     "name": "stdout",
     "output_type": "stream",
     "text": [
      "Filtered products with disruptors: (499, 12)\n",
      "Disruptor counts after exploding: (523, 12)\n",
      "Disruptor counts grouped by category:   category endocrine_disruptors_found  count\n",
      "0     Body             benzophenone-3      3\n",
      "1     Body                  manganese      1\n",
      "2     Body                octocrylene     16\n",
      "3     Body                    paraben      2\n",
      "4     Body                       zinc     10\n",
      "Top 5 disruptors in each category:      category endocrine_disruptors_found  count\n",
      "2        Body                octocrylene     16\n",
      "4        Body                       zinc     10\n",
      "0        Body             benzophenone-3      3\n",
      "3        Body                    paraben      2\n",
      "1        Body                  manganese      1\n",
      "12     Makeup                       zinc    245\n",
      "9      Makeup                  manganese     20\n",
      "11     Makeup                    paraben     12\n",
      "5      Makeup                     barium      9\n",
      "10     Makeup                octocrylene      9\n",
      "19  Treatment                       zinc    121\n",
      "16  Treatment                octocrylene     45\n",
      "14  Treatment                     copper      9\n",
      "17  Treatment                    paraben      8\n",
      "15  Treatment                  manganese      3\n",
      "Top 5 Endocrine Disruptors in Each Category:\n",
      "     category endocrine_disruptors_found  count\n",
      "2        Body                octocrylene     16\n",
      "4        Body                       zinc     10\n",
      "0        Body             benzophenone-3      3\n",
      "3        Body                    paraben      2\n",
      "1        Body                  manganese      1\n",
      "12     Makeup                       zinc    245\n",
      "9      Makeup                  manganese     20\n",
      "11     Makeup                    paraben     12\n",
      "5      Makeup                     barium      9\n",
      "10     Makeup                octocrylene      9\n",
      "19  Treatment                       zinc    121\n",
      "16  Treatment                octocrylene     45\n",
      "14  Treatment                     copper      9\n",
      "17  Treatment                    paraben      8\n",
      "15  Treatment                  manganese      3\n"
     ]
    },
    {
     "data": {
      "application/vnd.plotly.v1+json": {
       "config": {
        "plotlyServerURL": "https://plot.ly"
       },
       "data": [
        {
         "alignmentgroup": "True",
         "hovertemplate": "category=Body<br>Endocrine Disruptors=%{x}<br>Count=%{text}<extra></extra>",
         "legendgroup": "Body",
         "marker": {
          "color": "#636efa",
          "pattern": {
           "shape": ""
          }
         },
         "name": "Body",
         "offsetgroup": "Body",
         "orientation": "v",
         "showlegend": true,
         "text": [
          16,
          10,
          3,
          2,
          1
         ],
         "textposition": "auto",
         "type": "bar",
         "x": [
          "octocrylene",
          "zinc",
          "benzophenone-3",
          "paraben",
          "manganese"
         ],
         "xaxis": "x",
         "y": [
          16,
          10,
          3,
          2,
          1
         ],
         "yaxis": "y"
        },
        {
         "alignmentgroup": "True",
         "hovertemplate": "category=Makeup<br>Endocrine Disruptors=%{x}<br>Count=%{text}<extra></extra>",
         "legendgroup": "Makeup",
         "marker": {
          "color": "#EF553B",
          "pattern": {
           "shape": ""
          }
         },
         "name": "Makeup",
         "offsetgroup": "Makeup",
         "orientation": "v",
         "showlegend": true,
         "text": [
          245,
          20,
          12,
          9,
          9
         ],
         "textposition": "auto",
         "type": "bar",
         "x": [
          "zinc",
          "manganese",
          "paraben",
          "barium",
          "octocrylene"
         ],
         "xaxis": "x",
         "y": [
          245,
          20,
          12,
          9,
          9
         ],
         "yaxis": "y"
        },
        {
         "alignmentgroup": "True",
         "hovertemplate": "category=Treatment<br>Endocrine Disruptors=%{x}<br>Count=%{text}<extra></extra>",
         "legendgroup": "Treatment",
         "marker": {
          "color": "#00cc96",
          "pattern": {
           "shape": ""
          }
         },
         "name": "Treatment",
         "offsetgroup": "Treatment",
         "orientation": "v",
         "showlegend": true,
         "text": [
          121,
          45,
          9,
          8,
          3
         ],
         "textposition": "auto",
         "type": "bar",
         "x": [
          "zinc",
          "octocrylene",
          "copper",
          "paraben",
          "manganese"
         ],
         "xaxis": "x",
         "y": [
          121,
          45,
          9,
          8,
          3
         ],
         "yaxis": "y"
        }
       ],
       "layout": {
        "barmode": "group",
        "legend": {
         "title": {
          "text": "category"
         },
         "tracegroupgap": 0
        },
        "template": {
         "data": {
          "bar": [
           {
            "error_x": {
             "color": "#2a3f5f"
            },
            "error_y": {
             "color": "#2a3f5f"
            },
            "marker": {
             "line": {
              "color": "#E5ECF6",
              "width": 0.5
             },
             "pattern": {
              "fillmode": "overlay",
              "size": 10,
              "solidity": 0.2
             }
            },
            "type": "bar"
           }
          ],
          "barpolar": [
           {
            "marker": {
             "line": {
              "color": "#E5ECF6",
              "width": 0.5
             },
             "pattern": {
              "fillmode": "overlay",
              "size": 10,
              "solidity": 0.2
             }
            },
            "type": "barpolar"
           }
          ],
          "carpet": [
           {
            "aaxis": {
             "endlinecolor": "#2a3f5f",
             "gridcolor": "white",
             "linecolor": "white",
             "minorgridcolor": "white",
             "startlinecolor": "#2a3f5f"
            },
            "baxis": {
             "endlinecolor": "#2a3f5f",
             "gridcolor": "white",
             "linecolor": "white",
             "minorgridcolor": "white",
             "startlinecolor": "#2a3f5f"
            },
            "type": "carpet"
           }
          ],
          "choropleth": [
           {
            "colorbar": {
             "outlinewidth": 0,
             "ticks": ""
            },
            "type": "choropleth"
           }
          ],
          "contour": [
           {
            "colorbar": {
             "outlinewidth": 0,
             "ticks": ""
            },
            "colorscale": [
             [
              0,
              "#0d0887"
             ],
             [
              0.1111111111111111,
              "#46039f"
             ],
             [
              0.2222222222222222,
              "#7201a8"
             ],
             [
              0.3333333333333333,
              "#9c179e"
             ],
             [
              0.4444444444444444,
              "#bd3786"
             ],
             [
              0.5555555555555556,
              "#d8576b"
             ],
             [
              0.6666666666666666,
              "#ed7953"
             ],
             [
              0.7777777777777778,
              "#fb9f3a"
             ],
             [
              0.8888888888888888,
              "#fdca26"
             ],
             [
              1,
              "#f0f921"
             ]
            ],
            "type": "contour"
           }
          ],
          "contourcarpet": [
           {
            "colorbar": {
             "outlinewidth": 0,
             "ticks": ""
            },
            "type": "contourcarpet"
           }
          ],
          "heatmap": [
           {
            "colorbar": {
             "outlinewidth": 0,
             "ticks": ""
            },
            "colorscale": [
             [
              0,
              "#0d0887"
             ],
             [
              0.1111111111111111,
              "#46039f"
             ],
             [
              0.2222222222222222,
              "#7201a8"
             ],
             [
              0.3333333333333333,
              "#9c179e"
             ],
             [
              0.4444444444444444,
              "#bd3786"
             ],
             [
              0.5555555555555556,
              "#d8576b"
             ],
             [
              0.6666666666666666,
              "#ed7953"
             ],
             [
              0.7777777777777778,
              "#fb9f3a"
             ],
             [
              0.8888888888888888,
              "#fdca26"
             ],
             [
              1,
              "#f0f921"
             ]
            ],
            "type": "heatmap"
           }
          ],
          "heatmapgl": [
           {
            "colorbar": {
             "outlinewidth": 0,
             "ticks": ""
            },
            "colorscale": [
             [
              0,
              "#0d0887"
             ],
             [
              0.1111111111111111,
              "#46039f"
             ],
             [
              0.2222222222222222,
              "#7201a8"
             ],
             [
              0.3333333333333333,
              "#9c179e"
             ],
             [
              0.4444444444444444,
              "#bd3786"
             ],
             [
              0.5555555555555556,
              "#d8576b"
             ],
             [
              0.6666666666666666,
              "#ed7953"
             ],
             [
              0.7777777777777778,
              "#fb9f3a"
             ],
             [
              0.8888888888888888,
              "#fdca26"
             ],
             [
              1,
              "#f0f921"
             ]
            ],
            "type": "heatmapgl"
           }
          ],
          "histogram": [
           {
            "marker": {
             "pattern": {
              "fillmode": "overlay",
              "size": 10,
              "solidity": 0.2
             }
            },
            "type": "histogram"
           }
          ],
          "histogram2d": [
           {
            "colorbar": {
             "outlinewidth": 0,
             "ticks": ""
            },
            "colorscale": [
             [
              0,
              "#0d0887"
             ],
             [
              0.1111111111111111,
              "#46039f"
             ],
             [
              0.2222222222222222,
              "#7201a8"
             ],
             [
              0.3333333333333333,
              "#9c179e"
             ],
             [
              0.4444444444444444,
              "#bd3786"
             ],
             [
              0.5555555555555556,
              "#d8576b"
             ],
             [
              0.6666666666666666,
              "#ed7953"
             ],
             [
              0.7777777777777778,
              "#fb9f3a"
             ],
             [
              0.8888888888888888,
              "#fdca26"
             ],
             [
              1,
              "#f0f921"
             ]
            ],
            "type": "histogram2d"
           }
          ],
          "histogram2dcontour": [
           {
            "colorbar": {
             "outlinewidth": 0,
             "ticks": ""
            },
            "colorscale": [
             [
              0,
              "#0d0887"
             ],
             [
              0.1111111111111111,
              "#46039f"
             ],
             [
              0.2222222222222222,
              "#7201a8"
             ],
             [
              0.3333333333333333,
              "#9c179e"
             ],
             [
              0.4444444444444444,
              "#bd3786"
             ],
             [
              0.5555555555555556,
              "#d8576b"
             ],
             [
              0.6666666666666666,
              "#ed7953"
             ],
             [
              0.7777777777777778,
              "#fb9f3a"
             ],
             [
              0.8888888888888888,
              "#fdca26"
             ],
             [
              1,
              "#f0f921"
             ]
            ],
            "type": "histogram2dcontour"
           }
          ],
          "mesh3d": [
           {
            "colorbar": {
             "outlinewidth": 0,
             "ticks": ""
            },
            "type": "mesh3d"
           }
          ],
          "parcoords": [
           {
            "line": {
             "colorbar": {
              "outlinewidth": 0,
              "ticks": ""
             }
            },
            "type": "parcoords"
           }
          ],
          "pie": [
           {
            "automargin": true,
            "type": "pie"
           }
          ],
          "scatter": [
           {
            "fillpattern": {
             "fillmode": "overlay",
             "size": 10,
             "solidity": 0.2
            },
            "type": "scatter"
           }
          ],
          "scatter3d": [
           {
            "line": {
             "colorbar": {
              "outlinewidth": 0,
              "ticks": ""
             }
            },
            "marker": {
             "colorbar": {
              "outlinewidth": 0,
              "ticks": ""
             }
            },
            "type": "scatter3d"
           }
          ],
          "scattercarpet": [
           {
            "marker": {
             "colorbar": {
              "outlinewidth": 0,
              "ticks": ""
             }
            },
            "type": "scattercarpet"
           }
          ],
          "scattergeo": [
           {
            "marker": {
             "colorbar": {
              "outlinewidth": 0,
              "ticks": ""
             }
            },
            "type": "scattergeo"
           }
          ],
          "scattergl": [
           {
            "marker": {
             "colorbar": {
              "outlinewidth": 0,
              "ticks": ""
             }
            },
            "type": "scattergl"
           }
          ],
          "scattermapbox": [
           {
            "marker": {
             "colorbar": {
              "outlinewidth": 0,
              "ticks": ""
             }
            },
            "type": "scattermapbox"
           }
          ],
          "scatterpolar": [
           {
            "marker": {
             "colorbar": {
              "outlinewidth": 0,
              "ticks": ""
             }
            },
            "type": "scatterpolar"
           }
          ],
          "scatterpolargl": [
           {
            "marker": {
             "colorbar": {
              "outlinewidth": 0,
              "ticks": ""
             }
            },
            "type": "scatterpolargl"
           }
          ],
          "scatterternary": [
           {
            "marker": {
             "colorbar": {
              "outlinewidth": 0,
              "ticks": ""
             }
            },
            "type": "scatterternary"
           }
          ],
          "surface": [
           {
            "colorbar": {
             "outlinewidth": 0,
             "ticks": ""
            },
            "colorscale": [
             [
              0,
              "#0d0887"
             ],
             [
              0.1111111111111111,
              "#46039f"
             ],
             [
              0.2222222222222222,
              "#7201a8"
             ],
             [
              0.3333333333333333,
              "#9c179e"
             ],
             [
              0.4444444444444444,
              "#bd3786"
             ],
             [
              0.5555555555555556,
              "#d8576b"
             ],
             [
              0.6666666666666666,
              "#ed7953"
             ],
             [
              0.7777777777777778,
              "#fb9f3a"
             ],
             [
              0.8888888888888888,
              "#fdca26"
             ],
             [
              1,
              "#f0f921"
             ]
            ],
            "type": "surface"
           }
          ],
          "table": [
           {
            "cells": {
             "fill": {
              "color": "#EBF0F8"
             },
             "line": {
              "color": "white"
             }
            },
            "header": {
             "fill": {
              "color": "#C8D4E3"
             },
             "line": {
              "color": "white"
             }
            },
            "type": "table"
           }
          ]
         },
         "layout": {
          "annotationdefaults": {
           "arrowcolor": "#2a3f5f",
           "arrowhead": 0,
           "arrowwidth": 1
          },
          "autotypenumbers": "strict",
          "coloraxis": {
           "colorbar": {
            "outlinewidth": 0,
            "ticks": ""
           }
          },
          "colorscale": {
           "diverging": [
            [
             0,
             "#8e0152"
            ],
            [
             0.1,
             "#c51b7d"
            ],
            [
             0.2,
             "#de77ae"
            ],
            [
             0.3,
             "#f1b6da"
            ],
            [
             0.4,
             "#fde0ef"
            ],
            [
             0.5,
             "#f7f7f7"
            ],
            [
             0.6,
             "#e6f5d0"
            ],
            [
             0.7,
             "#b8e186"
            ],
            [
             0.8,
             "#7fbc41"
            ],
            [
             0.9,
             "#4d9221"
            ],
            [
             1,
             "#276419"
            ]
           ],
           "sequential": [
            [
             0,
             "#0d0887"
            ],
            [
             0.1111111111111111,
             "#46039f"
            ],
            [
             0.2222222222222222,
             "#7201a8"
            ],
            [
             0.3333333333333333,
             "#9c179e"
            ],
            [
             0.4444444444444444,
             "#bd3786"
            ],
            [
             0.5555555555555556,
             "#d8576b"
            ],
            [
             0.6666666666666666,
             "#ed7953"
            ],
            [
             0.7777777777777778,
             "#fb9f3a"
            ],
            [
             0.8888888888888888,
             "#fdca26"
            ],
            [
             1,
             "#f0f921"
            ]
           ],
           "sequentialminus": [
            [
             0,
             "#0d0887"
            ],
            [
             0.1111111111111111,
             "#46039f"
            ],
            [
             0.2222222222222222,
             "#7201a8"
            ],
            [
             0.3333333333333333,
             "#9c179e"
            ],
            [
             0.4444444444444444,
             "#bd3786"
            ],
            [
             0.5555555555555556,
             "#d8576b"
            ],
            [
             0.6666666666666666,
             "#ed7953"
            ],
            [
             0.7777777777777778,
             "#fb9f3a"
            ],
            [
             0.8888888888888888,
             "#fdca26"
            ],
            [
             1,
             "#f0f921"
            ]
           ]
          },
          "colorway": [
           "#636efa",
           "#EF553B",
           "#00cc96",
           "#ab63fa",
           "#FFA15A",
           "#19d3f3",
           "#FF6692",
           "#B6E880",
           "#FF97FF",
           "#FECB52"
          ],
          "font": {
           "color": "#2a3f5f"
          },
          "geo": {
           "bgcolor": "white",
           "lakecolor": "white",
           "landcolor": "#E5ECF6",
           "showlakes": true,
           "showland": true,
           "subunitcolor": "white"
          },
          "hoverlabel": {
           "align": "left"
          },
          "hovermode": "closest",
          "mapbox": {
           "style": "light"
          },
          "paper_bgcolor": "white",
          "plot_bgcolor": "#E5ECF6",
          "polar": {
           "angularaxis": {
            "gridcolor": "white",
            "linecolor": "white",
            "ticks": ""
           },
           "bgcolor": "#E5ECF6",
           "radialaxis": {
            "gridcolor": "white",
            "linecolor": "white",
            "ticks": ""
           }
          },
          "scene": {
           "xaxis": {
            "backgroundcolor": "#E5ECF6",
            "gridcolor": "white",
            "gridwidth": 2,
            "linecolor": "white",
            "showbackground": true,
            "ticks": "",
            "zerolinecolor": "white"
           },
           "yaxis": {
            "backgroundcolor": "#E5ECF6",
            "gridcolor": "white",
            "gridwidth": 2,
            "linecolor": "white",
            "showbackground": true,
            "ticks": "",
            "zerolinecolor": "white"
           },
           "zaxis": {
            "backgroundcolor": "#E5ECF6",
            "gridcolor": "white",
            "gridwidth": 2,
            "linecolor": "white",
            "showbackground": true,
            "ticks": "",
            "zerolinecolor": "white"
           }
          },
          "shapedefaults": {
           "line": {
            "color": "#2a3f5f"
           }
          },
          "ternary": {
           "aaxis": {
            "gridcolor": "white",
            "linecolor": "white",
            "ticks": ""
           },
           "baxis": {
            "gridcolor": "white",
            "linecolor": "white",
            "ticks": ""
           },
           "bgcolor": "#E5ECF6",
           "caxis": {
            "gridcolor": "white",
            "linecolor": "white",
            "ticks": ""
           }
          },
          "title": {
           "x": 0.05
          },
          "xaxis": {
           "automargin": true,
           "gridcolor": "white",
           "linecolor": "white",
           "ticks": "",
           "title": {
            "standoff": 15
           },
           "zerolinecolor": "white",
           "zerolinewidth": 2
          },
          "yaxis": {
           "automargin": true,
           "gridcolor": "white",
           "linecolor": "white",
           "ticks": "",
           "title": {
            "standoff": 15
           },
           "zerolinecolor": "white",
           "zerolinewidth": 2
          }
         }
        },
        "title": {
         "text": "Top 5 Endocrine Disruptors in Each Category"
        },
        "xaxis": {
         "anchor": "y",
         "domain": [
          0,
          1
         ],
         "title": {
          "text": "Endocrine Disruptors"
         }
        },
        "yaxis": {
         "anchor": "x",
         "domain": [
          0,
          1
         ],
         "title": {
          "text": "Count"
         }
        }
       }
      }
     },
     "metadata": {},
     "output_type": "display_data"
    }
   ],
   "source": [
    "# Step 1: Filter the DataFrame to include only products with endocrine disruptors\n",
    "disruptor_products = final_ingredients_df[final_ingredients_df['number_disruptors'] > 0]\n",
    "print(\"Filtered products with disruptors:\", disruptor_products.shape)\n",
    "\n",
    "# Step 2: Create a new DataFrame to count the occurrences of each disruptor by category\n",
    "# Assuming 'endocrine_disruptors_found' is a list of disruptors for each product\n",
    "disruptor_counts = disruptor_products.explode('endocrine_disruptors_found')  # Exploding the list column\n",
    "print(\"Disruptor counts after exploding:\", disruptor_counts.shape)\n",
    "\n",
    "# Count the occurrences of each disruptor by category\n",
    "disruptor_counts = disruptor_counts.groupby(['category', 'endocrine_disruptors_found']).size().reset_index(name='count')\n",
    "print(\"Disruptor counts grouped by category:\", disruptor_counts.head())\n",
    "\n",
    "# Step 3: Get the top 5 disruptors for each category\n",
    "top_disruptors = disruptor_counts.sort_values(['category', 'count'], ascending=[True, False]) \\\n",
    "                                   .groupby('category') \\\n",
    "                                   .head(5)\n",
    "print(\"Top 5 disruptors in each category:\", top_disruptors)\n",
    "\n",
    "# Step 4: Display the results as a table\n",
    "print(\"Top 5 Endocrine Disruptors in Each Category:\")\n",
    "print(top_disruptors)\n",
    "\n",
    "# Step 5: Create a bar chart to visualize the top disruptors in each category\n",
    "if not top_disruptors.empty:  # Check if the DataFrame is not empty\n",
    "    fig = px.bar(top_disruptors,\n",
    "                 x='endocrine_disruptors_found',  # Correct column name for disruptors\n",
    "                 y='count',\n",
    "                 color='category',\n",
    "                 barmode='group',\n",
    "                 title='Top 5 Endocrine Disruptors in Each Category',\n",
    "                 labels={'endocrine_disruptors_found': 'Endocrine Disruptors', 'count': 'Count'},\n",
    "                 text='count')  # Adding text labels for counts\n",
    "\n",
    "    # Show the plot\n",
    "    fig.show()\n",
    "else:\n",
    "    print(\"No top disruptors to display.\")\n"
   ]
  }
 ],
 "metadata": {
  "kernelspec": {
   "display_name": "base",
   "language": "python",
   "name": "python3"
  },
  "language_info": {
   "codemirror_mode": {
    "name": "ipython",
    "version": 3
   },
   "file_extension": ".py",
   "mimetype": "text/x-python",
   "name": "python",
   "nbconvert_exporter": "python",
   "pygments_lexer": "ipython3",
   "version": "3.12.4"
  }
 },
 "nbformat": 4,
 "nbformat_minor": 2
}
